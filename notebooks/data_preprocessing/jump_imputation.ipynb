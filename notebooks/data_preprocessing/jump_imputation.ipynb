{
 "cells": [
  {
   "cell_type": "code",
   "execution_count": null,
   "metadata": {
    "id": "sf3pL3ezMCsi"
   },
   "outputs": [],
   "source": [
    "!pip install anndata"
   ]
  },
  {
   "cell_type": "code",
   "execution_count": 17,
   "metadata": {
    "executionInfo": {
     "elapsed": 817,
     "status": "ok",
     "timestamp": 1691601645903,
     "user": {
      "displayName": "Sarah",
      "userId": "00540670817193115320"
     },
     "user_tz": -120
    },
    "id": "yrFwk5M5McS0"
   },
   "outputs": [],
   "source": [
    "import anndata as ad\n",
    "import pandas as pd\n",
    "import numpy as np\n",
    "import os\n",
    "import matplotlib.pyplot as plt"
   ]
  },
  {
   "cell_type": "code",
   "execution_count": 4,
   "metadata": {
    "colab": {
     "base_uri": "https://localhost:8080/"
    },
    "executionInfo": {
     "elapsed": 26678,
     "status": "ok",
     "timestamp": 1691599701812,
     "user": {
      "displayName": "Sarah",
      "userId": "00540670817193115320"
     },
     "user_tz": -120
    },
    "id": "wDum5gzdDmRG",
    "outputId": "00d5a848-0171-4033-d48d-3e8910e80d38"
   },
   "outputs": [
    {
     "name": "stdout",
     "output_type": "stream",
     "text": [
      "Mounted at /content/gdrive\n"
     ]
    }
   ],
   "source": [
    "%load_ext autoreload\n",
    "%autoreload 2\n",
    "from google.colab import drive\n",
    "import os\n",
    "gdrive_path='/content/gdrive/MyDrive/Masterpraktikum'\n",
    "drive.mount('/content/gdrive', force_remount=True)\n",
    "os.chdir(gdrive_path)"
   ]
  },
  {
   "cell_type": "markdown",
   "metadata": {
    "id": "3Jfsa0y8MYzv"
   },
   "source": [
    "# Imputation of missing values in the JUMP dataset"
   ]
  },
  {
   "cell_type": "markdown",
   "metadata": {
    "id": "1RqFxblnMCsp"
   },
   "source": [
    "## Data\n",
    "\n",
    "The data contains the sentinel plates (TARGET2) and the positive and negative controls from the production plates (COMPOUND). There are 8 different positive controls and DMSO is used as negative control.\n",
    "\n",
    "All 4762 features were loaded.\n",
    "\n",
    "The data stems from the principal data set (cpg0016) which uses human U2OS osteosarcoma cells."
   ]
  },
  {
   "cell_type": "markdown",
   "metadata": {
    "id": "pOFQivZuMCtC"
   },
   "source": [
    "**Let's have a look at the missing values**\n",
    "1. Let us first only consider the TARGET2 plates."
   ]
  },
  {
   "cell_type": "code",
   "execution_count": 5,
   "metadata": {
    "colab": {
     "base_uri": "https://localhost:8080/"
    },
    "executionInfo": {
     "elapsed": 45545,
     "status": "ok",
     "timestamp": 1691600934800,
     "user": {
      "displayName": "Sarah",
      "userId": "00540670817193115320"
     },
     "user_tz": -120
    },
    "id": "92i-405i5RaV",
    "outputId": "ad1daa8b-b109-4f81-f4a7-d305f203fefc"
   },
   "outputs": [
    {
     "name": "stderr",
     "output_type": "stream",
     "text": [
      "/usr/local/lib/python3.10/dist-packages/anndata/_core/anndata.py:121: ImplicitModificationWarning: Transforming to str index.\n",
      "  warnings.warn(\"Transforming to str index.\", ImplicitModificationWarning)\n"
     ]
    },
    {
     "data": {
      "text/plain": [
       "AnnData object with n_obs × n_vars = 64464 × 4762\n",
       "    obs: 'Metadata_Source', 'Metadata_Plate', 'Metadata_Well', 'Metadata_JCP2022', 'Metadata_InChIKey', 'Metadata_InChI', 'Metadata_Microscope_Name', 'Metadata_Widefield_vs_Confocal', 'Metadata_Excitation_Type', 'Metadata_Sites_Per_Well', 'broad_sample', 'InChIKey', 'pert_iname', 'pubchem_cid', 'target', 'pert_type', 'control_type', 'smiles'"
      ]
     },
     "execution_count": 5,
     "metadata": {},
     "output_type": "execute_result"
    }
   ],
   "source": [
    "adata_target2 = ad.read_h5ad(\"/content/gdrive/MyDrive/Masterpraktikum/Blockteil/target2_md.h5ad\")\n",
    "adata_target2"
   ]
  },
  {
   "cell_type": "markdown",
   "metadata": {
    "id": "fg_0-T-tRWtg"
   },
   "source": [
    "How many inf/nan values do we have in total?"
   ]
  },
  {
   "cell_type": "code",
   "execution_count": 6,
   "metadata": {
    "colab": {
     "base_uri": "https://localhost:8080/"
    },
    "executionInfo": {
     "elapsed": 2116,
     "status": "ok",
     "timestamp": 1691601034822,
     "user": {
      "displayName": "Sarah",
      "userId": "00540670817193115320"
     },
     "user_tz": -120
    },
    "id": "DVRwHjD1MCtD",
    "outputId": "5f163034-a119-4b37-f260-7dc0f6ee505b"
   },
   "outputs": [
    {
     "name": "stdout",
     "output_type": "stream",
     "text": [
      "Number of inf: 33\n",
      "Number of nan: 5261\n"
     ]
    }
   ],
   "source": [
    "print(f\"Number of inf: {np.sum(np.isinf(adata_target2.X))}\")\n",
    "print(f\"Number of nan: {np.sum(np.isnan(adata_target2.X))}\")"
   ]
  },
  {
   "cell_type": "markdown",
   "metadata": {
    "id": "rmYrsOlTR605"
   },
   "source": [
    "What does the distribution of percentages of inf/nan values of the features look like?"
   ]
  },
  {
   "cell_type": "code",
   "execution_count": 7,
   "metadata": {
    "executionInfo": {
     "elapsed": 1405,
     "status": "ok",
     "timestamp": 1691601285886,
     "user": {
      "displayName": "Sarah",
      "userId": "00540670817193115320"
     },
     "user_tz": -120
    },
    "id": "Sqz5sGqlSsD7"
   },
   "outputs": [],
   "source": [
    "adata_target2.X[np.isinf(adata_target2.X)] = np.nan"
   ]
  },
  {
   "cell_type": "code",
   "execution_count": 12,
   "metadata": {
    "colab": {
     "base_uri": "https://localhost:8080/"
    },
    "executionInfo": {
     "elapsed": 1470,
     "status": "ok",
     "timestamp": 1691601562935,
     "user": {
      "displayName": "Sarah",
      "userId": "00540670817193115320"
     },
     "user_tz": -120
    },
    "id": "kvI66BxuR5sI",
    "outputId": "9f3679ef-96c9-4d84-cae1-04aa33f0959b"
   },
   "outputs": [
    {
     "data": {
      "text/plain": [
       "array([0., 0., 0., ..., 0., 0., 0.])"
      ]
     },
     "execution_count": 12,
     "metadata": {},
     "output_type": "execute_result"
    }
   ],
   "source": [
    "percentages = np.isnan(adata_target2.X).sum(axis=0) * 100 / adata_target2.X.shape[0]\n",
    "percentages"
   ]
  },
  {
   "cell_type": "code",
   "execution_count": 16,
   "metadata": {
    "colab": {
     "base_uri": "https://localhost:8080/"
    },
    "executionInfo": {
     "elapsed": 9,
     "status": "ok",
     "timestamp": 1691601588209,
     "user": {
      "displayName": "Sarah",
      "userId": "00540670817193115320"
     },
     "user_tz": -120
    },
    "id": "t_d--WtMR5wA",
    "outputId": "38fb5033-9fe5-4513-ddc9-59cacec3a1b3"
   },
   "outputs": [
    {
     "data": {
      "text/plain": [
       "6.74795234549516"
      ]
     },
     "execution_count": 16,
     "metadata": {},
     "output_type": "execute_result"
    }
   ],
   "source": [
    "max(percentages)"
   ]
  },
  {
   "cell_type": "code",
   "execution_count": 25,
   "metadata": {
    "colab": {
     "base_uri": "https://localhost:8080/"
    },
    "executionInfo": {
     "elapsed": 502,
     "status": "ok",
     "timestamp": 1691602084521,
     "user": {
      "displayName": "Sarah",
      "userId": "00540670817193115320"
     },
     "user_tz": -120
    },
    "id": "x4JKjGh5VwDV",
    "outputId": "a8982f7c-656b-47ca-9009-f00610f5a94d"
   },
   "outputs": [
    {
     "data": {
      "text/plain": [
       "11"
      ]
     },
     "execution_count": 25,
     "metadata": {},
     "output_type": "execute_result"
    }
   ],
   "source": [
    "len(percentages[percentages > 0])"
   ]
  },
  {
   "cell_type": "code",
   "execution_count": 28,
   "metadata": {
    "colab": {
     "base_uri": "https://localhost:8080/"
    },
    "executionInfo": {
     "elapsed": 390,
     "status": "ok",
     "timestamp": 1691602200629,
     "user": {
      "displayName": "Sarah",
      "userId": "00540670817193115320"
     },
     "user_tz": -120
    },
    "id": "OxHq6mWTWP-i",
    "outputId": "5ad0558f-4ecd-4946-9d5b-1d44a6a209dc"
   },
   "outputs": [
    {
     "data": {
      "text/plain": [
       "array([6.74795235, 0.01085877, 0.01085877, 0.01551253, 0.01551253,\n",
       "       0.01085877, 0.01085877, 1.34338546, 0.01396128, 0.01861504,\n",
       "       0.01396128])"
      ]
     },
     "execution_count": 28,
     "metadata": {},
     "output_type": "execute_result"
    }
   ],
   "source": [
    "percentages[percentages > 0]"
   ]
  },
  {
   "cell_type": "code",
   "execution_count": 24,
   "metadata": {
    "colab": {
     "base_uri": "https://localhost:8080/",
     "height": 430
    },
    "executionInfo": {
     "elapsed": 453,
     "status": "ok",
     "timestamp": 1691602000925,
     "user": {
      "displayName": "Sarah",
      "userId": "00540670817193115320"
     },
     "user_tz": -120
    },
    "id": "eInncqYjVbtk",
    "outputId": "08bc3e44-e119-4c7d-9197-645dff8c65eb"
   },
   "outputs": [
    {
     "data": {
      "image/png": "[encoded data removed]",
      "text/plain": [
       "<Figure size 640x480 with 1 Axes>"
      ]
     },
     "metadata": {},
     "output_type": "display_data"
    }
   ],
   "source": [
    "plt.hist(percentages[percentages > 0], bins = 30)\n",
    "plt.show()"
   ]
  },
  {
   "cell_type": "markdown",
   "metadata": {
    "id": "0Vpitls8We5R"
   },
   "source": [
    "2. Let's have a look at the Target2 plates **and** the controls of the COMPOUND plates"
   ]
  },
  {
   "cell_type": "code",
   "execution_count": null,
   "metadata": {
    "id": "SbR1qRzrW3OS"
   },
   "outputs": [],
   "source": [
    "data_file = \"../../data/jump/jump_raw.h5ad\"\n",
    "if not os.path.exists(data_file):\n",
    "    raise FileNotFoundError(\"Please create the data file by downloading the JUMP data and creating an AnnData object.\")"
   ]
  },
  {
   "cell_type": "code",
   "execution_count": null,
   "metadata": {
    "id": "aWXfqJiRW3OV",
    "outputId": "19b3e7f0-a14f-4222-ece8-d3ce64e6ba67"
   },
   "outputs": [
    {
     "name": "stderr",
     "output_type": "stream",
     "text": [
      "/home/stockhaus/miniconda3/envs/mp/lib/python3.9/site-packages/anndata/_core/anndata.py:117: ImplicitModificationWarning: Transforming to str index.\n",
      "  warnings.warn(\"Transforming to str index.\", ImplicitModificationWarning)\n"
     ]
    },
    {
     "name": "stdout",
     "output_type": "stream",
     "text": [
      "AnnData object with n_obs × n_vars = 215995 × 4762\n",
      "    obs: 'Metadata_JCP2022', 'Metadata_InChIKey', 'Metadata_InChI', 'Metadata_Source', 'Metadata_Plate', 'Metadata_Well', 'Metadata_PlateType'\n"
     ]
    },
    {
     "data": {
      "text/html": [
       "<div>\n",
       "<style scoped>\n",
       "    .dataframe tbody tr th:only-of-type {\n",
       "        vertical-align: middle;\n",
       "    }\n",
       "\n",
       "    .dataframe tbody tr th {\n",
       "        vertical-align: top;\n",
       "    }\n",
       "\n",
       "    .dataframe thead th {\n",
       "        text-align: right;\n",
       "    }\n",
       "</style>\n",
       "<table border=\"1\" class=\"dataframe\">\n",
       "  <thead>\n",
       "    <tr style=\"text-align: right;\">\n",
       "      <th></th>\n",
       "      <th>Metadata_JCP2022</th>\n",
       "      <th>Metadata_InChIKey</th>\n",
       "      <th>Metadata_InChI</th>\n",
       "      <th>Metadata_Source</th>\n",
       "      <th>Metadata_Plate</th>\n",
       "      <th>Metadata_Well</th>\n",
       "      <th>Metadata_PlateType</th>\n",
       "    </tr>\n",
       "  </thead>\n",
       "  <tbody>\n",
       "    <tr>\n",
       "      <th>0</th>\n",
       "      <td>JCP2022_000794</td>\n",
       "      <td>AECDBHGVIIRMOI-UHFFFAOYSA-N</td>\n",
       "      <td>InChI=1S/C27H29N5O/c28-26-25-24(21-8-4-9-23(14...</td>\n",
       "      <td>source_10</td>\n",
       "      <td>Dest210726-160150</td>\n",
       "      <td>G21</td>\n",
       "      <td>TARGET2</td>\n",
       "    </tr>\n",
       "    <tr>\n",
       "      <th>1</th>\n",
       "      <td>JCP2022_000794</td>\n",
       "      <td>AECDBHGVIIRMOI-UHFFFAOYSA-N</td>\n",
       "      <td>InChI=1S/C27H29N5O/c28-26-25-24(21-8-4-9-23(14...</td>\n",
       "      <td>source_10</td>\n",
       "      <td>Dest210727-153003</td>\n",
       "      <td>G21</td>\n",
       "      <td>TARGET2</td>\n",
       "    </tr>\n",
       "    <tr>\n",
       "      <th>2</th>\n",
       "      <td>JCP2022_000794</td>\n",
       "      <td>AECDBHGVIIRMOI-UHFFFAOYSA-N</td>\n",
       "      <td>InChI=1S/C27H29N5O/c28-26-25-24(21-8-4-9-23(14...</td>\n",
       "      <td>source_10</td>\n",
       "      <td>Dest210803-153958</td>\n",
       "      <td>G21</td>\n",
       "      <td>TARGET2</td>\n",
       "    </tr>\n",
       "    <tr>\n",
       "      <th>3</th>\n",
       "      <td>JCP2022_000794</td>\n",
       "      <td>AECDBHGVIIRMOI-UHFFFAOYSA-N</td>\n",
       "      <td>InChI=1S/C27H29N5O/c28-26-25-24(21-8-4-9-23(14...</td>\n",
       "      <td>source_10</td>\n",
       "      <td>Dest210809-134534</td>\n",
       "      <td>G21</td>\n",
       "      <td>TARGET2</td>\n",
       "    </tr>\n",
       "    <tr>\n",
       "      <th>4</th>\n",
       "      <td>JCP2022_000794</td>\n",
       "      <td>AECDBHGVIIRMOI-UHFFFAOYSA-N</td>\n",
       "      <td>InChI=1S/C27H29N5O/c28-26-25-24(21-8-4-9-23(14...</td>\n",
       "      <td>source_10</td>\n",
       "      <td>Dest210810-173723</td>\n",
       "      <td>G21</td>\n",
       "      <td>TARGET2</td>\n",
       "    </tr>\n",
       "  </tbody>\n",
       "</table>\n",
       "</div>"
      ],
      "text/plain": [
       "  Metadata_JCP2022            Metadata_InChIKey   \n",
       "0   JCP2022_000794  AECDBHGVIIRMOI-UHFFFAOYSA-N  \\\n",
       "1   JCP2022_000794  AECDBHGVIIRMOI-UHFFFAOYSA-N   \n",
       "2   JCP2022_000794  AECDBHGVIIRMOI-UHFFFAOYSA-N   \n",
       "3   JCP2022_000794  AECDBHGVIIRMOI-UHFFFAOYSA-N   \n",
       "4   JCP2022_000794  AECDBHGVIIRMOI-UHFFFAOYSA-N   \n",
       "\n",
       "                                      Metadata_InChI Metadata_Source   \n",
       "0  InChI=1S/C27H29N5O/c28-26-25-24(21-8-4-9-23(14...       source_10  \\\n",
       "1  InChI=1S/C27H29N5O/c28-26-25-24(21-8-4-9-23(14...       source_10   \n",
       "2  InChI=1S/C27H29N5O/c28-26-25-24(21-8-4-9-23(14...       source_10   \n",
       "3  InChI=1S/C27H29N5O/c28-26-25-24(21-8-4-9-23(14...       source_10   \n",
       "4  InChI=1S/C27H29N5O/c28-26-25-24(21-8-4-9-23(14...       source_10   \n",
       "\n",
       "      Metadata_Plate Metadata_Well Metadata_PlateType  \n",
       "0  Dest210726-160150           G21            TARGET2  \n",
       "1  Dest210727-153003           G21            TARGET2  \n",
       "2  Dest210803-153958           G21            TARGET2  \n",
       "3  Dest210809-134534           G21            TARGET2  \n",
       "4  Dest210810-173723           G21            TARGET2  "
      ]
     },
     "execution_count": 3,
     "metadata": {},
     "output_type": "execute_result"
    }
   ],
   "source": [
    "adata = sc.read_h5ad(data_file)\n",
    "print(adata)\n",
    "adata.obs.head()"
   ]
  },
  {
   "cell_type": "code",
   "execution_count": null,
   "metadata": {
    "id": "7gxMMxixW3Oq",
    "outputId": "afb099db-a700-4340-f5bf-1cd562d26e1d"
   },
   "outputs": [
    {
     "name": "stdout",
     "output_type": "stream",
     "text": [
      "Number of inf: 160\n",
      "Number of nan: 17160\n"
     ]
    }
   ],
   "source": [
    "print(f\"Number of inf: {np.sum(np.isinf(adata.X))}\")\n",
    "print(f\"Number of nan: {np.sum(np.isnan(adata.X))}\")"
   ]
  },
  {
   "cell_type": "code",
   "execution_count": null,
   "metadata": {
    "id": "gPTF1OxDW3Os"
   },
   "outputs": [],
   "source": [
    "adata.X[np.isinf(adata.X)] = np.nan"
   ]
  },
  {
   "cell_type": "code",
   "execution_count": null,
   "metadata": {
    "id": "jsFengvPW3Ot"
   },
   "outputs": [],
   "source": [
    "nan_count = np.count_nonzero(np.isnan(adata.X), axis=0)"
   ]
  },
  {
   "cell_type": "code",
   "execution_count": null,
   "metadata": {
    "id": "SP3BfixfW3Ow",
    "outputId": "c903de39-a9ef-4d1a-b7ad-827dbd273103"
   },
   "outputs": [
    {
     "data": {
      "text/plain": [
       "array([    0,     0,     0,     0,     0,     0,     0, ...,    25,    25,\n",
       "          71,   114,   114,  2765, 14120])"
      ]
     },
     "execution_count": 28,
     "metadata": {},
     "output_type": "execute_result"
    }
   ],
   "source": [
    "np.sort(nan_count)"
   ]
  },
  {
   "cell_type": "code",
   "execution_count": null,
   "metadata": {
    "id": "lkk7sqNKW3Oy",
    "outputId": "6bc0fd69-492b-41c9-aff2-4515d2a3976f"
   },
   "outputs": [
    {
     "data": {
      "text/plain": [
       "'Cells_AreaShape_FormFactor'"
      ]
     },
     "execution_count": 29,
     "metadata": {},
     "output_type": "execute_result"
    }
   ],
   "source": [
    "adata.var.index.values[np.where(nan_count == np.max(nan_count))[0][0]]"
   ]
  },
  {
   "cell_type": "markdown",
   "metadata": {
    "id": "qYc4zz0VW3Oz"
   },
   "source": [
    "One feature (Cells_AreaShape_FormFactor) has quite high number (14 120) of nan values. Among the total number of observations (215 995), this is about 6.5%. The feature with the next highest number of nan values has a fraction of about 1.3%, all other features have below 0.06% nan values."
   ]
  },
  {
   "cell_type": "code",
   "execution_count": null,
   "metadata": {
    "id": "97Ql2GRcU0xj"
   },
   "outputs": [],
   "source": []
  }
 ],
 "metadata": {
  "colab": {
   "provenance": []
  },
  "kernelspec": {
   "display_name": "Python 3 (ipykernel)",
   "language": "python",
   "name": "python3"
  },
  "language_info": {
   "codemirror_mode": {
    "name": "ipython",
    "version": 3
   },
   "file_extension": ".py",
   "mimetype": "text/x-python",
   "name": "python",
   "nbconvert_exporter": "python",
   "pygments_lexer": "ipython3",
   "version": "3.8.5"
  }
 },
 "nbformat": 4,
 "nbformat_minor": 1
}
