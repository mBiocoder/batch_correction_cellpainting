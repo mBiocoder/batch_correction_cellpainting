{
 "cells": [
  {
   "cell_type": "code",
   "execution_count": 2,
   "metadata": {
    "executionInfo": {
     "elapsed": 817,
     "status": "ok",
     "timestamp": 1691601645903,
     "user": {
      "displayName": "Sarah",
      "userId": "00540670817193115320"
     },
     "user_tz": -120
    },
    "id": "yrFwk5M5McS0"
   },
   "outputs": [],
   "source": [
    "import anndata as ad\n",
    "import pandas as pd\n",
    "import numpy as np\n",
    "import os\n",
    "import matplotlib.pyplot as plt\n",
    "import scanpy as sc"
   ]
  },
  {
   "cell_type": "markdown",
   "metadata": {
    "id": "3Jfsa0y8MYzv"
   },
   "source": [
    "# Imputation of missing values in the JUMP dataset"
   ]
  },
  {
   "cell_type": "markdown",
   "metadata": {},
   "source": [
    "This notebook should prepare the JUMP TARGET2 data for downstream usage by removing `inf`, imputing `nan` values and removing certain features."
   ]
  },
  {
   "cell_type": "markdown",
   "metadata": {},
   "source": [
    "**Read the data**"
   ]
  },
  {
   "cell_type": "code",
   "execution_count": 3,
   "metadata": {},
   "outputs": [],
   "source": [
    "data_file = \"../../data/jump/jump_target2.h5ad\"\n",
    "if not os.path.exists(data_file):\n",
    "    raise FileNotFoundError(\"Please create the anndata object by running data/jump/download_jump.py and subsetting it to the TARGET2 plates\")"
   ]
  },
  {
   "cell_type": "code",
   "execution_count": 4,
   "metadata": {},
   "outputs": [
    {
     "name": "stdout",
     "output_type": "stream",
     "text": [
      "AnnData object with n_obs × n_vars = 64464 × 4762\n",
      "    obs: 'Metadata_JCP2022', 'Metadata_InChIKey', 'Metadata_InChI', 'Metadata_Source', 'Metadata_Plate', 'Metadata_Well', 'Metadata_PlateType', 'Metadata_WellType', 'Metadata_Microscope_Name', 'Metadata_Widefield_vs_Confocal', 'Metadata_Excitation_Type', 'Metadata_Objective_NA', 'Metadata_N_Brightfield_Planes_Min', 'Metadata_N_Brightfield_Planes_Max', 'Metadata_Distance_Between_Z_Microns', 'Metadata_Sites_Per_Well', 'Metadata_Filter_Configuration', 'Metadata_Excitation_Low_DNA', 'Metadata_Excitation_Low_ER', 'Metadata_Excitation_Low_RNA', 'Metadata_Excitation_Low_AGP', 'Metadata_Excitation_Low_Mito', 'Metadata_Excitation_High_DNA', 'Metadata_Excitation_High_ER', 'Metadata_Excitation_High_RNA', 'Metadata_Excitation_High_AGP', 'Metadata_Excitation_High_Mito', 'Metadata_Emission_Low_DNA', 'Metadata_Emission_Low_ER', 'Metadata_Emission_Low_RNA', 'Metadata_Emission_Low_AGP', 'Metadata_Emission_Low_Mito', 'Metadata_Emission_High_DNA', 'Metadata_Emission_High_ER', 'Metadata_Emission_High_RNA', 'Metadata_Emission_High_AGP', 'Metadata_Emission_High_Mito', 'Metadata_FPBase_Config', 'broad_sample', 'InChIKey', 'pert_iname', 'pubchem_cid', 'target', 'pert_type', 'control_type', 'smiles'\n"
     ]
    },
    {
     "data": {
      "text/html": [
       "<div>\n",
       "<style scoped>\n",
       "    .dataframe tbody tr th:only-of-type {\n",
       "        vertical-align: middle;\n",
       "    }\n",
       "\n",
       "    .dataframe tbody tr th {\n",
       "        vertical-align: top;\n",
       "    }\n",
       "\n",
       "    .dataframe thead th {\n",
       "        text-align: right;\n",
       "    }\n",
       "</style>\n",
       "<table border=\"1\" class=\"dataframe\">\n",
       "  <thead>\n",
       "    <tr style=\"text-align: right;\">\n",
       "      <th></th>\n",
       "      <th>Metadata_JCP2022</th>\n",
       "      <th>Metadata_InChIKey</th>\n",
       "      <th>Metadata_InChI</th>\n",
       "      <th>Metadata_Source</th>\n",
       "      <th>Metadata_Plate</th>\n",
       "      <th>Metadata_Well</th>\n",
       "      <th>Metadata_PlateType</th>\n",
       "      <th>Metadata_WellType</th>\n",
       "      <th>Metadata_Microscope_Name</th>\n",
       "      <th>Metadata_Widefield_vs_Confocal</th>\n",
       "      <th>...</th>\n",
       "      <th>Metadata_Emission_High_Mito</th>\n",
       "      <th>Metadata_FPBase_Config</th>\n",
       "      <th>broad_sample</th>\n",
       "      <th>InChIKey</th>\n",
       "      <th>pert_iname</th>\n",
       "      <th>pubchem_cid</th>\n",
       "      <th>target</th>\n",
       "      <th>pert_type</th>\n",
       "      <th>control_type</th>\n",
       "      <th>smiles</th>\n",
       "    </tr>\n",
       "  </thead>\n",
       "  <tbody>\n",
       "    <tr>\n",
       "      <th>0</th>\n",
       "      <td>JCP2022_000794</td>\n",
       "      <td>AECDBHGVIIRMOI-UHFFFAOYSA-N</td>\n",
       "      <td>InChI=1S/C27H29N5O/c28-26-25-24(21-8-4-9-23(14...</td>\n",
       "      <td>source_10</td>\n",
       "      <td>Dest210726-160150</td>\n",
       "      <td>G21</td>\n",
       "      <td>TARGET2</td>\n",
       "      <td>treatment</td>\n",
       "      <td>CV8000</td>\n",
       "      <td>Confocal</td>\n",
       "      <td>...</td>\n",
       "      <td>690.5</td>\n",
       "      <td>http://broad.io/JUMPProductionConfigCV8000</td>\n",
       "      <td>NaN</td>\n",
       "      <td>NaN</td>\n",
       "      <td>NaN</td>\n",
       "      <td>NaN</td>\n",
       "      <td>NaN</td>\n",
       "      <td>NaN</td>\n",
       "      <td>NaN</td>\n",
       "      <td>NaN</td>\n",
       "    </tr>\n",
       "    <tr>\n",
       "      <th>1</th>\n",
       "      <td>JCP2022_000794</td>\n",
       "      <td>AECDBHGVIIRMOI-UHFFFAOYSA-N</td>\n",
       "      <td>InChI=1S/C27H29N5O/c28-26-25-24(21-8-4-9-23(14...</td>\n",
       "      <td>source_10</td>\n",
       "      <td>Dest210727-153003</td>\n",
       "      <td>G21</td>\n",
       "      <td>TARGET2</td>\n",
       "      <td>treatment</td>\n",
       "      <td>CV8000</td>\n",
       "      <td>Confocal</td>\n",
       "      <td>...</td>\n",
       "      <td>690.5</td>\n",
       "      <td>http://broad.io/JUMPProductionConfigCV8000</td>\n",
       "      <td>NaN</td>\n",
       "      <td>NaN</td>\n",
       "      <td>NaN</td>\n",
       "      <td>NaN</td>\n",
       "      <td>NaN</td>\n",
       "      <td>NaN</td>\n",
       "      <td>NaN</td>\n",
       "      <td>NaN</td>\n",
       "    </tr>\n",
       "    <tr>\n",
       "      <th>2</th>\n",
       "      <td>JCP2022_000794</td>\n",
       "      <td>AECDBHGVIIRMOI-UHFFFAOYSA-N</td>\n",
       "      <td>InChI=1S/C27H29N5O/c28-26-25-24(21-8-4-9-23(14...</td>\n",
       "      <td>source_10</td>\n",
       "      <td>Dest210803-153958</td>\n",
       "      <td>G21</td>\n",
       "      <td>TARGET2</td>\n",
       "      <td>treatment</td>\n",
       "      <td>CV8000</td>\n",
       "      <td>Confocal</td>\n",
       "      <td>...</td>\n",
       "      <td>690.5</td>\n",
       "      <td>http://broad.io/JUMPProductionConfigCV8000</td>\n",
       "      <td>NaN</td>\n",
       "      <td>NaN</td>\n",
       "      <td>NaN</td>\n",
       "      <td>NaN</td>\n",
       "      <td>NaN</td>\n",
       "      <td>NaN</td>\n",
       "      <td>NaN</td>\n",
       "      <td>NaN</td>\n",
       "    </tr>\n",
       "    <tr>\n",
       "      <th>3</th>\n",
       "      <td>JCP2022_000794</td>\n",
       "      <td>AECDBHGVIIRMOI-UHFFFAOYSA-N</td>\n",
       "      <td>InChI=1S/C27H29N5O/c28-26-25-24(21-8-4-9-23(14...</td>\n",
       "      <td>source_10</td>\n",
       "      <td>Dest210809-134534</td>\n",
       "      <td>G21</td>\n",
       "      <td>TARGET2</td>\n",
       "      <td>treatment</td>\n",
       "      <td>CV8000</td>\n",
       "      <td>Confocal</td>\n",
       "      <td>...</td>\n",
       "      <td>690.5</td>\n",
       "      <td>http://broad.io/JUMPProductionConfigCV8000</td>\n",
       "      <td>NaN</td>\n",
       "      <td>NaN</td>\n",
       "      <td>NaN</td>\n",
       "      <td>NaN</td>\n",
       "      <td>NaN</td>\n",
       "      <td>NaN</td>\n",
       "      <td>NaN</td>\n",
       "      <td>NaN</td>\n",
       "    </tr>\n",
       "    <tr>\n",
       "      <th>4</th>\n",
       "      <td>JCP2022_000794</td>\n",
       "      <td>AECDBHGVIIRMOI-UHFFFAOYSA-N</td>\n",
       "      <td>InChI=1S/C27H29N5O/c28-26-25-24(21-8-4-9-23(14...</td>\n",
       "      <td>source_10</td>\n",
       "      <td>Dest210810-173723</td>\n",
       "      <td>G21</td>\n",
       "      <td>TARGET2</td>\n",
       "      <td>treatment</td>\n",
       "      <td>CV8000</td>\n",
       "      <td>Confocal</td>\n",
       "      <td>...</td>\n",
       "      <td>690.5</td>\n",
       "      <td>http://broad.io/JUMPProductionConfigCV8000</td>\n",
       "      <td>NaN</td>\n",
       "      <td>NaN</td>\n",
       "      <td>NaN</td>\n",
       "      <td>NaN</td>\n",
       "      <td>NaN</td>\n",
       "      <td>NaN</td>\n",
       "      <td>NaN</td>\n",
       "      <td>NaN</td>\n",
       "    </tr>\n",
       "  </tbody>\n",
       "</table>\n",
       "<p>5 rows × 46 columns</p>\n",
       "</div>"
      ],
      "text/plain": [
       "  Metadata_JCP2022            Metadata_InChIKey   \n",
       "0   JCP2022_000794  AECDBHGVIIRMOI-UHFFFAOYSA-N  \\\n",
       "1   JCP2022_000794  AECDBHGVIIRMOI-UHFFFAOYSA-N   \n",
       "2   JCP2022_000794  AECDBHGVIIRMOI-UHFFFAOYSA-N   \n",
       "3   JCP2022_000794  AECDBHGVIIRMOI-UHFFFAOYSA-N   \n",
       "4   JCP2022_000794  AECDBHGVIIRMOI-UHFFFAOYSA-N   \n",
       "\n",
       "                                      Metadata_InChI Metadata_Source   \n",
       "0  InChI=1S/C27H29N5O/c28-26-25-24(21-8-4-9-23(14...       source_10  \\\n",
       "1  InChI=1S/C27H29N5O/c28-26-25-24(21-8-4-9-23(14...       source_10   \n",
       "2  InChI=1S/C27H29N5O/c28-26-25-24(21-8-4-9-23(14...       source_10   \n",
       "3  InChI=1S/C27H29N5O/c28-26-25-24(21-8-4-9-23(14...       source_10   \n",
       "4  InChI=1S/C27H29N5O/c28-26-25-24(21-8-4-9-23(14...       source_10   \n",
       "\n",
       "      Metadata_Plate Metadata_Well Metadata_PlateType Metadata_WellType   \n",
       "0  Dest210726-160150           G21            TARGET2         treatment  \\\n",
       "1  Dest210727-153003           G21            TARGET2         treatment   \n",
       "2  Dest210803-153958           G21            TARGET2         treatment   \n",
       "3  Dest210809-134534           G21            TARGET2         treatment   \n",
       "4  Dest210810-173723           G21            TARGET2         treatment   \n",
       "\n",
       "  Metadata_Microscope_Name Metadata_Widefield_vs_Confocal  ...   \n",
       "0                   CV8000                       Confocal  ...  \\\n",
       "1                   CV8000                       Confocal  ...   \n",
       "2                   CV8000                       Confocal  ...   \n",
       "3                   CV8000                       Confocal  ...   \n",
       "4                   CV8000                       Confocal  ...   \n",
       "\n",
       "  Metadata_Emission_High_Mito                      Metadata_FPBase_Config   \n",
       "0                       690.5  http://broad.io/JUMPProductionConfigCV8000  \\\n",
       "1                       690.5  http://broad.io/JUMPProductionConfigCV8000   \n",
       "2                       690.5  http://broad.io/JUMPProductionConfigCV8000   \n",
       "3                       690.5  http://broad.io/JUMPProductionConfigCV8000   \n",
       "4                       690.5  http://broad.io/JUMPProductionConfigCV8000   \n",
       "\n",
       "   broad_sample  InChIKey  pert_iname  pubchem_cid target  pert_type   \n",
       "0           NaN       NaN         NaN          NaN    NaN        NaN  \\\n",
       "1           NaN       NaN         NaN          NaN    NaN        NaN   \n",
       "2           NaN       NaN         NaN          NaN    NaN        NaN   \n",
       "3           NaN       NaN         NaN          NaN    NaN        NaN   \n",
       "4           NaN       NaN         NaN          NaN    NaN        NaN   \n",
       "\n",
       "   control_type  smiles  \n",
       "0           NaN     NaN  \n",
       "1           NaN     NaN  \n",
       "2           NaN     NaN  \n",
       "3           NaN     NaN  \n",
       "4           NaN     NaN  \n",
       "\n",
       "[5 rows x 46 columns]"
      ]
     },
     "execution_count": 4,
     "metadata": {},
     "output_type": "execute_result"
    }
   ],
   "source": [
    "adata = sc.read_h5ad(data_file)\n",
    "print(adata)\n",
    "adata.obs.head()"
   ]
  },
  {
   "cell_type": "markdown",
   "metadata": {},
   "source": [
    "**Remove features from the blocklist**\n",
    "\n",
    "See https://github.com/cytomining/pycytominer/blob/838ac2eee8bee09b50a1ec8077201c01f7882c69/pycytominer/data/blocklist_features.txt"
   ]
  },
  {
   "cell_type": "code",
   "execution_count": 5,
   "metadata": {},
   "outputs": [
    {
     "data": {
      "text/html": [
       "<div>\n",
       "<style scoped>\n",
       "    .dataframe tbody tr th:only-of-type {\n",
       "        vertical-align: middle;\n",
       "    }\n",
       "\n",
       "    .dataframe tbody tr th {\n",
       "        vertical-align: top;\n",
       "    }\n",
       "\n",
       "    .dataframe thead th {\n",
       "        text-align: right;\n",
       "    }\n",
       "</style>\n",
       "<table border=\"1\" class=\"dataframe\">\n",
       "  <thead>\n",
       "    <tr style=\"text-align: right;\">\n",
       "      <th></th>\n",
       "      <th>blocklist</th>\n",
       "    </tr>\n",
       "  </thead>\n",
       "  <tbody>\n",
       "    <tr>\n",
       "      <th>0</th>\n",
       "      <td>Nuclei_Correlation_Manders_AGP_DNA</td>\n",
       "    </tr>\n",
       "    <tr>\n",
       "      <th>1</th>\n",
       "      <td>Nuclei_Correlation_Manders_AGP_ER</td>\n",
       "    </tr>\n",
       "    <tr>\n",
       "      <th>2</th>\n",
       "      <td>Nuclei_Correlation_Manders_AGP_Mito</td>\n",
       "    </tr>\n",
       "    <tr>\n",
       "      <th>3</th>\n",
       "      <td>Nuclei_Correlation_Manders_AGP_RNA</td>\n",
       "    </tr>\n",
       "    <tr>\n",
       "      <th>4</th>\n",
       "      <td>Nuclei_Correlation_Manders_DNA_AGP</td>\n",
       "    </tr>\n",
       "  </tbody>\n",
       "</table>\n",
       "</div>"
      ],
      "text/plain": [
       "                             blocklist\n",
       "0   Nuclei_Correlation_Manders_AGP_DNA\n",
       "1    Nuclei_Correlation_Manders_AGP_ER\n",
       "2  Nuclei_Correlation_Manders_AGP_Mito\n",
       "3   Nuclei_Correlation_Manders_AGP_RNA\n",
       "4   Nuclei_Correlation_Manders_DNA_AGP"
      ]
     },
     "execution_count": 5,
     "metadata": {},
     "output_type": "execute_result"
    }
   ],
   "source": [
    "blocklist = pd.read_table(\"../../data/jump/blocklist_features.txt\")\n",
    "blocklist.head()"
   ]
  },
  {
   "cell_type": "code",
   "execution_count": 7,
   "metadata": {},
   "outputs": [
    {
     "data": {
      "text/plain": [
       "View of AnnData object with n_obs × n_vars = 64464 × 4707\n",
       "    obs: 'Metadata_JCP2022', 'Metadata_InChIKey', 'Metadata_InChI', 'Metadata_Source', 'Metadata_Plate', 'Metadata_Well', 'Metadata_PlateType', 'Metadata_WellType', 'Metadata_Microscope_Name', 'Metadata_Widefield_vs_Confocal', 'Metadata_Excitation_Type', 'Metadata_Objective_NA', 'Metadata_N_Brightfield_Planes_Min', 'Metadata_N_Brightfield_Planes_Max', 'Metadata_Distance_Between_Z_Microns', 'Metadata_Sites_Per_Well', 'Metadata_Filter_Configuration', 'Metadata_Excitation_Low_DNA', 'Metadata_Excitation_Low_ER', 'Metadata_Excitation_Low_RNA', 'Metadata_Excitation_Low_AGP', 'Metadata_Excitation_Low_Mito', 'Metadata_Excitation_High_DNA', 'Metadata_Excitation_High_ER', 'Metadata_Excitation_High_RNA', 'Metadata_Excitation_High_AGP', 'Metadata_Excitation_High_Mito', 'Metadata_Emission_Low_DNA', 'Metadata_Emission_Low_ER', 'Metadata_Emission_Low_RNA', 'Metadata_Emission_Low_AGP', 'Metadata_Emission_Low_Mito', 'Metadata_Emission_High_DNA', 'Metadata_Emission_High_ER', 'Metadata_Emission_High_RNA', 'Metadata_Emission_High_AGP', 'Metadata_Emission_High_Mito', 'Metadata_FPBase_Config', 'broad_sample', 'InChIKey', 'pert_iname', 'pubchem_cid', 'target', 'pert_type', 'control_type', 'smiles'"
      ]
     },
     "execution_count": 7,
     "metadata": {},
     "output_type": "execute_result"
    }
   ],
   "source": [
    "adata = adata[:, [i for i in adata.var.index.values if i not in blocklist.blocklist.values]]\n",
    "adata"
   ]
  },
  {
   "cell_type": "markdown",
   "metadata": {},
   "source": [
    "**Replace `inf` by `nan`**"
   ]
  },
  {
   "cell_type": "code",
   "execution_count": 8,
   "metadata": {},
   "outputs": [
    {
     "name": "stderr",
     "output_type": "stream",
     "text": [
      "/tmp/ipykernel_270/3605372945.py:1: ImplicitModificationWarning: Trying to modify attribute `.X` of view, initializing view as actual.\n",
      "  adata.X[np.isinf(adata.X)] = np.nan\n"
     ]
    }
   ],
   "source": [
    "adata.X[np.isinf(adata.X)] = np.nan"
   ]
  },
  {
   "cell_type": "markdown",
   "metadata": {},
   "source": [
    "**Remove feature with high nan fraction**\n",
    "\n",
    "Start by getting an overview of the fraction of `nans` per feature."
   ]
  },
  {
   "cell_type": "code",
   "execution_count": 11,
   "metadata": {},
   "outputs": [
    {
     "data": {
      "text/plain": [
       "8.697877885331348"
      ]
     },
     "execution_count": 11,
     "metadata": {},
     "output_type": "execute_result"
    }
   ],
   "source": [
    "percentages = np.isnan(adata.X).sum(axis=0) * 100 / adata.X.shape[0]\n",
    "max(percentages)"
   ]
  },
  {
   "cell_type": "code",
   "execution_count": 13,
   "metadata": {},
   "outputs": [
    {
     "data": {
      "text/plain": [
       "array([0.00930752, 0.00930752, 0.00930752, 0.00930752, 0.00930752,\n",
       "       0.00930752, 0.01706379, 0.02016629, 0.02016629, 1.70172499,\n",
       "       8.69787789])"
      ]
     },
     "execution_count": 13,
     "metadata": {},
     "output_type": "execute_result"
    }
   ],
   "source": [
    "np.sort(percentages[percentages > 0])"
   ]
  },
  {
   "cell_type": "code",
   "execution_count": 44,
   "metadata": {},
   "outputs": [
    {
     "data": {
      "image/png": "[encoded data removed]",
      "text/plain": [
       "<Figure size 640x480 with 1 Axes>"
      ]
     },
     "metadata": {},
     "output_type": "display_data"
    }
   ],
   "source": [
    "plt.hist(percentages[percentages > 0], bins = 30)\n",
    "plt.xlabel(\"Fraction of nans per feature in percent\")\n",
    "plt.ylabel(\"Number of features (only those with fraction > 0)\")\n",
    "plt.show()"
   ]
  },
  {
   "cell_type": "code",
   "execution_count": 14,
   "metadata": {},
   "outputs": [
    {
     "data": {
      "text/plain": [
       "'Cells_AreaShape_FormFactor'"
      ]
     },
     "execution_count": 14,
     "metadata": {},
     "output_type": "execute_result"
    }
   ],
   "source": [
    "adata.var.index.values[np.where(percentages == np.max(percentages))[0][0]]"
   ]
  },
  {
   "cell_type": "markdown",
   "metadata": {},
   "source": [
    "We see that only 11 features contain `nan` values and for all but two the fraction is below 0.03%. One feature (Cells_AreaShape_FormFactor) has a quite high `nan` fraction of about 8.7% which is why we decided to remove it."
   ]
  },
  {
   "cell_type": "code",
   "execution_count": 16,
   "metadata": {},
   "outputs": [
    {
     "data": {
      "text/plain": [
       "View of AnnData object with n_obs × n_vars = 64464 × 4706\n",
       "    obs: 'Metadata_JCP2022', 'Metadata_InChIKey', 'Metadata_InChI', 'Metadata_Source', 'Metadata_Plate', 'Metadata_Well', 'Metadata_PlateType', 'Metadata_WellType', 'Metadata_Microscope_Name', 'Metadata_Widefield_vs_Confocal', 'Metadata_Excitation_Type', 'Metadata_Objective_NA', 'Metadata_N_Brightfield_Planes_Min', 'Metadata_N_Brightfield_Planes_Max', 'Metadata_Distance_Between_Z_Microns', 'Metadata_Sites_Per_Well', 'Metadata_Filter_Configuration', 'Metadata_Excitation_Low_DNA', 'Metadata_Excitation_Low_ER', 'Metadata_Excitation_Low_RNA', 'Metadata_Excitation_Low_AGP', 'Metadata_Excitation_Low_Mito', 'Metadata_Excitation_High_DNA', 'Metadata_Excitation_High_ER', 'Metadata_Excitation_High_RNA', 'Metadata_Excitation_High_AGP', 'Metadata_Excitation_High_Mito', 'Metadata_Emission_Low_DNA', 'Metadata_Emission_Low_ER', 'Metadata_Emission_Low_RNA', 'Metadata_Emission_Low_AGP', 'Metadata_Emission_Low_Mito', 'Metadata_Emission_High_DNA', 'Metadata_Emission_High_ER', 'Metadata_Emission_High_RNA', 'Metadata_Emission_High_AGP', 'Metadata_Emission_High_Mito', 'Metadata_FPBase_Config', 'broad_sample', 'InChIKey', 'pert_iname', 'pubchem_cid', 'target', 'pert_type', 'control_type', 'smiles'"
      ]
     },
     "execution_count": 16,
     "metadata": {},
     "output_type": "execute_result"
    }
   ],
   "source": [
    "adata = adata[:, [i for i in adata.var.index.values if i != \"Cells_AreaShape_FormFactor\"]]\n",
    "adata"
   ]
  },
  {
   "cell_type": "markdown",
   "metadata": {},
   "source": [
    "**Impute remaining `nans` by column-wise mean (per plate)**"
   ]
  },
  {
   "cell_type": "code",
   "execution_count": 19,
   "metadata": {},
   "outputs": [],
   "source": [
    "has_nan = np.isnan(adata.X).any(axis=1)"
   ]
  },
  {
   "cell_type": "code",
   "execution_count": 22,
   "metadata": {},
   "outputs": [],
   "source": [
    "nan_plates = adata.obs[has_nan].Metadata_Plate.unique()"
   ]
  },
  {
   "cell_type": "code",
   "execution_count": 27,
   "metadata": {},
   "outputs": [],
   "source": [
    "nan_indices = np.where(np.isnan(adata.X))"
   ]
  },
  {
   "cell_type": "code",
   "execution_count": 42,
   "metadata": {},
   "outputs": [
    {
     "name": "stderr",
     "output_type": "stream",
     "text": [
      "/tmp/ipykernel_270/1948909870.py:6: ImplicitModificationWarning: Trying to modify attribute `.X` of view, initializing view as actual.\n",
      "  adata.X[plate_nan_indices] = np.take(col_means, plate_nan_indices[1])\n"
     ]
    }
   ],
   "source": [
    "for plate in nan_plates:\n",
    "    col_means = np.nanmean(adata[adata.obs.Metadata_Plate==plate].X, axis=0)\n",
    "    plate_rows = np.where(adata.obs.Metadata_Plate==plate)[0]\n",
    "    mask = [i in plate_rows for i in nan_indices[0]]\n",
    "    plate_nan_indices = (nan_indices[0][mask], nan_indices[1][mask])\n",
    "    adata.X[plate_nan_indices] = np.take(col_means, plate_nan_indices[1])"
   ]
  },
  {
   "cell_type": "code",
   "execution_count": 47,
   "metadata": {},
   "outputs": [
    {
     "data": {
      "text/plain": [
       "0"
      ]
     },
     "execution_count": 47,
     "metadata": {},
     "output_type": "execute_result"
    }
   ],
   "source": [
    "sum(sum(np.isnan(adata.X)))"
   ]
  },
  {
   "cell_type": "markdown",
   "metadata": {},
   "source": [
    "Save the resulting anndata object as h5ad"
   ]
  },
  {
   "cell_type": "code",
   "execution_count": null,
   "metadata": {},
   "outputs": [],
   "source": [
    "adata.write(\"../../data/jump/jump_target2_imputed.h5ad\")"
   ]
  }
 ],
 "metadata": {
  "colab": {
   "provenance": []
  },
  "kernelspec": {
   "display_name": "Python 3 (ipykernel)",
   "language": "python",
   "name": "python3"
  },
  "language_info": {
   "codemirror_mode": {
    "name": "ipython",
    "version": 3
   },
   "file_extension": ".py",
   "mimetype": "text/x-python",
   "name": "python",
   "nbconvert_exporter": "python",
   "pygments_lexer": "ipython3",
   "version": "3.9.16"
  }
 },
 "nbformat": 4,
 "nbformat_minor": 1
}
