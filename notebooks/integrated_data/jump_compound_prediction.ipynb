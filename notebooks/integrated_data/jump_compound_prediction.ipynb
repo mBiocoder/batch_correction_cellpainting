{
 "cells": [
  {
   "cell_type": "code",
   "execution_count": 1,
   "metadata": {
    "executionInfo": {
     "elapsed": 4654,
     "status": "ok",
     "timestamp": 1692529481154,
     "user": {
      "displayName": "Sarah",
      "userId": "00540670817193115320"
     },
     "user_tz": -120
    },
    "id": "y4_nGIwwNevD"
   },
   "outputs": [],
   "source": [
    "import pandas as pd\n",
    "import numpy as np\n",
    "import scanpy as sc\n",
    "import os\n",
    "\n",
    "from sklearn.model_selection import StratifiedShuffleSplit\n",
    "from sklearn.linear_model import LogisticRegression\n",
    "from sklearn.metrics import balanced_accuracy_score"
   ]
  },
  {
   "cell_type": "markdown",
   "metadata": {
    "id": "ilhhxVGPNj94"
   },
   "source": [
    "# Train Simple Models to Predict the Compound"
   ]
  },
  {
   "cell_type": "markdown",
   "metadata": {
    "id": "DMoQ1TPaOSaC"
   },
   "source": [
    "We train a simple logistic regression model to measure how well the model is able to predict the compound belonging to a profile."
   ]
  },
  {
   "cell_type": "markdown",
   "metadata": {
    "id": "-8pddpW-Olev"
   },
   "source": [
    "## 1 Data Reading"
   ]
  },
  {
   "cell_type": "code",
   "execution_count": 2,
   "metadata": {},
   "outputs": [],
   "source": [
    "# data_path = \"../../data/jump/\"\n",
    "data_path = \"/mnt/d/Uni/Master_2.Semester/mp/jump/\""
   ]
  },
  {
   "cell_type": "code",
   "execution_count": 3,
   "metadata": {},
   "outputs": [],
   "source": [
    "data_file = f\"{data_path}jump_target2_spherized.h5ad\"\n",
    "if not os.path.exists(data_file):\n",
    "    raise FileNotFoundError(\"Please download the JUMP data and run pycytominer on it!\")"
   ]
  },
  {
   "cell_type": "code",
   "execution_count": 12,
   "metadata": {
    "colab": {
     "base_uri": "https://localhost:8080/"
    },
    "executionInfo": {
     "elapsed": 490,
     "status": "ok",
     "timestamp": 1692532190554,
     "user": {
      "displayName": "Sarah",
      "userId": "00540670817193115320"
     },
     "user_tz": -120
    },
    "id": "1d8reEPzYd_W",
    "outputId": "745440c3-1448-4033-ab70-8ba83bb0af13"
   },
   "outputs": [
    {
     "name": "stderr",
     "output_type": "stream",
     "text": [
      "/home/stockhaus/miniconda3/envs/mp/lib/python3.9/site-packages/anndata/_core/anndata.py:121: ImplicitModificationWarning: Transforming to str index.\n",
      "  warnings.warn(\"Transforming to str index.\", ImplicitModificationWarning)\n"
     ]
    },
    {
     "data": {
      "text/plain": [
       "AnnData object with n_obs × n_vars = 64464 × 558\n",
       "    obs: 'Metadata_JCP2022', 'Metadata_InChIKey', 'Metadata_InChI', 'Metadata_Source', 'Metadata_Plate', 'Metadata_Well', 'Metadata_PlateType', 'Metadata_WellType', 'Metadata_Microscope_Name', 'Metadata_Widefield_vs_Confocal', 'Metadata_Excitation_Type', 'Metadata_Objective_NA', 'Metadata_N_Brightfield_Planes_Min', 'Metadata_N_Brightfield_Planes_Max', 'Metadata_Sites_Per_Well', 'Metadata_Filter_Configuration', 'Metadata_Excitation_Low_DNA', 'Metadata_Excitation_Low_ER', 'Metadata_Excitation_Low_RNA', 'Metadata_Excitation_Low_AGP', 'Metadata_Excitation_Low_Mito', 'Metadata_Excitation_High_DNA', 'Metadata_Excitation_High_ER', 'Metadata_Excitation_High_RNA', 'Metadata_Excitation_High_AGP', 'Metadata_Excitation_High_Mito', 'Metadata_Emission_Low_DNA', 'Metadata_Emission_Low_ER', 'Metadata_Emission_Low_RNA', 'Metadata_Emission_Low_AGP', 'Metadata_Emission_Low_Mito', 'Metadata_Emission_High_DNA', 'Metadata_Emission_High_ER', 'Metadata_Emission_High_RNA', 'Metadata_Emission_High_AGP', 'Metadata_Emission_High_Mito', 'Metadata_FPBase_Config', 'Metadata_Distance_Between_Z_Microns', 'broad_sample', 'InChIKey', 'pert_iname', 'pubchem_cid', 'target', 'pert_type', 'control_type', 'smiles'"
      ]
     },
     "execution_count": 12,
     "metadata": {},
     "output_type": "execute_result"
    }
   ],
   "source": [
    "adata = sc.read_h5ad(data_file)\n",
    "adata"
   ]
  },
  {
   "cell_type": "markdown",
   "metadata": {},
   "source": [
    "**Low-Level Integrations**"
   ]
  },
  {
   "cell_type": "code",
   "execution_count": 28,
   "metadata": {},
   "outputs": [],
   "source": [
    "harmony_low = sc.read_h5ad(f\"{data_path}harmony_low.h5ad\")\n",
    "scanorama_low = sc.read_h5ad(f\"{data_path}scanorama_low.h5ad\")\n",
    "scvi_low = sc.read_h5ad(f\"{data_path}scvi_low.h5ad\")\n",
    "scanvi_low = sc.read_h5ad(f\"{data_path}scanvi_low.h5ad\")\n",
    "scgen_low = sc.read_h5ad(f\"{data_path}scgen_low.h5ad\")"
   ]
  },
  {
   "cell_type": "markdown",
   "metadata": {},
   "source": [
    "**High-Level Integrations**"
   ]
  },
  {
   "cell_type": "code",
   "execution_count": 29,
   "metadata": {},
   "outputs": [],
   "source": [
    "harmony_high = sc.read_h5ad(f\"{data_path}harmony_high.h5ad\")\n",
    "scanorama_high = sc.read_h5ad(f\"{data_path}scanorama_high.h5ad\")\n",
    "scvi_high = sc.read_h5ad(f\"{data_path}scvi_high.h5ad\")\n",
    "scanvi_high = sc.read_h5ad(f\"{data_path}scanvi_high.h5ad\")\n",
    "scgen_high = sc.read_h5ad(f\"{data_path}scgen_high.h5ad\")\n",
    "gaushanvi_high = sc.read_h5ad(f\"{data_path}gaushanvi_high.h5ad\")"
   ]
  },
  {
   "cell_type": "markdown",
   "metadata": {},
   "source": [
    "**Direct Intgerations**"
   ]
  },
  {
   "cell_type": "code",
   "execution_count": 16,
   "metadata": {},
   "outputs": [],
   "source": [
    "harmony = sc.read_h5ad(f\"{data_path}harmony.h5ad\")\n",
    "scanorama = sc.read_h5ad(f\"{data_path}scanorama.h5ad\")\n",
    "scvi = sc.read_h5ad(f\"{data_path}scvi.h5ad\")\n",
    "scanvi = sc.read_h5ad(f\"{data_path}scanvi.h5ad\")\n",
    "scgen = sc.read_h5ad(f\"{data_path}scgen.h5ad\")\n",
    "gaushvi = sc.read_h5ad(f\"{data_path}gaushvi.h5ad\")\n",
    "gaushanvi = sc.read_h5ad(f\"{data_path}gaushanvi.h5ad\")"
   ]
  },
  {
   "cell_type": "markdown",
   "metadata": {
    "id": "JiWxsjV9QwUB"
   },
   "source": [
    "## 2 Predicting Compounds with Logistic Regression"
   ]
  },
  {
   "cell_type": "code",
   "execution_count": 8,
   "metadata": {},
   "outputs": [],
   "source": [
    "sss = StratifiedShuffleSplit(n_splits=1, test_size=0.2, random_state=68)"
   ]
  },
  {
   "cell_type": "markdown",
   "metadata": {},
   "source": [
    "**Unintegrated Data**\n",
    "\n",
    "Per source and overall"
   ]
  },
  {
   "cell_type": "code",
   "execution_count": 20,
   "metadata": {},
   "outputs": [
    {
     "name": "stdout",
     "output_type": "stream",
     "text": [
      "Starting with source_10\n"
     ]
    },
    {
     "name": "stderr",
     "output_type": "stream",
     "text": [
      "/home/stockhaus/miniconda3/envs/mp/lib/python3.9/site-packages/sklearn/linear_model/_logistic.py:458: ConvergenceWarning: lbfgs failed to converge (status=1):\n",
      "STOP: TOTAL NO. of ITERATIONS REACHED LIMIT.\n",
      "\n",
      "Increase the number of iterations (max_iter) or scale the data as shown in:\n",
      "    https://scikit-learn.org/stable/modules/preprocessing.html\n",
      "Please also refer to the documentation for alternative solver options:\n",
      "    https://scikit-learn.org/stable/modules/linear_model.html#logistic-regression\n",
      "  n_iter_i = _check_optimize_result(\n"
     ]
    },
    {
     "name": "stdout",
     "output_type": "stream",
     "text": [
      "Starting with source_11\n"
     ]
    },
    {
     "name": "stderr",
     "output_type": "stream",
     "text": [
      "/home/stockhaus/miniconda3/envs/mp/lib/python3.9/site-packages/sklearn/linear_model/_logistic.py:458: ConvergenceWarning: lbfgs failed to converge (status=1):\n",
      "STOP: TOTAL NO. of ITERATIONS REACHED LIMIT.\n",
      "\n",
      "Increase the number of iterations (max_iter) or scale the data as shown in:\n",
      "    https://scikit-learn.org/stable/modules/preprocessing.html\n",
      "Please also refer to the documentation for alternative solver options:\n",
      "    https://scikit-learn.org/stable/modules/linear_model.html#logistic-regression\n",
      "  n_iter_i = _check_optimize_result(\n"
     ]
    },
    {
     "name": "stdout",
     "output_type": "stream",
     "text": [
      "Starting with source_13\n"
     ]
    },
    {
     "name": "stderr",
     "output_type": "stream",
     "text": [
      "/home/stockhaus/miniconda3/envs/mp/lib/python3.9/site-packages/sklearn/linear_model/_logistic.py:458: ConvergenceWarning: lbfgs failed to converge (status=1):\n",
      "STOP: TOTAL NO. of ITERATIONS REACHED LIMIT.\n",
      "\n",
      "Increase the number of iterations (max_iter) or scale the data as shown in:\n",
      "    https://scikit-learn.org/stable/modules/preprocessing.html\n",
      "Please also refer to the documentation for alternative solver options:\n",
      "    https://scikit-learn.org/stable/modules/linear_model.html#logistic-regression\n",
      "  n_iter_i = _check_optimize_result(\n"
     ]
    },
    {
     "name": "stdout",
     "output_type": "stream",
     "text": [
      "Starting with source_2\n"
     ]
    },
    {
     "name": "stderr",
     "output_type": "stream",
     "text": [
      "/home/stockhaus/miniconda3/envs/mp/lib/python3.9/site-packages/sklearn/linear_model/_logistic.py:458: ConvergenceWarning: lbfgs failed to converge (status=1):\n",
      "STOP: TOTAL NO. of ITERATIONS REACHED LIMIT.\n",
      "\n",
      "Increase the number of iterations (max_iter) or scale the data as shown in:\n",
      "    https://scikit-learn.org/stable/modules/preprocessing.html\n",
      "Please also refer to the documentation for alternative solver options:\n",
      "    https://scikit-learn.org/stable/modules/linear_model.html#logistic-regression\n",
      "  n_iter_i = _check_optimize_result(\n"
     ]
    },
    {
     "name": "stdout",
     "output_type": "stream",
     "text": [
      "Starting with source_3\n"
     ]
    },
    {
     "name": "stderr",
     "output_type": "stream",
     "text": [
      "/home/stockhaus/miniconda3/envs/mp/lib/python3.9/site-packages/sklearn/linear_model/_logistic.py:458: ConvergenceWarning: lbfgs failed to converge (status=1):\n",
      "STOP: TOTAL NO. of ITERATIONS REACHED LIMIT.\n",
      "\n",
      "Increase the number of iterations (max_iter) or scale the data as shown in:\n",
      "    https://scikit-learn.org/stable/modules/preprocessing.html\n",
      "Please also refer to the documentation for alternative solver options:\n",
      "    https://scikit-learn.org/stable/modules/linear_model.html#logistic-regression\n",
      "  n_iter_i = _check_optimize_result(\n"
     ]
    },
    {
     "name": "stdout",
     "output_type": "stream",
     "text": [
      "Starting with source_4\n"
     ]
    },
    {
     "name": "stderr",
     "output_type": "stream",
     "text": [
      "/home/stockhaus/miniconda3/envs/mp/lib/python3.9/site-packages/sklearn/linear_model/_logistic.py:458: ConvergenceWarning: lbfgs failed to converge (status=1):\n",
      "STOP: TOTAL NO. of ITERATIONS REACHED LIMIT.\n",
      "\n",
      "Increase the number of iterations (max_iter) or scale the data as shown in:\n",
      "    https://scikit-learn.org/stable/modules/preprocessing.html\n",
      "Please also refer to the documentation for alternative solver options:\n",
      "    https://scikit-learn.org/stable/modules/linear_model.html#logistic-regression\n",
      "  n_iter_i = _check_optimize_result(\n"
     ]
    },
    {
     "name": "stdout",
     "output_type": "stream",
     "text": [
      "Starting with source_5\n"
     ]
    },
    {
     "name": "stderr",
     "output_type": "stream",
     "text": [
      "/home/stockhaus/miniconda3/envs/mp/lib/python3.9/site-packages/sklearn/linear_model/_logistic.py:458: ConvergenceWarning: lbfgs failed to converge (status=1):\n",
      "STOP: TOTAL NO. of ITERATIONS REACHED LIMIT.\n",
      "\n",
      "Increase the number of iterations (max_iter) or scale the data as shown in:\n",
      "    https://scikit-learn.org/stable/modules/preprocessing.html\n",
      "Please also refer to the documentation for alternative solver options:\n",
      "    https://scikit-learn.org/stable/modules/linear_model.html#logistic-regression\n",
      "  n_iter_i = _check_optimize_result(\n"
     ]
    },
    {
     "name": "stdout",
     "output_type": "stream",
     "text": [
      "Starting with source_6\n"
     ]
    },
    {
     "name": "stderr",
     "output_type": "stream",
     "text": [
      "/home/stockhaus/miniconda3/envs/mp/lib/python3.9/site-packages/sklearn/linear_model/_logistic.py:458: ConvergenceWarning: lbfgs failed to converge (status=1):\n",
      "STOP: TOTAL NO. of ITERATIONS REACHED LIMIT.\n",
      "\n",
      "Increase the number of iterations (max_iter) or scale the data as shown in:\n",
      "    https://scikit-learn.org/stable/modules/preprocessing.html\n",
      "Please also refer to the documentation for alternative solver options:\n",
      "    https://scikit-learn.org/stable/modules/linear_model.html#logistic-regression\n",
      "  n_iter_i = _check_optimize_result(\n"
     ]
    },
    {
     "name": "stdout",
     "output_type": "stream",
     "text": [
      "Starting with source_7\n"
     ]
    },
    {
     "name": "stderr",
     "output_type": "stream",
     "text": [
      "/home/stockhaus/miniconda3/envs/mp/lib/python3.9/site-packages/sklearn/linear_model/_logistic.py:458: ConvergenceWarning: lbfgs failed to converge (status=1):\n",
      "STOP: TOTAL NO. of ITERATIONS REACHED LIMIT.\n",
      "\n",
      "Increase the number of iterations (max_iter) or scale the data as shown in:\n",
      "    https://scikit-learn.org/stable/modules/preprocessing.html\n",
      "Please also refer to the documentation for alternative solver options:\n",
      "    https://scikit-learn.org/stable/modules/linear_model.html#logistic-regression\n",
      "  n_iter_i = _check_optimize_result(\n"
     ]
    },
    {
     "name": "stdout",
     "output_type": "stream",
     "text": [
      "Starting with source_8\n"
     ]
    },
    {
     "name": "stderr",
     "output_type": "stream",
     "text": [
      "/home/stockhaus/miniconda3/envs/mp/lib/python3.9/site-packages/sklearn/linear_model/_logistic.py:458: ConvergenceWarning: lbfgs failed to converge (status=1):\n",
      "STOP: TOTAL NO. of ITERATIONS REACHED LIMIT.\n",
      "\n",
      "Increase the number of iterations (max_iter) or scale the data as shown in:\n",
      "    https://scikit-learn.org/stable/modules/preprocessing.html\n",
      "Please also refer to the documentation for alternative solver options:\n",
      "    https://scikit-learn.org/stable/modules/linear_model.html#logistic-regression\n",
      "  n_iter_i = _check_optimize_result(\n",
      "/home/stockhaus/miniconda3/envs/mp/lib/python3.9/site-packages/sklearn/metrics/_classification.py:2184: UserWarning: y_pred contains classes not in y_true\n",
      "  warnings.warn(\"y_pred contains classes not in y_true\")\n"
     ]
    },
    {
     "name": "stdout",
     "output_type": "stream",
     "text": [
      "Starting with source_9\n"
     ]
    },
    {
     "name": "stderr",
     "output_type": "stream",
     "text": [
      "/home/stockhaus/miniconda3/envs/mp/lib/python3.9/site-packages/sklearn/linear_model/_logistic.py:458: ConvergenceWarning: lbfgs failed to converge (status=1):\n",
      "STOP: TOTAL NO. of ITERATIONS REACHED LIMIT.\n",
      "\n",
      "Increase the number of iterations (max_iter) or scale the data as shown in:\n",
      "    https://scikit-learn.org/stable/modules/preprocessing.html\n",
      "Please also refer to the documentation for alternative solver options:\n",
      "    https://scikit-learn.org/stable/modules/linear_model.html#logistic-regression\n",
      "  n_iter_i = _check_optimize_result(\n"
     ]
    }
   ],
   "source": [
    "# Per source\n",
    "sources = adata.obs.Metadata_Source.unique()\n",
    "accuracies = []\n",
    "\n",
    "for source in sources:\n",
    "    print(f\"Starting with {source}\")\n",
    "    adata_source = adata[adata.obs.Metadata_Source==source].copy()\n",
    "    train, test = [x for x in sss.split(adata_source.X, adata_source.obs.Metadata_JCP2022)][0]\n",
    "    x_train = adata_source.X[train]\n",
    "    y_train = adata_source.obs.Metadata_JCP2022[train]\n",
    "    x_test = adata_source.X[test]\n",
    "    y_test = adata_source.obs.Metadata_JCP2022[test]\n",
    "    model_unintegrated_source = LogisticRegression(random_state=52).fit(x_train, y_train)\n",
    "    y_test_pred = model_unintegrated_source.predict(x_test)\n",
    "    accuracies.append(balanced_accuracy_score(y_test, y_test_pred))"
   ]
  },
  {
   "cell_type": "code",
   "execution_count": 24,
   "metadata": {},
   "outputs": [
    {
     "name": "stdout",
     "output_type": "stream",
     "text": [
      "source_10: balanced accuracy 0.02580917978268971\n",
      "source_11: balanced accuracy 0.045732155997056656\n",
      "source_13: balanced accuracy 0.025305551068755722\n",
      "source_2: balanced accuracy 0.022118579095323283\n",
      "source_3: balanced accuracy 0.11097889072847682\n",
      "source_4: balanced accuracy 0.09651261096237847\n",
      "source_5: balanced accuracy 0.06832157674856729\n",
      "source_6: balanced accuracy 0.0758988468334918\n",
      "source_7: balanced accuracy 0.030831493745401027\n",
      "source_8: balanced accuracy 0.023103815169478646\n",
      "source_9: balanced accuracy 0.3235229311733025\n",
      "Mean: 0.07710323920953836\n"
     ]
    }
   ],
   "source": [
    "for s, a in zip(sources, accuracies):\n",
    "    print(f\"{s}: balanced accuracy {a}\")\n",
    "print(f\"Mean: {np.mean(accuracies)}\")"
   ]
  },
  {
   "cell_type": "code",
   "execution_count": 25,
   "metadata": {},
   "outputs": [],
   "source": [
    "# Overall\n",
    "train, test = [x for x in sss.split(adata.X, adata.obs.Metadata_JCP2022)][0]\n",
    "x_train = adata.X[train]\n",
    "y_train = adata.obs.Metadata_JCP2022[train]\n",
    "x_test = adata.X[test]\n",
    "y_test = adata.obs.Metadata_JCP2022[test]"
   ]
  },
  {
   "cell_type": "code",
   "execution_count": 26,
   "metadata": {},
   "outputs": [
    {
     "name": "stderr",
     "output_type": "stream",
     "text": [
      "/home/stockhaus/miniconda3/envs/mp/lib/python3.9/site-packages/sklearn/linear_model/_logistic.py:458: ConvergenceWarning: lbfgs failed to converge (status=1):\n",
      "STOP: TOTAL NO. of ITERATIONS REACHED LIMIT.\n",
      "\n",
      "Increase the number of iterations (max_iter) or scale the data as shown in:\n",
      "    https://scikit-learn.org/stable/modules/preprocessing.html\n",
      "Please also refer to the documentation for alternative solver options:\n",
      "    https://scikit-learn.org/stable/modules/linear_model.html#logistic-regression\n",
      "  n_iter_i = _check_optimize_result(\n"
     ]
    }
   ],
   "source": [
    "model_unintegrated_overall = LogisticRegression(random_state=52).fit(x_train, y_train)"
   ]
  },
  {
   "cell_type": "code",
   "execution_count": 27,
   "metadata": {},
   "outputs": [
    {
     "name": "stdout",
     "output_type": "stream",
     "text": [
      "Balanced Accuracy: 0.07905590727379076\n"
     ]
    }
   ],
   "source": [
    "y_test_pred = model_unintegrated_overall.predict(x_test)\n",
    "print(\"Balanced Accuracy: \" + str(balanced_accuracy_score(y_test, y_test_pred)))"
   ]
  },
  {
   "cell_type": "markdown",
   "metadata": {},
   "source": [
    "**Low-Level Integrations**\n",
    "\n",
    "Per source"
   ]
  },
  {
   "cell_type": "code",
   "execution_count": 33,
   "metadata": {},
   "outputs": [
    {
     "name": "stdout",
     "output_type": "stream",
     "text": [
      "Starting with source_10\n"
     ]
    },
    {
     "name": "stderr",
     "output_type": "stream",
     "text": [
      "/home/stockhaus/miniconda3/envs/mp/lib/python3.9/site-packages/sklearn/linear_model/_logistic.py:458: ConvergenceWarning: lbfgs failed to converge (status=1):\n",
      "STOP: TOTAL NO. of ITERATIONS REACHED LIMIT.\n",
      "\n",
      "Increase the number of iterations (max_iter) or scale the data as shown in:\n",
      "    https://scikit-learn.org/stable/modules/preprocessing.html\n",
      "Please also refer to the documentation for alternative solver options:\n",
      "    https://scikit-learn.org/stable/modules/linear_model.html#logistic-regression\n",
      "  n_iter_i = _check_optimize_result(\n"
     ]
    },
    {
     "name": "stdout",
     "output_type": "stream",
     "text": [
      "Starting with source_11\n"
     ]
    },
    {
     "name": "stderr",
     "output_type": "stream",
     "text": [
      "/home/stockhaus/miniconda3/envs/mp/lib/python3.9/site-packages/sklearn/linear_model/_logistic.py:458: ConvergenceWarning: lbfgs failed to converge (status=1):\n",
      "STOP: TOTAL NO. of ITERATIONS REACHED LIMIT.\n",
      "\n",
      "Increase the number of iterations (max_iter) or scale the data as shown in:\n",
      "    https://scikit-learn.org/stable/modules/preprocessing.html\n",
      "Please also refer to the documentation for alternative solver options:\n",
      "    https://scikit-learn.org/stable/modules/linear_model.html#logistic-regression\n",
      "  n_iter_i = _check_optimize_result(\n"
     ]
    },
    {
     "name": "stdout",
     "output_type": "stream",
     "text": [
      "Starting with source_13\n"
     ]
    },
    {
     "name": "stderr",
     "output_type": "stream",
     "text": [
      "/home/stockhaus/miniconda3/envs/mp/lib/python3.9/site-packages/sklearn/linear_model/_logistic.py:458: ConvergenceWarning: lbfgs failed to converge (status=1):\n",
      "STOP: TOTAL NO. of ITERATIONS REACHED LIMIT.\n",
      "\n",
      "Increase the number of iterations (max_iter) or scale the data as shown in:\n",
      "    https://scikit-learn.org/stable/modules/preprocessing.html\n",
      "Please also refer to the documentation for alternative solver options:\n",
      "    https://scikit-learn.org/stable/modules/linear_model.html#logistic-regression\n",
      "  n_iter_i = _check_optimize_result(\n"
     ]
    },
    {
     "name": "stdout",
     "output_type": "stream",
     "text": [
      "Starting with source_2\n"
     ]
    },
    {
     "name": "stderr",
     "output_type": "stream",
     "text": [
      "/home/stockhaus/miniconda3/envs/mp/lib/python3.9/site-packages/sklearn/linear_model/_logistic.py:458: ConvergenceWarning: lbfgs failed to converge (status=1):\n",
      "STOP: TOTAL NO. of ITERATIONS REACHED LIMIT.\n",
      "\n",
      "Increase the number of iterations (max_iter) or scale the data as shown in:\n",
      "    https://scikit-learn.org/stable/modules/preprocessing.html\n",
      "Please also refer to the documentation for alternative solver options:\n",
      "    https://scikit-learn.org/stable/modules/linear_model.html#logistic-regression\n",
      "  n_iter_i = _check_optimize_result(\n"
     ]
    },
    {
     "name": "stdout",
     "output_type": "stream",
     "text": [
      "Starting with source_3\n"
     ]
    },
    {
     "name": "stderr",
     "output_type": "stream",
     "text": [
      "/home/stockhaus/miniconda3/envs/mp/lib/python3.9/site-packages/sklearn/linear_model/_logistic.py:458: ConvergenceWarning: lbfgs failed to converge (status=1):\n",
      "STOP: TOTAL NO. of ITERATIONS REACHED LIMIT.\n",
      "\n",
      "Increase the number of iterations (max_iter) or scale the data as shown in:\n",
      "    https://scikit-learn.org/stable/modules/preprocessing.html\n",
      "Please also refer to the documentation for alternative solver options:\n",
      "    https://scikit-learn.org/stable/modules/linear_model.html#logistic-regression\n",
      "  n_iter_i = _check_optimize_result(\n"
     ]
    },
    {
     "name": "stdout",
     "output_type": "stream",
     "text": [
      "Starting with source_4\n"
     ]
    },
    {
     "name": "stderr",
     "output_type": "stream",
     "text": [
      "/home/stockhaus/miniconda3/envs/mp/lib/python3.9/site-packages/sklearn/linear_model/_logistic.py:458: ConvergenceWarning: lbfgs failed to converge (status=1):\n",
      "STOP: TOTAL NO. of ITERATIONS REACHED LIMIT.\n",
      "\n",
      "Increase the number of iterations (max_iter) or scale the data as shown in:\n",
      "    https://scikit-learn.org/stable/modules/preprocessing.html\n",
      "Please also refer to the documentation for alternative solver options:\n",
      "    https://scikit-learn.org/stable/modules/linear_model.html#logistic-regression\n",
      "  n_iter_i = _check_optimize_result(\n"
     ]
    },
    {
     "name": "stdout",
     "output_type": "stream",
     "text": [
      "Starting with source_5\n"
     ]
    },
    {
     "name": "stderr",
     "output_type": "stream",
     "text": [
      "/home/stockhaus/miniconda3/envs/mp/lib/python3.9/site-packages/sklearn/linear_model/_logistic.py:458: ConvergenceWarning: lbfgs failed to converge (status=1):\n",
      "STOP: TOTAL NO. of ITERATIONS REACHED LIMIT.\n",
      "\n",
      "Increase the number of iterations (max_iter) or scale the data as shown in:\n",
      "    https://scikit-learn.org/stable/modules/preprocessing.html\n",
      "Please also refer to the documentation for alternative solver options:\n",
      "    https://scikit-learn.org/stable/modules/linear_model.html#logistic-regression\n",
      "  n_iter_i = _check_optimize_result(\n"
     ]
    },
    {
     "name": "stdout",
     "output_type": "stream",
     "text": [
      "Starting with source_6\n"
     ]
    },
    {
     "name": "stderr",
     "output_type": "stream",
     "text": [
      "/home/stockhaus/miniconda3/envs/mp/lib/python3.9/site-packages/sklearn/linear_model/_logistic.py:458: ConvergenceWarning: lbfgs failed to converge (status=1):\n",
      "STOP: TOTAL NO. of ITERATIONS REACHED LIMIT.\n",
      "\n",
      "Increase the number of iterations (max_iter) or scale the data as shown in:\n",
      "    https://scikit-learn.org/stable/modules/preprocessing.html\n",
      "Please also refer to the documentation for alternative solver options:\n",
      "    https://scikit-learn.org/stable/modules/linear_model.html#logistic-regression\n",
      "  n_iter_i = _check_optimize_result(\n"
     ]
    },
    {
     "name": "stdout",
     "output_type": "stream",
     "text": [
      "Starting with source_7\n"
     ]
    },
    {
     "name": "stderr",
     "output_type": "stream",
     "text": [
      "/home/stockhaus/miniconda3/envs/mp/lib/python3.9/site-packages/sklearn/linear_model/_logistic.py:458: ConvergenceWarning: lbfgs failed to converge (status=1):\n",
      "STOP: TOTAL NO. of ITERATIONS REACHED LIMIT.\n",
      "\n",
      "Increase the number of iterations (max_iter) or scale the data as shown in:\n",
      "    https://scikit-learn.org/stable/modules/preprocessing.html\n",
      "Please also refer to the documentation for alternative solver options:\n",
      "    https://scikit-learn.org/stable/modules/linear_model.html#logistic-regression\n",
      "  n_iter_i = _check_optimize_result(\n"
     ]
    },
    {
     "name": "stdout",
     "output_type": "stream",
     "text": [
      "Starting with source_8\n"
     ]
    },
    {
     "name": "stderr",
     "output_type": "stream",
     "text": [
      "/home/stockhaus/miniconda3/envs/mp/lib/python3.9/site-packages/sklearn/linear_model/_logistic.py:458: ConvergenceWarning: lbfgs failed to converge (status=1):\n",
      "STOP: TOTAL NO. of ITERATIONS REACHED LIMIT.\n",
      "\n",
      "Increase the number of iterations (max_iter) or scale the data as shown in:\n",
      "    https://scikit-learn.org/stable/modules/preprocessing.html\n",
      "Please also refer to the documentation for alternative solver options:\n",
      "    https://scikit-learn.org/stable/modules/linear_model.html#logistic-regression\n",
      "  n_iter_i = _check_optimize_result(\n",
      "/home/stockhaus/miniconda3/envs/mp/lib/python3.9/site-packages/sklearn/metrics/_classification.py:2184: UserWarning: y_pred contains classes not in y_true\n",
      "  warnings.warn(\"y_pred contains classes not in y_true\")\n"
     ]
    },
    {
     "name": "stdout",
     "output_type": "stream",
     "text": [
      "Starting with source_9\n"
     ]
    },
    {
     "name": "stderr",
     "output_type": "stream",
     "text": [
      "/home/stockhaus/miniconda3/envs/mp/lib/python3.9/site-packages/sklearn/linear_model/_logistic.py:458: ConvergenceWarning: lbfgs failed to converge (status=1):\n",
      "STOP: TOTAL NO. of ITERATIONS REACHED LIMIT.\n",
      "\n",
      "Increase the number of iterations (max_iter) or scale the data as shown in:\n",
      "    https://scikit-learn.org/stable/modules/preprocessing.html\n",
      "Please also refer to the documentation for alternative solver options:\n",
      "    https://scikit-learn.org/stable/modules/linear_model.html#logistic-regression\n",
      "  n_iter_i = _check_optimize_result(\n"
     ]
    }
   ],
   "source": [
    "# Harmony\n",
    "sources = harmony_low.obs.Metadata_Source.unique()\n",
    "accuracies = []\n",
    "\n",
    "for source in sources:\n",
    "    print(f\"Starting with {source}\")\n",
    "    adata_source = harmony_low[harmony_low.obs.Metadata_Source==source].copy()\n",
    "    train, test = [x for x in sss.split(adata_source.obsm[\"X_emb\"], adata_source.obs.Metadata_JCP2022)][0]\n",
    "    x_train = adata_source.obsm[\"X_emb\"][train]\n",
    "    y_train = adata_source.obs.Metadata_JCP2022[train]\n",
    "    x_test = adata_source.obsm[\"X_emb\"][test]\n",
    "    y_test = adata_source.obs.Metadata_JCP2022[test]\n",
    "    model_integrated_source = LogisticRegression(random_state=52).fit(x_train, y_train)\n",
    "    y_test_pred = model_integrated_source.predict(x_test)\n",
    "    accuracies.append(balanced_accuracy_score(y_test, y_test_pred))"
   ]
  },
  {
   "cell_type": "code",
   "execution_count": 34,
   "metadata": {},
   "outputs": [
    {
     "name": "stdout",
     "output_type": "stream",
     "text": [
      "Harmony low level integration:\n",
      "source_10: balanced accuracy 0.04410710702101431\n",
      "source_11: balanced accuracy 0.08870493009565857\n",
      "source_13: balanced accuracy 0.06444839282829913\n",
      "source_2: balanced accuracy 0.05813953488372093\n",
      "source_3: balanced accuracy 0.22845612582781458\n",
      "source_4: balanced accuracy 0.19911817199755766\n",
      "source_5: balanced accuracy 0.08227080651849296\n",
      "source_6: balanced accuracy 0.17787136849228985\n",
      "source_7: balanced accuracy 0.0455849889624724\n",
      "source_8: balanced accuracy 0.01937984496124031\n",
      "source_9: balanced accuracy 0.1699078587059653\n",
      "Mean: 0.107089920935866\n"
     ]
    }
   ],
   "source": [
    "print(\"Harmony low level integration:\")\n",
    "for s, a in zip(sources, accuracies):\n",
    "    print(f\"{s}: balanced accuracy {a}\")\n",
    "print(f\"Mean: {np.mean(accuracies)}\")"
   ]
  },
  {
   "cell_type": "code",
   "execution_count": 35,
   "metadata": {},
   "outputs": [
    {
     "name": "stdout",
     "output_type": "stream",
     "text": [
      "Starting with source_10\n",
      "Starting with source_11\n",
      "Starting with source_13\n",
      "Starting with source_2\n",
      "Starting with source_3\n",
      "Starting with source_4\n",
      "Starting with source_5\n",
      "Starting with source_6\n",
      "Starting with source_7\n",
      "Starting with source_8\n",
      "Starting with source_9\n"
     ]
    }
   ],
   "source": [
    "# Scanorama\n",
    "sources = scanorama_low.obs.Metadata_Source.unique()\n",
    "accuracies = []\n",
    "\n",
    "for source in sources:\n",
    "    print(f\"Starting with {source}\")\n",
    "    adata_source = scanorama_low[scanorama_low.obs.Metadata_Source==source].copy()\n",
    "    train, test = [x for x in sss.split(adata_source.obsm[\"X_emb\"], adata_source.obs.Metadata_JCP2022)][0]\n",
    "    x_train = adata_source.obsm[\"X_emb\"][train]\n",
    "    y_train = adata_source.obs.Metadata_JCP2022[train]\n",
    "    x_test = adata_source.obsm[\"X_emb\"][test]\n",
    "    y_test = adata_source.obs.Metadata_JCP2022[test]\n",
    "    model_integrated_source = LogisticRegression(random_state=52).fit(x_train, y_train)\n",
    "    y_test_pred = model_integrated_source.predict(x_test)\n",
    "    accuracies.append(balanced_accuracy_score(y_test, y_test_pred))"
   ]
  },
  {
   "cell_type": "code",
   "execution_count": 36,
   "metadata": {},
   "outputs": [
    {
     "name": "stdout",
     "output_type": "stream",
     "text": [
      "Scanorama low level integration:\n",
      "source_10: balanced accuracy 0.0033112582781456954\n",
      "source_11: balanced accuracy 0.023178807947019868\n",
      "source_13: balanced accuracy 0.005518763796909492\n",
      "source_2: balanced accuracy 0.026578073089700997\n",
      "source_3: balanced accuracy 0.06688741721854305\n",
      "source_4: balanced accuracy 0.03780353200883002\n",
      "source_5: balanced accuracy 0.03377483443708609\n",
      "source_6: balanced accuracy 0.055439406390486785\n",
      "source_7: balanced accuracy 0.017660044150110375\n",
      "source_8: balanced accuracy 0.003875968992248062\n",
      "source_9: balanced accuracy 0.030054577102277893\n",
      "Mean: 0.02764388031012348\n"
     ]
    }
   ],
   "source": [
    "print(\"Scanorama low level integration:\")\n",
    "for s, a in zip(sources, accuracies):\n",
    "    print(f\"{s}: balanced accuracy {a}\")\n",
    "print(f\"Mean: {np.mean(accuracies)}\")"
   ]
  },
  {
   "cell_type": "code",
   "execution_count": 37,
   "metadata": {},
   "outputs": [
    {
     "name": "stdout",
     "output_type": "stream",
     "text": [
      "Starting with source_10\n"
     ]
    },
    {
     "name": "stderr",
     "output_type": "stream",
     "text": [
      "/home/stockhaus/miniconda3/envs/mp/lib/python3.9/site-packages/sklearn/linear_model/_logistic.py:458: ConvergenceWarning: lbfgs failed to converge (status=1):\n",
      "STOP: TOTAL NO. of ITERATIONS REACHED LIMIT.\n",
      "\n",
      "Increase the number of iterations (max_iter) or scale the data as shown in:\n",
      "    https://scikit-learn.org/stable/modules/preprocessing.html\n",
      "Please also refer to the documentation for alternative solver options:\n",
      "    https://scikit-learn.org/stable/modules/linear_model.html#logistic-regression\n",
      "  n_iter_i = _check_optimize_result(\n"
     ]
    },
    {
     "name": "stdout",
     "output_type": "stream",
     "text": [
      "Starting with source_11\n"
     ]
    },
    {
     "name": "stderr",
     "output_type": "stream",
     "text": [
      "/home/stockhaus/miniconda3/envs/mp/lib/python3.9/site-packages/sklearn/linear_model/_logistic.py:458: ConvergenceWarning: lbfgs failed to converge (status=1):\n",
      "STOP: TOTAL NO. of ITERATIONS REACHED LIMIT.\n",
      "\n",
      "Increase the number of iterations (max_iter) or scale the data as shown in:\n",
      "    https://scikit-learn.org/stable/modules/preprocessing.html\n",
      "Please also refer to the documentation for alternative solver options:\n",
      "    https://scikit-learn.org/stable/modules/linear_model.html#logistic-regression\n",
      "  n_iter_i = _check_optimize_result(\n"
     ]
    },
    {
     "name": "stdout",
     "output_type": "stream",
     "text": [
      "Starting with source_13\n"
     ]
    },
    {
     "name": "stderr",
     "output_type": "stream",
     "text": [
      "/home/stockhaus/miniconda3/envs/mp/lib/python3.9/site-packages/sklearn/linear_model/_logistic.py:458: ConvergenceWarning: lbfgs failed to converge (status=1):\n",
      "STOP: TOTAL NO. of ITERATIONS REACHED LIMIT.\n",
      "\n",
      "Increase the number of iterations (max_iter) or scale the data as shown in:\n",
      "    https://scikit-learn.org/stable/modules/preprocessing.html\n",
      "Please also refer to the documentation for alternative solver options:\n",
      "    https://scikit-learn.org/stable/modules/linear_model.html#logistic-regression\n",
      "  n_iter_i = _check_optimize_result(\n"
     ]
    },
    {
     "name": "stdout",
     "output_type": "stream",
     "text": [
      "Starting with source_2\n"
     ]
    },
    {
     "name": "stderr",
     "output_type": "stream",
     "text": [
      "/home/stockhaus/miniconda3/envs/mp/lib/python3.9/site-packages/sklearn/linear_model/_logistic.py:458: ConvergenceWarning: lbfgs failed to converge (status=1):\n",
      "STOP: TOTAL NO. of ITERATIONS REACHED LIMIT.\n",
      "\n",
      "Increase the number of iterations (max_iter) or scale the data as shown in:\n",
      "    https://scikit-learn.org/stable/modules/preprocessing.html\n",
      "Please also refer to the documentation for alternative solver options:\n",
      "    https://scikit-learn.org/stable/modules/linear_model.html#logistic-regression\n",
      "  n_iter_i = _check_optimize_result(\n"
     ]
    },
    {
     "name": "stdout",
     "output_type": "stream",
     "text": [
      "Starting with source_3\n"
     ]
    },
    {
     "name": "stderr",
     "output_type": "stream",
     "text": [
      "/home/stockhaus/miniconda3/envs/mp/lib/python3.9/site-packages/sklearn/linear_model/_logistic.py:458: ConvergenceWarning: lbfgs failed to converge (status=1):\n",
      "STOP: TOTAL NO. of ITERATIONS REACHED LIMIT.\n",
      "\n",
      "Increase the number of iterations (max_iter) or scale the data as shown in:\n",
      "    https://scikit-learn.org/stable/modules/preprocessing.html\n",
      "Please also refer to the documentation for alternative solver options:\n",
      "    https://scikit-learn.org/stable/modules/linear_model.html#logistic-regression\n",
      "  n_iter_i = _check_optimize_result(\n"
     ]
    },
    {
     "name": "stdout",
     "output_type": "stream",
     "text": [
      "Starting with source_4\n"
     ]
    },
    {
     "name": "stderr",
     "output_type": "stream",
     "text": [
      "/home/stockhaus/miniconda3/envs/mp/lib/python3.9/site-packages/sklearn/linear_model/_logistic.py:458: ConvergenceWarning: lbfgs failed to converge (status=1):\n",
      "STOP: TOTAL NO. of ITERATIONS REACHED LIMIT.\n",
      "\n",
      "Increase the number of iterations (max_iter) or scale the data as shown in:\n",
      "    https://scikit-learn.org/stable/modules/preprocessing.html\n",
      "Please also refer to the documentation for alternative solver options:\n",
      "    https://scikit-learn.org/stable/modules/linear_model.html#logistic-regression\n",
      "  n_iter_i = _check_optimize_result(\n"
     ]
    },
    {
     "name": "stdout",
     "output_type": "stream",
     "text": [
      "Starting with source_5\n"
     ]
    },
    {
     "name": "stderr",
     "output_type": "stream",
     "text": [
      "/home/stockhaus/miniconda3/envs/mp/lib/python3.9/site-packages/sklearn/linear_model/_logistic.py:458: ConvergenceWarning: lbfgs failed to converge (status=1):\n",
      "STOP: TOTAL NO. of ITERATIONS REACHED LIMIT.\n",
      "\n",
      "Increase the number of iterations (max_iter) or scale the data as shown in:\n",
      "    https://scikit-learn.org/stable/modules/preprocessing.html\n",
      "Please also refer to the documentation for alternative solver options:\n",
      "    https://scikit-learn.org/stable/modules/linear_model.html#logistic-regression\n",
      "  n_iter_i = _check_optimize_result(\n"
     ]
    },
    {
     "name": "stdout",
     "output_type": "stream",
     "text": [
      "Starting with source_6\n"
     ]
    },
    {
     "name": "stderr",
     "output_type": "stream",
     "text": [
      "/home/stockhaus/miniconda3/envs/mp/lib/python3.9/site-packages/sklearn/linear_model/_logistic.py:458: ConvergenceWarning: lbfgs failed to converge (status=1):\n",
      "STOP: TOTAL NO. of ITERATIONS REACHED LIMIT.\n",
      "\n",
      "Increase the number of iterations (max_iter) or scale the data as shown in:\n",
      "    https://scikit-learn.org/stable/modules/preprocessing.html\n",
      "Please also refer to the documentation for alternative solver options:\n",
      "    https://scikit-learn.org/stable/modules/linear_model.html#logistic-regression\n",
      "  n_iter_i = _check_optimize_result(\n"
     ]
    },
    {
     "name": "stdout",
     "output_type": "stream",
     "text": [
      "Starting with source_7\n"
     ]
    },
    {
     "name": "stderr",
     "output_type": "stream",
     "text": [
      "/home/stockhaus/miniconda3/envs/mp/lib/python3.9/site-packages/sklearn/linear_model/_logistic.py:458: ConvergenceWarning: lbfgs failed to converge (status=1):\n",
      "STOP: TOTAL NO. of ITERATIONS REACHED LIMIT.\n",
      "\n",
      "Increase the number of iterations (max_iter) or scale the data as shown in:\n",
      "    https://scikit-learn.org/stable/modules/preprocessing.html\n",
      "Please also refer to the documentation for alternative solver options:\n",
      "    https://scikit-learn.org/stable/modules/linear_model.html#logistic-regression\n",
      "  n_iter_i = _check_optimize_result(\n"
     ]
    },
    {
     "name": "stdout",
     "output_type": "stream",
     "text": [
      "Starting with source_8\n"
     ]
    },
    {
     "name": "stderr",
     "output_type": "stream",
     "text": [
      "/home/stockhaus/miniconda3/envs/mp/lib/python3.9/site-packages/sklearn/linear_model/_logistic.py:458: ConvergenceWarning: lbfgs failed to converge (status=1):\n",
      "STOP: TOTAL NO. of ITERATIONS REACHED LIMIT.\n",
      "\n",
      "Increase the number of iterations (max_iter) or scale the data as shown in:\n",
      "    https://scikit-learn.org/stable/modules/preprocessing.html\n",
      "Please also refer to the documentation for alternative solver options:\n",
      "    https://scikit-learn.org/stable/modules/linear_model.html#logistic-regression\n",
      "  n_iter_i = _check_optimize_result(\n",
      "/home/stockhaus/miniconda3/envs/mp/lib/python3.9/site-packages/sklearn/metrics/_classification.py:2184: UserWarning: y_pred contains classes not in y_true\n",
      "  warnings.warn(\"y_pred contains classes not in y_true\")\n"
     ]
    },
    {
     "name": "stdout",
     "output_type": "stream",
     "text": [
      "Starting with source_9\n"
     ]
    },
    {
     "name": "stderr",
     "output_type": "stream",
     "text": [
      "/home/stockhaus/miniconda3/envs/mp/lib/python3.9/site-packages/sklearn/linear_model/_logistic.py:458: ConvergenceWarning: lbfgs failed to converge (status=1):\n",
      "STOP: TOTAL NO. of ITERATIONS REACHED LIMIT.\n",
      "\n",
      "Increase the number of iterations (max_iter) or scale the data as shown in:\n",
      "    https://scikit-learn.org/stable/modules/preprocessing.html\n",
      "Please also refer to the documentation for alternative solver options:\n",
      "    https://scikit-learn.org/stable/modules/linear_model.html#logistic-regression\n",
      "  n_iter_i = _check_optimize_result(\n"
     ]
    }
   ],
   "source": [
    "# scGen\n",
    "sources = scgen_low.obs.Metadata_Source.unique()\n",
    "accuracies = []\n",
    "\n",
    "for source in sources:\n",
    "    print(f\"Starting with {source}\")\n",
    "    adata_source = scgen_low[scgen_low.obs.Metadata_Source==source].copy()\n",
    "    train, test = [x for x in sss.split(adata_source.obsm[\"corrected_latent\"], adata_source.obs.Metadata_JCP2022)][0]\n",
    "    x_train = adata_source.obsm[\"corrected_latent\"][train]\n",
    "    y_train = adata_source.obs.Metadata_JCP2022[train]\n",
    "    x_test = adata_source.obsm[\"corrected_latent\"][test]\n",
    "    y_test = adata_source.obs.Metadata_JCP2022[test]\n",
    "    model_integrated_source = LogisticRegression(random_state=52).fit(x_train, y_train)\n",
    "    y_test_pred = model_integrated_source.predict(x_test)\n",
    "    accuracies.append(balanced_accuracy_score(y_test, y_test_pred))"
   ]
  },
  {
   "cell_type": "code",
   "execution_count": 38,
   "metadata": {},
   "outputs": [
    {
     "name": "stdout",
     "output_type": "stream",
     "text": [
      "scGen low level integration:\n",
      "source_10: balanced accuracy 0.5\n",
      "source_11: balanced accuracy 0.3079470198675497\n",
      "source_13: balanced accuracy 0.18543046357615894\n",
      "source_2: balanced accuracy 0.26578073089701\n",
      "source_3: balanced accuracy 0.9079470198675497\n",
      "source_4: balanced accuracy 0.937430526200429\n",
      "source_5: balanced accuracy 0.5927152317880795\n",
      "source_6: balanced accuracy 0.5820456217807211\n",
      "source_7: balanced accuracy 0.4713024282560706\n",
      "source_8: balanced accuracy 0.17054263565891473\n",
      "source_9: balanced accuracy 0.024462318147583408\n",
      "Mean: 0.4496003632763697\n"
     ]
    }
   ],
   "source": [
    "print(\"scGen low level integration:\")\n",
    "for s, a in zip(sources, accuracies):\n",
    "    print(f\"{s}: balanced accuracy {a}\")\n",
    "print(f\"Mean: {np.mean(accuracies)}\")"
   ]
  },
  {
   "cell_type": "code",
   "execution_count": 39,
   "metadata": {},
   "outputs": [
    {
     "name": "stdout",
     "output_type": "stream",
     "text": [
      "Starting with source_10\n",
      "Starting with source_11\n",
      "Starting with source_13\n",
      "Starting with source_2\n",
      "Starting with source_3\n",
      "Starting with source_4\n",
      "Starting with source_5\n",
      "Starting with source_6\n",
      "Starting with source_7\n",
      "Starting with source_8\n",
      "Starting with source_9\n"
     ]
    }
   ],
   "source": [
    "# scVI\n",
    "sources = scvi_low.obs.Metadata_Source.unique()\n",
    "accuracies = []\n",
    "\n",
    "for source in sources:\n",
    "    print(f\"Starting with {source}\")\n",
    "    adata_source = scvi_low[scvi_low.obs.Metadata_Source==source].copy()\n",
    "    train, test = [x for x in sss.split(adata_source.obsm[\"X_emb\"], adata_source.obs.Metadata_JCP2022)][0]\n",
    "    x_train = adata_source.obsm[\"X_emb\"][train]\n",
    "    y_train = adata_source.obs.Metadata_JCP2022[train]\n",
    "    x_test = adata_source.obsm[\"X_emb\"][test]\n",
    "    y_test = adata_source.obs.Metadata_JCP2022[test]\n",
    "    model_integrated_source = LogisticRegression(random_state=52).fit(x_train, y_train)\n",
    "    y_test_pred = model_integrated_source.predict(x_test)\n",
    "    accuracies.append(balanced_accuracy_score(y_test, y_test_pred))"
   ]
  },
  {
   "cell_type": "code",
   "execution_count": 40,
   "metadata": {},
   "outputs": [
    {
     "name": "stdout",
     "output_type": "stream",
     "text": [
      "scVI low level integration:\n",
      "source_10: balanced accuracy 0.0033112582781456954\n",
      "source_11: balanced accuracy 0.0033112582781456954\n",
      "source_13: balanced accuracy 0.0033112582781456954\n",
      "source_2: balanced accuracy 0.0033222591362126247\n",
      "source_3: balanced accuracy 0.0033112582781456954\n",
      "source_4: balanced accuracy 0.0033112582781456954\n",
      "source_5: balanced accuracy 0.0033112582781456954\n",
      "source_6: balanced accuracy 0.0033112582781456954\n",
      "source_7: balanced accuracy 0.0033112582781456954\n",
      "source_8: balanced accuracy 0.003875968992248062\n",
      "source_9: balanced accuracy 0.0033112582781456954\n",
      "Mean: 0.0033635956937974497\n"
     ]
    }
   ],
   "source": [
    "print(\"scVI low level integration:\")\n",
    "for s, a in zip(sources, accuracies):\n",
    "    print(f\"{s}: balanced accuracy {a}\")\n",
    "print(f\"Mean: {np.mean(accuracies)}\")"
   ]
  },
  {
   "cell_type": "code",
   "execution_count": 41,
   "metadata": {},
   "outputs": [
    {
     "name": "stdout",
     "output_type": "stream",
     "text": [
      "Starting with source_2\n",
      "Starting with source_3\n"
     ]
    },
    {
     "name": "stderr",
     "output_type": "stream",
     "text": [
      "/home/stockhaus/miniconda3/envs/mp/lib/python3.9/site-packages/sklearn/linear_model/_logistic.py:458: ConvergenceWarning: lbfgs failed to converge (status=1):\n",
      "STOP: TOTAL NO. of ITERATIONS REACHED LIMIT.\n",
      "\n",
      "Increase the number of iterations (max_iter) or scale the data as shown in:\n",
      "    https://scikit-learn.org/stable/modules/preprocessing.html\n",
      "Please also refer to the documentation for alternative solver options:\n",
      "    https://scikit-learn.org/stable/modules/linear_model.html#logistic-regression\n",
      "  n_iter_i = _check_optimize_result(\n"
     ]
    },
    {
     "name": "stdout",
     "output_type": "stream",
     "text": [
      "Starting with source_4\n"
     ]
    },
    {
     "name": "stderr",
     "output_type": "stream",
     "text": [
      "/home/stockhaus/miniconda3/envs/mp/lib/python3.9/site-packages/sklearn/linear_model/_logistic.py:458: ConvergenceWarning: lbfgs failed to converge (status=1):\n",
      "STOP: TOTAL NO. of ITERATIONS REACHED LIMIT.\n",
      "\n",
      "Increase the number of iterations (max_iter) or scale the data as shown in:\n",
      "    https://scikit-learn.org/stable/modules/preprocessing.html\n",
      "Please also refer to the documentation for alternative solver options:\n",
      "    https://scikit-learn.org/stable/modules/linear_model.html#logistic-regression\n",
      "  n_iter_i = _check_optimize_result(\n"
     ]
    },
    {
     "name": "stdout",
     "output_type": "stream",
     "text": [
      "Starting with source_5\n"
     ]
    },
    {
     "name": "stderr",
     "output_type": "stream",
     "text": [
      "/home/stockhaus/miniconda3/envs/mp/lib/python3.9/site-packages/sklearn/linear_model/_logistic.py:458: ConvergenceWarning: lbfgs failed to converge (status=1):\n",
      "STOP: TOTAL NO. of ITERATIONS REACHED LIMIT.\n",
      "\n",
      "Increase the number of iterations (max_iter) or scale the data as shown in:\n",
      "    https://scikit-learn.org/stable/modules/preprocessing.html\n",
      "Please also refer to the documentation for alternative solver options:\n",
      "    https://scikit-learn.org/stable/modules/linear_model.html#logistic-regression\n",
      "  n_iter_i = _check_optimize_result(\n"
     ]
    },
    {
     "name": "stdout",
     "output_type": "stream",
     "text": [
      "Starting with source_6\n",
      "Starting with source_7\n",
      "Starting with source_8\n"
     ]
    },
    {
     "name": "stderr",
     "output_type": "stream",
     "text": [
      "/home/stockhaus/miniconda3/envs/mp/lib/python3.9/site-packages/sklearn/metrics/_classification.py:2184: UserWarning: y_pred contains classes not in y_true\n",
      "  warnings.warn(\"y_pred contains classes not in y_true\")\n"
     ]
    },
    {
     "name": "stdout",
     "output_type": "stream",
     "text": [
      "Starting with source_9\n",
      "Starting with source_10\n",
      "Starting with source_11\n",
      "Starting with source_13\n"
     ]
    }
   ],
   "source": [
    "# scanVI\n",
    "sources = scanvi_low.obs.Metadata_Source.unique()\n",
    "accuracies = []\n",
    "\n",
    "for source in sources:\n",
    "    print(f\"Starting with {source}\")\n",
    "    adata_source = scanvi_low[scanvi_low.obs.Metadata_Source==source].copy()\n",
    "    train, test = [x for x in sss.split(adata_source.obsm[\"X_emb\"], adata_source.obs.Metadata_JCP2022)][0]\n",
    "    x_train = adata_source.obsm[\"X_emb\"][train]\n",
    "    y_train = adata_source.obs.Metadata_JCP2022[train]\n",
    "    x_test = adata_source.obsm[\"X_emb\"][test]\n",
    "    y_test = adata_source.obs.Metadata_JCP2022[test]\n",
    "    model_integrated_source = LogisticRegression(random_state=52).fit(x_train, y_train)\n",
    "    y_test_pred = model_integrated_source.predict(x_test)\n",
    "    accuracies.append(balanced_accuracy_score(y_test, y_test_pred))"
   ]
  },
  {
   "cell_type": "code",
   "execution_count": 42,
   "metadata": {},
   "outputs": [
    {
     "name": "stdout",
     "output_type": "stream",
     "text": [
      "scanVI low level integration:\n",
      "source_2: balanced accuracy 0.054817275747508304\n",
      "source_3: balanced accuracy 0.252317880794702\n",
      "source_4: balanced accuracy 0.1979580573951435\n",
      "source_5: balanced accuracy 0.12891832229580574\n",
      "source_6: balanced accuracy 0.19641280353200882\n",
      "source_7: balanced accuracy 0.14183222958057393\n",
      "source_8: balanced accuracy 0.05426356589147287\n",
      "source_9: balanced accuracy 0.08736203090507726\n",
      "source_10: balanced accuracy 0.04856512141280353\n",
      "source_11: balanced accuracy 0.10651214128035319\n",
      "source_13: balanced accuracy 0.08057395143487858\n",
      "Mean: 0.12268485275184798\n"
     ]
    }
   ],
   "source": [
    "print(\"scanVI low level integration:\")\n",
    "for s, a in zip(sources, accuracies):\n",
    "    print(f\"{s}: balanced accuracy {a}\")\n",
    "print(f\"Mean: {np.mean(accuracies)}\")"
   ]
  },
  {
   "cell_type": "markdown",
   "metadata": {},
   "source": [
    "**High-Level Integrations**\n",
    "\n",
    "Overall"
   ]
  },
  {
   "cell_type": "code",
   "execution_count": 43,
   "metadata": {},
   "outputs": [
    {
     "name": "stdout",
     "output_type": "stream",
     "text": [
      "Harmony: balanced Accuracy = 0.03930124612340201\n"
     ]
    },
    {
     "name": "stderr",
     "output_type": "stream",
     "text": [
      "/home/stockhaus/miniconda3/envs/mp/lib/python3.9/site-packages/sklearn/linear_model/_logistic.py:458: ConvergenceWarning: lbfgs failed to converge (status=1):\n",
      "STOP: TOTAL NO. of ITERATIONS REACHED LIMIT.\n",
      "\n",
      "Increase the number of iterations (max_iter) or scale the data as shown in:\n",
      "    https://scikit-learn.org/stable/modules/preprocessing.html\n",
      "Please also refer to the documentation for alternative solver options:\n",
      "    https://scikit-learn.org/stable/modules/linear_model.html#logistic-regression\n",
      "  n_iter_i = _check_optimize_result(\n"
     ]
    }
   ],
   "source": [
    "# Harmony\n",
    "train, test = [x for x in sss.split(harmony_high.obsm[\"X_emb\"], harmony_high.obs.Metadata_JCP2022)][0]\n",
    "x_train = harmony_high.obsm[\"X_emb\"][train]\n",
    "y_train = harmony_high.obs.Metadata_JCP2022[train]\n",
    "x_test = harmony_high.obsm[\"X_emb\"][test]\n",
    "y_test = harmony_high.obs.Metadata_JCP2022[test]\n",
    "\n",
    "model_integrated_overall = LogisticRegression(random_state=52).fit(x_train, y_train)\n",
    "y_test_pred = model_integrated_overall.predict(x_test)\n",
    "print(\"Harmony: balanced Accuracy = \" + str(balanced_accuracy_score(y_test, y_test_pred)))"
   ]
  },
  {
   "cell_type": "code",
   "execution_count": 44,
   "metadata": {},
   "outputs": [
    {
     "name": "stdout",
     "output_type": "stream",
     "text": [
      "Scanorama: balanced Accuracy = 0.02424547419206523\n"
     ]
    },
    {
     "name": "stderr",
     "output_type": "stream",
     "text": [
      "/home/stockhaus/miniconda3/envs/mp/lib/python3.9/site-packages/sklearn/linear_model/_logistic.py:458: ConvergenceWarning: lbfgs failed to converge (status=1):\n",
      "STOP: TOTAL NO. of ITERATIONS REACHED LIMIT.\n",
      "\n",
      "Increase the number of iterations (max_iter) or scale the data as shown in:\n",
      "    https://scikit-learn.org/stable/modules/preprocessing.html\n",
      "Please also refer to the documentation for alternative solver options:\n",
      "    https://scikit-learn.org/stable/modules/linear_model.html#logistic-regression\n",
      "  n_iter_i = _check_optimize_result(\n"
     ]
    }
   ],
   "source": [
    "# Scanorama\n",
    "train, test = [x for x in sss.split(scanorama_high.obsm[\"X_emb\"], scanorama_high.obs.Metadata_JCP2022)][0]\n",
    "x_train = scanorama_high.obsm[\"X_emb\"][train]\n",
    "y_train = scanorama_high.obs.Metadata_JCP2022[train]\n",
    "x_test = scanorama_high.obsm[\"X_emb\"][test]\n",
    "y_test = scanorama_high.obs.Metadata_JCP2022[test]\n",
    "\n",
    "model_integrated_overall = LogisticRegression(random_state=52).fit(x_train, y_train)\n",
    "y_test_pred = model_integrated_overall.predict(x_test)\n",
    "print(\"Scanorama: balanced Accuracy = \" + str(balanced_accuracy_score(y_test, y_test_pred)))"
   ]
  },
  {
   "cell_type": "code",
   "execution_count": 46,
   "metadata": {},
   "outputs": [
    {
     "name": "stdout",
     "output_type": "stream",
     "text": [
      "scGen: balanced Accuracy = 0.009589011770837354\n"
     ]
    },
    {
     "name": "stderr",
     "output_type": "stream",
     "text": [
      "/home/stockhaus/miniconda3/envs/mp/lib/python3.9/site-packages/sklearn/linear_model/_logistic.py:458: ConvergenceWarning: lbfgs failed to converge (status=1):\n",
      "STOP: TOTAL NO. of ITERATIONS REACHED LIMIT.\n",
      "\n",
      "Increase the number of iterations (max_iter) or scale the data as shown in:\n",
      "    https://scikit-learn.org/stable/modules/preprocessing.html\n",
      "Please also refer to the documentation for alternative solver options:\n",
      "    https://scikit-learn.org/stable/modules/linear_model.html#logistic-regression\n",
      "  n_iter_i = _check_optimize_result(\n"
     ]
    }
   ],
   "source": [
    "# scGen\n",
    "train, test = [x for x in sss.split(scgen_high.obsm[\"corrected_latent\"], scgen_high.obs.Metadata_JCP2022)][0]\n",
    "x_train = scgen_high.obsm[\"corrected_latent\"][train]\n",
    "y_train = scgen_high.obs.Metadata_JCP2022[train]\n",
    "x_test = scgen_high.obsm[\"corrected_latent\"][test]\n",
    "y_test = scgen_high.obs.Metadata_JCP2022[test]\n",
    "\n",
    "model_integrated_overall = LogisticRegression(random_state=52).fit(x_train, y_train)\n",
    "y_test_pred = model_integrated_overall.predict(x_test)\n",
    "print(\"scGen: balanced Accuracy = \" + str(balanced_accuracy_score(y_test, y_test_pred)))"
   ]
  },
  {
   "cell_type": "code",
   "execution_count": 47,
   "metadata": {},
   "outputs": [
    {
     "name": "stdout",
     "output_type": "stream",
     "text": [
      "scVI: balanced Accuracy = 0.0033112582781456954\n"
     ]
    }
   ],
   "source": [
    "# scVI\n",
    "train, test = [x for x in sss.split(scvi_high.obsm[\"X_emb\"], scvi_high.obs.Metadata_JCP2022)][0]\n",
    "x_train = scvi_high.obsm[\"X_emb\"][train]\n",
    "y_train = scvi_high.obs.Metadata_JCP2022[train]\n",
    "x_test = scvi_high.obsm[\"X_emb\"][test]\n",
    "y_test = scvi_high.obs.Metadata_JCP2022[test]\n",
    "\n",
    "model_integrated_overall = LogisticRegression(random_state=52).fit(x_train, y_train)\n",
    "y_test_pred = model_integrated_overall.predict(x_test)\n",
    "print(\"scVI: balanced Accuracy = \" + str(balanced_accuracy_score(y_test, y_test_pred)))"
   ]
  },
  {
   "cell_type": "code",
   "execution_count": 48,
   "metadata": {},
   "outputs": [
    {
     "name": "stdout",
     "output_type": "stream",
     "text": [
      "scanVI: balanced Accuracy = 0.10691896502030832\n"
     ]
    },
    {
     "name": "stderr",
     "output_type": "stream",
     "text": [
      "/home/stockhaus/miniconda3/envs/mp/lib/python3.9/site-packages/sklearn/linear_model/_logistic.py:458: ConvergenceWarning: lbfgs failed to converge (status=1):\n",
      "STOP: TOTAL NO. of ITERATIONS REACHED LIMIT.\n",
      "\n",
      "Increase the number of iterations (max_iter) or scale the data as shown in:\n",
      "    https://scikit-learn.org/stable/modules/preprocessing.html\n",
      "Please also refer to the documentation for alternative solver options:\n",
      "    https://scikit-learn.org/stable/modules/linear_model.html#logistic-regression\n",
      "  n_iter_i = _check_optimize_result(\n"
     ]
    }
   ],
   "source": [
    "# scanVI\n",
    "train, test = [x for x in sss.split(scanvi_high.obsm[\"X_emb\"], scanvi_high.obs.Metadata_JCP2022)][0]\n",
    "x_train = scanvi_high.obsm[\"X_emb\"][train]\n",
    "y_train = scanvi_high.obs.Metadata_JCP2022[train]\n",
    "x_test = scanvi_high.obsm[\"X_emb\"][test]\n",
    "y_test = scanvi_high.obs.Metadata_JCP2022[test]\n",
    "\n",
    "model_integrated_overall = LogisticRegression(random_state=52).fit(x_train, y_train)\n",
    "y_test_pred = model_integrated_overall.predict(x_test)\n",
    "print(\"scanVI: balanced Accuracy = \" + str(balanced_accuracy_score(y_test, y_test_pred)))"
   ]
  },
  {
   "cell_type": "code",
   "execution_count": 9,
   "metadata": {},
   "outputs": [
    {
     "name": "stdout",
     "output_type": "stream",
     "text": [
      "gaushANVI: balanced Accuracy = 0.011259220781681756\n"
     ]
    }
   ],
   "source": [
    "# gaushANVI\n",
    "train, test = [x for x in sss.split(gaushanvi_high.obsm[\"X_emb\"], gaushanvi_high.obs.Metadata_JCP2022)][0]\n",
    "x_train = gaushanvi_high.obsm[\"X_emb\"][train]\n",
    "y_train = gaushanvi_high.obs.Metadata_JCP2022[train]\n",
    "x_test = gaushanvi_high.obsm[\"X_emb\"][test]\n",
    "y_test = gaushanvi_high.obs.Metadata_JCP2022[test]\n",
    "\n",
    "model_integrated_overall = LogisticRegression(random_state=52).fit(x_train, y_train)\n",
    "y_test_pred = model_integrated_overall.predict(x_test)\n",
    "print(\"gaushANVI: balanced Accuracy = \" + str(balanced_accuracy_score(y_test, y_test_pred)))"
   ]
  },
  {
   "cell_type": "markdown",
   "metadata": {},
   "source": [
    "**Direct Integrations**\n",
    "\n",
    "Overall"
   ]
  },
  {
   "cell_type": "code",
   "execution_count": 51,
   "metadata": {},
   "outputs": [
    {
     "name": "stdout",
     "output_type": "stream",
     "text": [
      "Harmony: balanced Accuracy = 0.019557492102904327\n"
     ]
    },
    {
     "name": "stderr",
     "output_type": "stream",
     "text": [
      "/home/stockhaus/miniconda3/envs/mp/lib/python3.9/site-packages/sklearn/linear_model/_logistic.py:458: ConvergenceWarning: lbfgs failed to converge (status=1):\n",
      "STOP: TOTAL NO. of ITERATIONS REACHED LIMIT.\n",
      "\n",
      "Increase the number of iterations (max_iter) or scale the data as shown in:\n",
      "    https://scikit-learn.org/stable/modules/preprocessing.html\n",
      "Please also refer to the documentation for alternative solver options:\n",
      "    https://scikit-learn.org/stable/modules/linear_model.html#logistic-regression\n",
      "  n_iter_i = _check_optimize_result(\n"
     ]
    }
   ],
   "source": [
    "# Harmony\n",
    "train, test = [x for x in sss.split(harmony.obsm[\"X_emb\"], harmony.obs.Metadata_JCP2022)][0]\n",
    "x_train = harmony.obsm[\"X_emb\"][train]\n",
    "y_train = harmony.obs.Metadata_JCP2022[train]\n",
    "x_test = harmony.obsm[\"X_emb\"][test]\n",
    "y_test = harmony.obs.Metadata_JCP2022[test]\n",
    "\n",
    "model_integrated_overall = LogisticRegression(random_state=52).fit(x_train, y_train)\n",
    "y_test_pred = model_integrated_overall.predict(x_test)\n",
    "print(\"Harmony: balanced Accuracy = \" + str(balanced_accuracy_score(y_test, y_test_pred)))"
   ]
  },
  {
   "cell_type": "code",
   "execution_count": 52,
   "metadata": {},
   "outputs": [
    {
     "name": "stdout",
     "output_type": "stream",
     "text": [
      "Scanorama: balanced Accuracy = 0.014330616370151534\n"
     ]
    },
    {
     "name": "stderr",
     "output_type": "stream",
     "text": [
      "/home/stockhaus/miniconda3/envs/mp/lib/python3.9/site-packages/sklearn/linear_model/_logistic.py:458: ConvergenceWarning: lbfgs failed to converge (status=1):\n",
      "STOP: TOTAL NO. of ITERATIONS REACHED LIMIT.\n",
      "\n",
      "Increase the number of iterations (max_iter) or scale the data as shown in:\n",
      "    https://scikit-learn.org/stable/modules/preprocessing.html\n",
      "Please also refer to the documentation for alternative solver options:\n",
      "    https://scikit-learn.org/stable/modules/linear_model.html#logistic-regression\n",
      "  n_iter_i = _check_optimize_result(\n"
     ]
    }
   ],
   "source": [
    "# Scanorama\n",
    "train, test = [x for x in sss.split(scanorama.obsm[\"X_emb\"], scanorama.obs.Metadata_JCP2022)][0]\n",
    "x_train = scanorama.obsm[\"X_emb\"][train]\n",
    "y_train = scanorama.obs.Metadata_JCP2022[train]\n",
    "x_test = scanorama.obsm[\"X_emb\"][test]\n",
    "y_test = scanorama.obs.Metadata_JCP2022[test]\n",
    "\n",
    "model_integrated_overall = LogisticRegression(random_state=52).fit(x_train, y_train)\n",
    "y_test_pred = model_integrated_overall.predict(x_test)\n",
    "print(\"Scanorama: balanced Accuracy = \" + str(balanced_accuracy_score(y_test, y_test_pred)))"
   ]
  },
  {
   "cell_type": "code",
   "execution_count": 53,
   "metadata": {},
   "outputs": [
    {
     "name": "stdout",
     "output_type": "stream",
     "text": [
      "scGen: balanced Accuracy = 0.023557416396751487\n"
     ]
    },
    {
     "name": "stderr",
     "output_type": "stream",
     "text": [
      "/home/stockhaus/miniconda3/envs/mp/lib/python3.9/site-packages/sklearn/linear_model/_logistic.py:458: ConvergenceWarning: lbfgs failed to converge (status=1):\n",
      "STOP: TOTAL NO. of ITERATIONS REACHED LIMIT.\n",
      "\n",
      "Increase the number of iterations (max_iter) or scale the data as shown in:\n",
      "    https://scikit-learn.org/stable/modules/preprocessing.html\n",
      "Please also refer to the documentation for alternative solver options:\n",
      "    https://scikit-learn.org/stable/modules/linear_model.html#logistic-regression\n",
      "  n_iter_i = _check_optimize_result(\n"
     ]
    }
   ],
   "source": [
    "# scGen\n",
    "train, test = [x for x in sss.split(scgen.obsm[\"corrected_latent\"], scgen.obs.Metadata_JCP2022)][0]\n",
    "x_train = scgen.obsm[\"corrected_latent\"][train]\n",
    "y_train = scgen.obs.Metadata_JCP2022[train]\n",
    "x_test = scgen.obsm[\"corrected_latent\"][test]\n",
    "y_test = scgen.obs.Metadata_JCP2022[test]\n",
    "\n",
    "model_integrated_overall = LogisticRegression(random_state=52).fit(x_train, y_train)\n",
    "y_test_pred = model_integrated_overall.predict(x_test)\n",
    "print(\"scGen: balanced Accuracy = \" + str(balanced_accuracy_score(y_test, y_test_pred)))"
   ]
  },
  {
   "cell_type": "code",
   "execution_count": 54,
   "metadata": {},
   "outputs": [
    {
     "name": "stdout",
     "output_type": "stream",
     "text": [
      "scVI: balanced Accuracy = 0.0033112582781456954\n"
     ]
    }
   ],
   "source": [
    "# scVI\n",
    "train, test = [x for x in sss.split(scvi.obsm[\"X_emb\"], scvi.obs.Metadata_JCP2022)][0]\n",
    "x_train = scvi.obsm[\"X_emb\"][train]\n",
    "y_train = scvi.obs.Metadata_JCP2022[train]\n",
    "x_test = scvi.obsm[\"X_emb\"][test]\n",
    "y_test = scvi.obs.Metadata_JCP2022[test]\n",
    "\n",
    "model_integrated_overall = LogisticRegression(random_state=52).fit(x_train, y_train)\n",
    "y_test_pred = model_integrated_overall.predict(x_test)\n",
    "print(\"scVI: balanced Accuracy = \" + str(balanced_accuracy_score(y_test, y_test_pred)))"
   ]
  },
  {
   "cell_type": "code",
   "execution_count": 55,
   "metadata": {},
   "outputs": [
    {
     "name": "stdout",
     "output_type": "stream",
     "text": [
      "scanVI: balanced Accuracy = 0.05313143563189186\n"
     ]
    },
    {
     "name": "stderr",
     "output_type": "stream",
     "text": [
      "/home/stockhaus/miniconda3/envs/mp/lib/python3.9/site-packages/sklearn/linear_model/_logistic.py:458: ConvergenceWarning: lbfgs failed to converge (status=1):\n",
      "STOP: TOTAL NO. of ITERATIONS REACHED LIMIT.\n",
      "\n",
      "Increase the number of iterations (max_iter) or scale the data as shown in:\n",
      "    https://scikit-learn.org/stable/modules/preprocessing.html\n",
      "Please also refer to the documentation for alternative solver options:\n",
      "    https://scikit-learn.org/stable/modules/linear_model.html#logistic-regression\n",
      "  n_iter_i = _check_optimize_result(\n"
     ]
    }
   ],
   "source": [
    "# scanVI\n",
    "train, test = [x for x in sss.split(scanvi.obsm[\"X_emb\"], scanvi.obs.Metadata_JCP2022)][0]\n",
    "x_train = scanvi.obsm[\"X_emb\"][train]\n",
    "y_train = scanvi.obs.Metadata_JCP2022[train]\n",
    "x_test = scanvi.obsm[\"X_emb\"][test]\n",
    "y_test = scanvi.obs.Metadata_JCP2022[test]\n",
    "\n",
    "model_integrated_overall = LogisticRegression(random_state=52).fit(x_train, y_train)\n",
    "y_test_pred = model_integrated_overall.predict(x_test)\n",
    "print(\"scanVI: balanced Accuracy = \" + str(balanced_accuracy_score(y_test, y_test_pred)))"
   ]
  },
  {
   "cell_type": "code",
   "execution_count": 11,
   "metadata": {},
   "outputs": [
    {
     "name": "stdout",
     "output_type": "stream",
     "text": [
      "gaushVI: balanced Accuracy = 0.008975810198045973\n"
     ]
    }
   ],
   "source": [
    "# gaushVI\n",
    "gaushvi.obsm[\"X_emb\"] = gaushvi.X\n",
    "train, test = [x for x in sss.split(gaushvi.obsm[\"X_emb\"], gaushvi.obs.Metadata_JCP2022)][0]\n",
    "x_train = gaushvi.obsm[\"X_emb\"][train]\n",
    "y_train = gaushvi.obs.Metadata_JCP2022[train]\n",
    "x_test = gaushvi.obsm[\"X_emb\"][test]\n",
    "y_test = gaushvi.obs.Metadata_JCP2022[test]\n",
    "\n",
    "model_integrated_overall = LogisticRegression(random_state=52).fit(x_train, y_train)\n",
    "y_test_pred = model_integrated_overall.predict(x_test)\n",
    "print(\"gaushVI: balanced Accuracy = \" + str(balanced_accuracy_score(y_test, y_test_pred)))"
   ]
  },
  {
   "cell_type": "code",
   "execution_count": 12,
   "metadata": {},
   "outputs": [
    {
     "name": "stdout",
     "output_type": "stream",
     "text": [
      "gaushVI: balanced Accuracy = 0.0064666814969857765\n"
     ]
    }
   ],
   "source": [
    "# gaushANVI\n",
    "train, test = [x for x in sss.split(gaushanvi.obsm[\"X_emb\"], gaushanvi.obs.Metadata_JCP2022)][0]\n",
    "x_train = gaushanvi.obsm[\"X_emb\"][train]\n",
    "y_train = gaushanvi.obs.Metadata_JCP2022[train]\n",
    "x_test = gaushanvi.obsm[\"X_emb\"][test]\n",
    "y_test = gaushanvi.obs.Metadata_JCP2022[test]\n",
    "\n",
    "model_integrated_overall = LogisticRegression(random_state=52).fit(x_train, y_train)\n",
    "y_test_pred = model_integrated_overall.predict(x_test)\n",
    "print(\"gaushANVI: balanced Accuracy = \" + str(balanced_accuracy_score(y_test, y_test_pred)))"
   ]
  }
 ],
 "metadata": {
  "colab": {
   "authorship_tag": "ABX9TyNt11ZA2ANVIFMF+oczkwhp",
   "provenance": []
  },
  "kernelspec": {
   "display_name": "Python 3 (ipykernel)",
   "language": "python",
   "name": "python3"
  },
  "language_info": {
   "codemirror_mode": {
    "name": "ipython",
    "version": 3
   },
   "file_extension": ".py",
   "mimetype": "text/x-python",
   "name": "python",
   "nbconvert_exporter": "python",
   "pygments_lexer": "ipython3",
   "version": "3.9.16"
  }
 },
 "nbformat": 4,
 "nbformat_minor": 1
}
