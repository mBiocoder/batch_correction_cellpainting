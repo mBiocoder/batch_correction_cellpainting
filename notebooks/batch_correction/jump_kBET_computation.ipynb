{
 "cells": [
  {
   "cell_type": "markdown",
   "metadata": {},
   "source": [
    "# kBET Computation"
   ]
  },
  {
   "cell_type": "markdown",
   "metadata": {},
   "source": [
    "This notebook can be used for the computation of kBET scores for unintegrated and/or integrated data."
   ]
  },
  {
   "cell_type": "code",
   "execution_count": 5,
   "metadata": {},
   "outputs": [],
   "source": [
    "import scanpy as sc\n",
    "from bcc.scib_metrics import metrics_preparation, compute_kbet"
   ]
  },
  {
   "cell_type": "code",
   "execution_count": null,
   "metadata": {},
   "outputs": [],
   "source": [
    "# path to where the data files lie (unintegrated and integration results)\n",
    "data_path = \"../../data/jump/\""
   ]
  },
  {
   "cell_type": "code",
   "execution_count": 29,
   "metadata": {},
   "outputs": [],
   "source": [
    "adata = sc.read_h5ad(f\"{data_path}jump_target2_spherized.h5ad\")"
   ]
  },
  {
   "cell_type": "code",
   "execution_count": 27,
   "metadata": {},
   "outputs": [
    {
     "name": "stdout",
     "output_type": "stream",
     "text": [
      "resolution: 0.1, nmi: 0.3745754270986789\n",
      "resolution: 0.2, nmi: 0.382921772413323\n",
      "resolution: 0.3, nmi: 0.40736860512032375\n",
      "resolution: 0.4, nmi: 0.41110408843122015\n",
      "resolution: 0.5, nmi: 0.41988610258011505\n",
      "resolution: 0.6, nmi: 0.4203083495026127\n",
      "resolution: 0.7, nmi: 0.430521895594026\n",
      "resolution: 0.8, nmi: 0.4347411790421219\n",
      "resolution: 0.9, nmi: 0.4349087957690087\n",
      "resolution: 1.0, nmi: 0.43592790061632675\n",
      "resolution: 1.1, nmi: 0.439477729794429\n",
      "resolution: 1.2, nmi: 0.44053637474372875\n",
      "resolution: 1.3, nmi: 0.44208485880688625\n",
      "resolution: 1.4, nmi: 0.44509133408084495\n",
      "resolution: 1.5, nmi: 0.44509133408084495\n",
      "resolution: 1.6, nmi: 0.4494171863105538\n",
      "resolution: 1.7, nmi: 0.45369698195099567\n",
      "resolution: 1.8, nmi: 0.45369698195099567\n",
      "resolution: 1.9, nmi: 0.4536969819509958\n",
      "resolution: 2.0, nmi: 0.45766078990978315\n",
      "optimised clustering against Metadata_JCP2022\n",
      "optimal cluster resolution: 2.0\n",
      "optimal score: 0.45766078990978315\n",
      "resolution: 0.1, nmi: 0.3975587456880909\n",
      "resolution: 0.2, nmi: 0.39352516139752597\n",
      "resolution: 0.3, nmi: 0.38753885995409293\n",
      "resolution: 0.4, nmi: 0.3889694994684368\n",
      "resolution: 0.5, nmi: 0.3883907003991111\n",
      "resolution: 0.6, nmi: 0.3857320920122137\n",
      "resolution: 0.7, nmi: 0.3865470193802639\n",
      "resolution: 0.8, nmi: 0.38457771875160107\n",
      "resolution: 0.9, nmi: 0.38595331692595497\n",
      "resolution: 1.0, nmi: 0.3851363006573612\n",
      "resolution: 1.1, nmi: 0.3896962117938155\n",
      "resolution: 1.2, nmi: 0.39343085013832924\n",
      "resolution: 1.3, nmi: 0.3933361065933897\n",
      "resolution: 1.4, nmi: 0.38939060595934155\n",
      "resolution: 1.5, nmi: 0.39121630858502077\n",
      "resolution: 1.6, nmi: 0.393105654066628\n",
      "resolution: 1.7, nmi: 0.3916700343631337\n",
      "resolution: 1.8, nmi: 0.39141203161592797\n",
      "resolution: 1.9, nmi: 0.39011853919817\n",
      "resolution: 2.0, nmi: 0.3918527946952338\n",
      "optimised clustering against Metadata_JCP2022\n",
      "optimal cluster resolution: 0.1\n",
      "optimal score: 0.3975587456880909\n",
      "resolution: 0.1, nmi: 0.22321903307859486\n",
      "resolution: 0.2, nmi: 0.24610549814032476\n",
      "resolution: 0.3, nmi: 0.2433776289847009\n",
      "resolution: 0.4, nmi: 0.25838063952894685\n",
      "resolution: 0.5, nmi: 0.2615810712355812\n",
      "resolution: 0.6, nmi: 0.26448527433862934\n",
      "resolution: 0.7, nmi: 0.26427218417078513\n",
      "resolution: 0.8, nmi: 0.277222971994955\n",
      "resolution: 0.9, nmi: 0.281712872422774\n",
      "resolution: 1.0, nmi: 0.2888016954911357\n",
      "resolution: 1.1, nmi: 0.29578456783697044\n",
      "resolution: 1.2, nmi: 0.2991620466218273\n",
      "resolution: 1.3, nmi: 0.29692662256273716\n",
      "resolution: 1.4, nmi: 0.3009543297686252\n",
      "resolution: 1.5, nmi: 0.30211633129722415\n",
      "resolution: 1.6, nmi: 0.3044344967585187\n",
      "resolution: 1.7, nmi: 0.3008371260264185\n",
      "resolution: 1.8, nmi: 0.31003988144907857\n",
      "resolution: 1.9, nmi: 0.31516267759152067\n",
      "resolution: 2.0, nmi: 0.3108487037652067\n",
      "optimised clustering against Metadata_JCP2022\n",
      "optimal cluster resolution: 1.9\n",
      "optimal score: 0.31516267759152067\n",
      "resolution: 0.1, nmi: 0.2935088229283399\n",
      "resolution: 0.2, nmi: 0.3036982452588554\n",
      "resolution: 0.3, nmi: 0.3121142228916873\n",
      "resolution: 0.4, nmi: 0.32213420937872816\n",
      "resolution: 0.5, nmi: 0.3248366520178056\n",
      "resolution: 0.6, nmi: 0.3242210814618113\n",
      "resolution: 0.7, nmi: 0.3243985773336945\n",
      "resolution: 0.8, nmi: 0.3260817154621575\n",
      "resolution: 0.9, nmi: 0.32755744565673656\n",
      "resolution: 1.0, nmi: 0.32919189343578015\n",
      "resolution: 1.1, nmi: 0.3311572399190023\n",
      "resolution: 1.2, nmi: 0.3302892479019397\n",
      "resolution: 1.3, nmi: 0.33228277402022416\n",
      "resolution: 1.4, nmi: 0.3339555661854824\n",
      "resolution: 1.5, nmi: 0.33381032048988474\n",
      "resolution: 1.6, nmi: 0.3349872013265651\n",
      "resolution: 1.7, nmi: 0.3377258628989227\n",
      "resolution: 1.8, nmi: 0.33664288726705544\n",
      "resolution: 1.9, nmi: 0.33745844145046966\n",
      "resolution: 2.0, nmi: 0.3364920082616222\n",
      "optimised clustering against Metadata_JCP2022\n",
      "optimal cluster resolution: 1.7\n",
      "optimal score: 0.3377258628989227\n",
      "resolution: 0.1, nmi: 0.34999566900311885\n",
      "resolution: 0.2, nmi: 0.37976413233472506\n",
      "resolution: 0.3, nmi: 0.39441589778867764\n",
      "resolution: 0.4, nmi: 0.40322811547053244\n",
      "resolution: 0.5, nmi: 0.40647336787752036\n",
      "resolution: 0.6, nmi: 0.40764785076743015\n",
      "resolution: 0.7, nmi: 0.41788545827327794\n",
      "resolution: 0.8, nmi: 0.4191014001052791\n",
      "resolution: 0.9, nmi: 0.42367215740183617\n",
      "resolution: 1.0, nmi: 0.4272034059661031\n",
      "resolution: 1.1, nmi: 0.4340461914968086\n",
      "resolution: 1.2, nmi: 0.4360946674876302\n",
      "resolution: 1.3, nmi: 0.4333224875811069\n",
      "resolution: 1.4, nmi: 0.43504400192153536\n",
      "resolution: 1.5, nmi: 0.43389823899637087\n",
      "resolution: 1.6, nmi: 0.4333982736149822\n",
      "resolution: 1.7, nmi: 0.43373058595368413\n",
      "resolution: 1.8, nmi: 0.43625825042434313\n",
      "resolution: 1.9, nmi: 0.44025121062009004\n",
      "resolution: 2.0, nmi: 0.43970773596161666\n",
      "optimised clustering against Metadata_JCP2022\n",
      "optimal cluster resolution: 1.9\n",
      "optimal score: 0.44025121062009004\n",
      "resolution: 0.1, nmi: 0.34814344802251634\n",
      "resolution: 0.2, nmi: 0.3829576525760211\n",
      "resolution: 0.3, nmi: 0.4119586065362886\n",
      "resolution: 0.4, nmi: 0.41899816952122254\n",
      "resolution: 0.5, nmi: 0.4258637114799846\n",
      "resolution: 0.6, nmi: 0.4262777623946904\n",
      "resolution: 0.7, nmi: 0.43039929927353326\n",
      "resolution: 0.8, nmi: 0.4337245874677341\n",
      "resolution: 0.9, nmi: 0.441760721443519\n",
      "resolution: 1.0, nmi: 0.44508497687762005\n",
      "resolution: 1.1, nmi: 0.45122613764510466\n",
      "resolution: 1.2, nmi: 0.457166383295528\n",
      "resolution: 1.3, nmi: 0.4582455727460789\n",
      "resolution: 1.4, nmi: 0.4625924199144461\n",
      "resolution: 1.5, nmi: 0.4640494804111354\n",
      "resolution: 1.6, nmi: 0.46416761504663184\n",
      "resolution: 1.7, nmi: 0.4676580993828856\n",
      "resolution: 1.8, nmi: 0.46622684089596833\n",
      "resolution: 1.9, nmi: 0.4665959398177487\n",
      "resolution: 2.0, nmi: 0.4678081490217736\n",
      "optimised clustering against Metadata_JCP2022\n",
      "optimal cluster resolution: 2.0\n",
      "optimal score: 0.4678081490217736\n",
      "resolution: 0.1, nmi: 0.4163914253260349\n",
      "resolution: 0.2, nmi: 0.4267725884347246\n",
      "resolution: 0.3, nmi: 0.4339936944017381\n",
      "resolution: 0.4, nmi: 0.43898482478749284\n",
      "resolution: 0.5, nmi: 0.4508491614328183\n",
      "resolution: 0.6, nmi: 0.4563468064059795\n",
      "resolution: 0.7, nmi: 0.4667961053400546\n",
      "resolution: 0.8, nmi: 0.4749247770658729\n",
      "resolution: 0.9, nmi: 0.4812831750102293\n",
      "resolution: 1.0, nmi: 0.4812831750102293\n",
      "resolution: 1.1, nmi: 0.4845858509135078\n",
      "resolution: 1.2, nmi: 0.4876345537796006\n",
      "resolution: 1.3, nmi: 0.483814252282984\n",
      "resolution: 1.4, nmi: 0.4876345537796006\n",
      "resolution: 1.5, nmi: 0.4876345537796006\n",
      "resolution: 1.6, nmi: 0.4952263269919423\n",
      "resolution: 1.7, nmi: 0.4952263269919423\n",
      "resolution: 1.8, nmi: 0.49737019588942494\n",
      "resolution: 1.9, nmi: 0.49737019588942494\n",
      "resolution: 2.0, nmi: 0.4913221623639882\n",
      "optimised clustering against Metadata_JCP2022\n",
      "optimal cluster resolution: 1.8\n",
      "optimal score: 0.49737019588942494\n",
      "resolution: 0.1, nmi: 0.2739978632705809\n",
      "resolution: 0.2, nmi: 0.3359662673136585\n",
      "resolution: 0.3, nmi: 0.3574752425564961\n",
      "resolution: 0.4, nmi: 0.36231262606712683\n",
      "resolution: 0.5, nmi: 0.3647732952592949\n",
      "resolution: 0.6, nmi: 0.3714413653273169\n",
      "resolution: 0.7, nmi: 0.3811363922356021\n",
      "resolution: 0.8, nmi: 0.3841127060629662\n",
      "resolution: 0.9, nmi: 0.39187376454414063\n",
      "resolution: 1.0, nmi: 0.3927637758881652\n",
      "resolution: 1.1, nmi: 0.3941484604304526\n",
      "resolution: 1.2, nmi: 0.39930873853472704\n",
      "resolution: 1.3, nmi: 0.4013936418455156\n",
      "resolution: 1.4, nmi: 0.4037170374523831\n",
      "resolution: 1.5, nmi: 0.4074962509970073\n",
      "resolution: 1.6, nmi: 0.407543051991543\n",
      "resolution: 1.7, nmi: 0.4099124763380541\n",
      "resolution: 1.8, nmi: 0.4093433246577848\n",
      "resolution: 1.9, nmi: 0.40896317499166385\n",
      "resolution: 2.0, nmi: 0.4108709179639653\n",
      "optimised clustering against Metadata_JCP2022\n",
      "optimal cluster resolution: 2.0\n",
      "optimal score: 0.4108709179639653\n",
      "resolution: 0.1, nmi: 0.2756591555540884\n",
      "resolution: 0.2, nmi: 0.29319288930375875\n",
      "resolution: 0.3, nmi: 0.3438915590812341\n",
      "resolution: 0.4, nmi: 0.3707030815957765\n",
      "resolution: 0.5, nmi: 0.3784306973590983\n",
      "resolution: 0.6, nmi: 0.3932086884388969\n",
      "resolution: 0.7, nmi: 0.4145166135881315\n",
      "resolution: 0.8, nmi: 0.41058685456968547\n",
      "resolution: 0.9, nmi: 0.42027187274298927\n",
      "resolution: 1.0, nmi: 0.4333397381937512\n",
      "resolution: 1.1, nmi: 0.44244472091709697\n",
      "resolution: 1.2, nmi: 0.44244472091709697\n",
      "resolution: 1.3, nmi: 0.44244472091709697\n",
      "resolution: 1.4, nmi: 0.4451985696119222\n",
      "resolution: 1.5, nmi: 0.45379017368904745\n",
      "resolution: 1.6, nmi: 0.45628343301949637\n",
      "resolution: 1.7, nmi: 0.4607149896837469\n",
      "resolution: 1.8, nmi: 0.46826614757131363\n",
      "resolution: 1.9, nmi: 0.4611141789715796\n",
      "resolution: 2.0, nmi: 0.45904191935470456\n",
      "optimised clustering against Metadata_JCP2022\n",
      "optimal cluster resolution: 1.8\n",
      "optimal score: 0.46826614757131363\n",
      "resolution: 0.1, nmi: 0.3042235360528388\n",
      "resolution: 0.2, nmi: 0.3330954984981183\n",
      "resolution: 0.3, nmi: 0.36260458307903626\n",
      "resolution: 0.4, nmi: 0.3755820602777562\n",
      "resolution: 0.5, nmi: 0.40636828702836153\n",
      "resolution: 0.6, nmi: 0.4152459041333985\n",
      "resolution: 0.7, nmi: 0.41761332934922946\n",
      "resolution: 0.8, nmi: 0.4309563710296005\n",
      "resolution: 0.9, nmi: 0.4242689332782039\n",
      "resolution: 1.0, nmi: 0.4302912326974902\n",
      "resolution: 1.1, nmi: 0.43376052843983937\n",
      "resolution: 1.2, nmi: 0.43835204411974976\n",
      "resolution: 1.3, nmi: 0.4342853268404297\n",
      "resolution: 1.4, nmi: 0.45139152685470146\n",
      "resolution: 1.5, nmi: 0.4399662186760648\n",
      "resolution: 1.6, nmi: 0.4469932471296046\n",
      "resolution: 1.7, nmi: 0.44696776689428347\n",
      "resolution: 1.8, nmi: 0.4518598199288042\n",
      "resolution: 1.9, nmi: 0.4525572854360036\n",
      "resolution: 2.0, nmi: 0.452483077023502\n",
      "optimised clustering against Metadata_JCP2022\n",
      "optimal cluster resolution: 1.9\n",
      "optimal score: 0.4525572854360036\n",
      "resolution: 0.1, nmi: 0.2608892482111897\n",
      "resolution: 0.2, nmi: 0.2543321713928088\n",
      "resolution: 0.3, nmi: 0.24998683482977993\n",
      "resolution: 0.4, nmi: 0.2575981911723237\n",
      "resolution: 0.5, nmi: 0.27304608412872416\n",
      "resolution: 0.6, nmi: 0.27304608412872416\n",
      "resolution: 0.7, nmi: 0.28266090456732007\n",
      "resolution: 0.8, nmi: 0.28121714780764856\n",
      "resolution: 0.9, nmi: 0.29030909335415467\n",
      "resolution: 1.0, nmi: 0.2997215498258258\n",
      "resolution: 1.1, nmi: 0.3180499355285282\n",
      "resolution: 1.2, nmi: 0.3180499355285282\n",
      "resolution: 1.3, nmi: 0.31903313749575085\n",
      "resolution: 1.4, nmi: 0.3271984229485599\n",
      "resolution: 1.5, nmi: 0.33849268846383546\n",
      "resolution: 1.6, nmi: 0.34006110634511605\n",
      "resolution: 1.7, nmi: 0.3559821819417757\n",
      "resolution: 1.8, nmi: 0.3557614955740258\n",
      "resolution: 1.9, nmi: 0.36313517735332485\n",
      "resolution: 2.0, nmi: 0.37000462033095755\n",
      "optimised clustering against Metadata_JCP2022\n",
      "optimal cluster resolution: 2.0\n",
      "optimal score: 0.37000462033095755\n"
     ]
    }
   ],
   "source": [
    "adata_2 = metrics_preparation(adata[adata.obs.Metadata_Source==\"source_2\"].copy(), \"Metadata_JCP2022\")\n",
    "adata_3 = metrics_preparation(adata[adata.obs.Metadata_Source==\"source_3\"].copy(), \"Metadata_JCP2022\")\n",
    "adata_4 = metrics_preparation(adata[adata.obs.Metadata_Source==\"source_4\"].copy(), \"Metadata_JCP2022\")\n",
    "adata_5 = metrics_preparation(adata[adata.obs.Metadata_Source==\"source_5\"].copy(), \"Metadata_JCP2022\")\n",
    "adata_6 = metrics_preparation(adata[adata.obs.Metadata_Source==\"source_6\"].copy(), \"Metadata_JCP2022\")\n",
    "adata_7 = metrics_preparation(adata[adata.obs.Metadata_Source==\"source_7\"].copy(), \"Metadata_JCP2022\")\n",
    "adata_8 = metrics_preparation(adata[adata.obs.Metadata_Source==\"source_8\"].copy(), \"Metadata_JCP2022\")\n",
    "adata_9 = metrics_preparation(adata[adata.obs.Metadata_Source==\"source_9\"].copy(), \"Metadata_JCP2022\")\n",
    "adata_10 = metrics_preparation(adata[adata.obs.Metadata_Source==\"source_10\"].copy(), \"Metadata_JCP2022\")\n",
    "adata_11 = metrics_preparation(adata[adata.obs.Metadata_Source==\"source_11\"].copy(), \"Metadata_JCP2022\")\n",
    "adata_13 = metrics_preparation(adata[adata.obs.Metadata_Source==\"source_13\"].copy(), \"Metadata_JCP2022\")"
   ]
  },
  {
   "cell_type": "code",
   "execution_count": 28,
   "metadata": {},
   "outputs": [
    {
     "name": "stdout",
     "output_type": "stream",
     "text": [
      "resolution: 0.1, nmi: 0.18998705117262474\n",
      "resolution: 0.2, nmi: 0.21308168815935374\n",
      "resolution: 0.3, nmi: 0.22589524945211548\n",
      "resolution: 0.4, nmi: 0.2363122674530588\n",
      "resolution: 0.5, nmi: 0.24313584780298134\n",
      "resolution: 0.6, nmi: 0.24700440002690802\n",
      "resolution: 0.7, nmi: 0.2512832385826965\n",
      "resolution: 0.8, nmi: 0.2520661183908963\n",
      "resolution: 0.9, nmi: 0.25407712286614476\n",
      "resolution: 1.0, nmi: 0.255839755657232\n",
      "resolution: 1.1, nmi: 0.26076423257703757\n",
      "resolution: 1.2, nmi: 0.26356734383720176\n",
      "resolution: 1.3, nmi: 0.26548356267944867\n",
      "resolution: 1.4, nmi: 0.26619873820217466\n",
      "resolution: 1.5, nmi: 0.2676502352670168\n",
      "resolution: 1.6, nmi: 0.26967440112099683\n",
      "resolution: 1.7, nmi: 0.26881823946506\n",
      "resolution: 1.8, nmi: 0.27073803343149055\n",
      "resolution: 1.9, nmi: 0.2726177427619554\n",
      "resolution: 2.0, nmi: 0.2717566513413785\n",
      "optimised clustering against Metadata_JCP2022\n",
      "optimal cluster resolution: 1.9\n",
      "optimal score: 0.2726177427619554\n"
     ]
    }
   ],
   "source": [
    "adata = metrics_preparation(adata, \"Metadata_JCP2022\")"
   ]
  },
  {
   "cell_type": "code",
   "execution_count": 12,
   "metadata": {},
   "outputs": [],
   "source": [
    "integrated = sc.read_h5ad(f\"{data_path}scanvi.h5ad\")"
   ]
  },
  {
   "cell_type": "code",
   "execution_count": 13,
   "metadata": {},
   "outputs": [
    {
     "data": {
      "text/plain": [
       "AnnData object with n_obs × n_vars = 64464 × 558\n",
       "    obs: 'Metadata_JCP2022', 'Metadata_InChIKey', 'Metadata_InChI', 'Metadata_Source', 'Metadata_Plate', 'Metadata_Well', 'Metadata_PlateType', 'Metadata_WellType', 'Metadata_Microscope_Name', 'Metadata_Widefield_vs_Confocal', 'Metadata_Excitation_Type', 'Metadata_Objective_NA', 'Metadata_N_Brightfield_Planes_Min', 'Metadata_N_Brightfield_Planes_Max', 'Metadata_Sites_Per_Well', 'Metadata_Filter_Configuration', 'Metadata_Excitation_Low_DNA', 'Metadata_Excitation_Low_ER', 'Metadata_Excitation_Low_RNA', 'Metadata_Excitation_Low_AGP', 'Metadata_Excitation_Low_Mito', 'Metadata_Excitation_High_DNA', 'Metadata_Excitation_High_ER', 'Metadata_Excitation_High_RNA', 'Metadata_Excitation_High_AGP', 'Metadata_Excitation_High_Mito', 'Metadata_Emission_Low_DNA', 'Metadata_Emission_Low_ER', 'Metadata_Emission_Low_RNA', 'Metadata_Emission_Low_AGP', 'Metadata_Emission_Low_Mito', 'Metadata_Emission_High_DNA', 'Metadata_Emission_High_ER', 'Metadata_Emission_High_RNA', 'Metadata_Emission_High_AGP', 'Metadata_Emission_High_Mito', 'Metadata_FPBase_Config', 'Metadata_Distance_Between_Z_Microns', 'broad_sample', 'InChIKey', 'pert_iname', 'pubchem_cid', 'target', 'pert_type', 'control_type', 'smiles'\n",
       "    obsm: 'X_emb'\n",
       "    layers: 'counts'"
      ]
     },
     "execution_count": 13,
     "metadata": {},
     "output_type": "execute_result"
    }
   ],
   "source": [
    "integrated"
   ]
  },
  {
   "cell_type": "code",
   "execution_count": 14,
   "metadata": {},
   "outputs": [],
   "source": [
    "obsm_key = \"X_emb\"\n",
    "# obsm_key = \"corrected_latent\" # for Scanorama"
   ]
  },
  {
   "cell_type": "code",
   "execution_count": 48,
   "metadata": {},
   "outputs": [
    {
     "name": "stdout",
     "output_type": "stream",
     "text": [
      "resolution: 0.1, nmi: 0.944133912716807\n",
      "resolution: 0.2, nmi: 0.9481869022076986\n",
      "resolution: 0.3, nmi: 0.9506032028453002\n",
      "resolution: 0.4, nmi: 0.9528082692051281\n",
      "resolution: 0.5, nmi: 0.9572352645389657\n",
      "resolution: 0.6, nmi: 0.9561508004025052\n",
      "resolution: 0.7, nmi: 0.9588639210786897\n",
      "resolution: 0.8, nmi: 0.9597285409102171\n",
      "resolution: 0.9, nmi: 0.9602880883584681\n",
      "resolution: 1.0, nmi: 0.9607144029882995\n",
      "resolution: 1.1, nmi: 0.9611440718405616\n",
      "resolution: 1.2, nmi: 0.9626285943902565\n",
      "resolution: 1.3, nmi: 0.9624154223174817\n",
      "resolution: 1.4, nmi: 0.9533441814602611\n",
      "resolution: 1.5, nmi: 0.9533007126125391\n",
      "resolution: 1.6, nmi: 0.9544365357328459\n",
      "resolution: 1.7, nmi: 0.9539041458693874\n",
      "resolution: 1.8, nmi: 0.9548200698281731\n",
      "resolution: 1.9, nmi: 0.9552830894539952\n",
      "resolution: 2.0, nmi: 0.9557102487581945\n",
      "optimised clustering against Metadata_JCP2022\n",
      "optimal cluster resolution: 1.2\n",
      "optimal score: 0.9626285943902565\n",
      "resolution: 0.1, nmi: 0.9613966076599461\n",
      "resolution: 0.2, nmi: 0.9651339376003241\n",
      "resolution: 0.3, nmi: 0.9686192602967042\n",
      "resolution: 0.4, nmi: 0.9700893999326103\n",
      "resolution: 0.5, nmi: 0.9708849645030225\n",
      "resolution: 0.6, nmi: 0.9723344707444987\n",
      "resolution: 0.7, nmi: 0.9732480361305594\n",
      "resolution: 0.8, nmi: 0.9741682206488013\n",
      "resolution: 0.9, nmi: 0.9735814008589372\n",
      "resolution: 1.0, nmi: 0.9642648442655275\n",
      "resolution: 1.1, nmi: 0.9668619725595498\n",
      "resolution: 1.2, nmi: 0.9666835616319509\n",
      "resolution: 1.3, nmi: 0.9663080034562783\n",
      "resolution: 1.4, nmi: 0.9663621061175611\n",
      "resolution: 1.5, nmi: 0.9680974823767696\n",
      "resolution: 1.6, nmi: 0.9643310973370727\n",
      "resolution: 1.7, nmi: 0.9633949704433917\n",
      "resolution: 1.8, nmi: 0.9581871405285537\n",
      "resolution: 1.9, nmi: 0.9608251616545824\n",
      "resolution: 2.0, nmi: 0.9622007306006083\n",
      "optimised clustering against Metadata_JCP2022\n",
      "optimal cluster resolution: 0.8\n",
      "optimal score: 0.9741682206488013\n",
      "resolution: 0.1, nmi: 0.9714695837382362\n",
      "resolution: 0.2, nmi: 0.9753356602406669\n",
      "resolution: 0.3, nmi: 0.9760355050113095\n",
      "resolution: 0.4, nmi: 0.9779048926024565\n",
      "resolution: 0.5, nmi: 0.9785595739750041\n",
      "resolution: 0.6, nmi: 0.9785864793434633\n",
      "resolution: 0.7, nmi: 0.9798308093372733\n",
      "resolution: 0.8, nmi: 0.9803153915795845\n",
      "resolution: 0.9, nmi: 0.9816135810584474\n",
      "resolution: 1.0, nmi: 0.9820992838160187\n",
      "resolution: 1.1, nmi: 0.9796068682799002\n",
      "resolution: 1.2, nmi: 0.9841386014455886\n",
      "resolution: 1.3, nmi: 0.973797208549779\n",
      "resolution: 1.4, nmi: 0.9746937415512559\n",
      "resolution: 1.5, nmi: 0.9751548115561139\n",
      "resolution: 1.6, nmi: 0.9694233822738644\n",
      "resolution: 1.7, nmi: 0.9758483196473259\n",
      "resolution: 1.8, nmi: 0.9705022045376511\n",
      "resolution: 1.9, nmi: 0.9714206478882861\n",
      "resolution: 2.0, nmi: 0.9714206478882861\n",
      "optimised clustering against Metadata_JCP2022\n",
      "optimal cluster resolution: 1.2\n",
      "optimal score: 0.9841386014455886\n",
      "resolution: 0.1, nmi: 0.914777078004845\n",
      "resolution: 0.2, nmi: 0.920186866374518\n",
      "resolution: 0.3, nmi: 0.9141503299172616\n",
      "resolution: 0.4, nmi: 0.9229916981261054\n",
      "resolution: 0.5, nmi: 0.9262384113864117\n",
      "resolution: 0.6, nmi: 0.9234302685525718\n",
      "resolution: 0.7, nmi: 0.926380796009936\n",
      "resolution: 0.8, nmi: 0.9283107371655044\n",
      "resolution: 0.9, nmi: 0.9297666762052307\n",
      "resolution: 1.0, nmi: 0.9374643396553177\n",
      "resolution: 1.1, nmi: 0.9319405044362581\n",
      "resolution: 1.2, nmi: 0.9318528642631385\n",
      "resolution: 1.3, nmi: 0.9312016487969106\n",
      "resolution: 1.4, nmi: 0.9344086095284968\n",
      "resolution: 1.5, nmi: 0.9344764433869748\n",
      "resolution: 1.6, nmi: 0.9370972222622272\n",
      "resolution: 1.7, nmi: 0.9380212504267458\n",
      "resolution: 1.8, nmi: 0.9330197240037439\n",
      "resolution: 1.9, nmi: 0.9373061532439242\n",
      "resolution: 2.0, nmi: 0.9330126950169314\n",
      "optimised clustering against Metadata_JCP2022\n",
      "optimal cluster resolution: 1.7\n",
      "optimal score: 0.9380212504267458\n",
      "resolution: 0.1, nmi: 0.9380894761732826\n",
      "resolution: 0.2, nmi: 0.9435949118389673\n",
      "resolution: 0.3, nmi: 0.9510595096772826\n",
      "resolution: 0.4, nmi: 0.9541881259086197\n",
      "resolution: 0.5, nmi: 0.95701434029854\n",
      "resolution: 0.6, nmi: 0.9582094695100842\n",
      "resolution: 0.7, nmi: 0.9587840125020287\n",
      "resolution: 0.8, nmi: 0.9622441282078386\n",
      "resolution: 0.9, nmi: 0.9621880075882284\n",
      "resolution: 1.0, nmi: 0.9638955462611971\n",
      "resolution: 1.1, nmi: 0.9650630512138285\n",
      "resolution: 1.2, nmi: 0.9548729149523167\n",
      "resolution: 1.3, nmi: 0.9551565479939261\n",
      "resolution: 1.4, nmi: 0.9569150096678638\n",
      "resolution: 1.5, nmi: 0.9586751966814826\n",
      "resolution: 1.6, nmi: 0.9589882586973456\n",
      "resolution: 1.7, nmi: 0.9571868303637686\n",
      "resolution: 1.8, nmi: 0.9600939848685099\n",
      "resolution: 1.9, nmi: 0.9611586947828503\n",
      "resolution: 2.0, nmi: 0.9558600400660353\n",
      "optimised clustering against Metadata_JCP2022\n",
      "optimal cluster resolution: 1.1\n",
      "optimal score: 0.9650630512138285\n",
      "resolution: 0.1, nmi: 0.9541901800228193\n",
      "resolution: 0.2, nmi: 0.9564876188024455\n",
      "resolution: 0.3, nmi: 0.9593722219458577\n",
      "resolution: 0.4, nmi: 0.9609686120496305\n",
      "resolution: 0.5, nmi: 0.9613923317753766\n",
      "resolution: 0.6, nmi: 0.962270525216059\n",
      "resolution: 0.7, nmi: 0.962270525216059\n",
      "resolution: 0.8, nmi: 0.9629950475127121\n",
      "resolution: 0.9, nmi: 0.9629950475127121\n",
      "resolution: 1.0, nmi: 0.9642195877749463\n",
      "resolution: 1.1, nmi: 0.9642195877749465\n",
      "resolution: 1.2, nmi: 0.9648639005807794\n",
      "resolution: 1.3, nmi: 0.9557573647504731\n",
      "resolution: 1.4, nmi: 0.9557573647504731\n",
      "resolution: 1.5, nmi: 0.9557573647504731\n",
      "resolution: 1.6, nmi: 0.955997085009863\n",
      "resolution: 1.7, nmi: 0.9567370280572042\n",
      "resolution: 1.8, nmi: 0.9567370280572044\n",
      "resolution: 1.9, nmi: 0.9568764568145411\n",
      "resolution: 2.0, nmi: 0.9499611775177307\n",
      "optimised clustering against Metadata_JCP2022\n",
      "optimal cluster resolution: 1.2\n",
      "optimal score: 0.9648639005807794\n",
      "resolution: 0.1, nmi: 0.6653707962591674\n",
      "resolution: 0.2, nmi: 0.6725628967319952\n",
      "resolution: 0.3, nmi: 0.7104104610317838\n",
      "resolution: 0.4, nmi: 0.7137531476574831\n",
      "resolution: 0.5, nmi: 0.7170764134775269\n",
      "resolution: 0.6, nmi: 0.7190636648886828\n",
      "resolution: 0.7, nmi: 0.7333540891120058\n",
      "resolution: 0.8, nmi: 0.7398627125102938\n",
      "resolution: 0.9, nmi: 0.7387910538101969\n",
      "resolution: 1.0, nmi: 0.737049852344473\n",
      "resolution: 1.1, nmi: 0.7431458760681401\n",
      "resolution: 1.2, nmi: 0.7493782800995258\n",
      "resolution: 1.3, nmi: 0.7493782800995259\n",
      "resolution: 1.4, nmi: 0.7552454260895721\n",
      "resolution: 1.5, nmi: 0.7565031581858415\n",
      "resolution: 1.6, nmi: 0.7596859421622022\n",
      "resolution: 1.7, nmi: 0.7611406949052878\n",
      "resolution: 1.8, nmi: 0.7643647371873596\n",
      "resolution: 1.9, nmi: 0.7643647371873596\n",
      "resolution: 2.0, nmi: 0.7670980709179253\n",
      "optimised clustering against Metadata_JCP2022\n",
      "optimal cluster resolution: 2.0\n",
      "optimal score: 0.7670980709179253\n",
      "resolution: 0.1, nmi: 0.1857351493827091\n",
      "resolution: 0.2, nmi: 0.23119042426082625\n",
      "resolution: 0.3, nmi: 0.261045959439475\n",
      "resolution: 0.4, nmi: 0.29011604867339763\n",
      "resolution: 0.5, nmi: 0.28114053009967543\n",
      "resolution: 0.6, nmi: 0.3114717400831776\n",
      "resolution: 0.7, nmi: 0.31436053483590237\n",
      "resolution: 0.8, nmi: 0.32023122552087896\n",
      "resolution: 0.9, nmi: 0.3234159113051029\n",
      "resolution: 1.0, nmi: 0.32805045537976313\n",
      "resolution: 1.1, nmi: 0.33146709039938416\n",
      "resolution: 1.2, nmi: 0.33777938096863086\n",
      "resolution: 1.3, nmi: 0.3408441414727174\n",
      "resolution: 1.4, nmi: 0.33712037996446526\n",
      "resolution: 1.5, nmi: 0.34460695424793386\n",
      "resolution: 1.6, nmi: 0.3410956029594426\n",
      "resolution: 1.7, nmi: 0.3461749501552319\n",
      "resolution: 1.8, nmi: 0.35044169668744984\n",
      "resolution: 1.9, nmi: 0.35193396261947707\n",
      "resolution: 2.0, nmi: 0.3530733352765692\n",
      "optimised clustering against Metadata_JCP2022\n",
      "optimal cluster resolution: 2.0\n",
      "optimal score: 0.3530733352765692\n",
      "resolution: 0.1, nmi: 0.9419863547803558\n",
      "resolution: 0.2, nmi: 0.9460611949196537\n",
      "resolution: 0.3, nmi: 0.9471447107410774\n",
      "resolution: 0.4, nmi: 0.9471447107410774\n",
      "resolution: 0.5, nmi: 0.9506085069109969\n",
      "resolution: 0.6, nmi: 0.953270220702651\n",
      "resolution: 0.7, nmi: 0.9541093988281616\n",
      "resolution: 0.8, nmi: 0.9551916645694436\n",
      "resolution: 0.9, nmi: 0.9449935208136847\n",
      "resolution: 1.0, nmi: 0.9459444811919758\n",
      "resolution: 1.1, nmi: 0.94564080425486\n",
      "resolution: 1.2, nmi: 0.948326389331373\n",
      "resolution: 1.3, nmi: 0.9485980703346982\n",
      "resolution: 1.4, nmi: 0.9485980703346985\n",
      "resolution: 1.5, nmi: 0.9494695272162906\n",
      "resolution: 1.6, nmi: 0.950621522142324\n",
      "resolution: 1.7, nmi: 0.9455648607163659\n",
      "resolution: 1.8, nmi: 0.9477857565337316\n",
      "resolution: 1.9, nmi: 0.9468812600819834\n",
      "resolution: 2.0, nmi: 0.9475277408154057\n",
      "optimised clustering against Metadata_JCP2022\n",
      "optimal cluster resolution: 0.8\n",
      "optimal score: 0.9551916645694436\n",
      "resolution: 0.1, nmi: 0.8847852472133669\n",
      "resolution: 0.2, nmi: 0.8962623180942958\n",
      "resolution: 0.3, nmi: 0.9052389988099978\n",
      "resolution: 0.4, nmi: 0.9099173731793603\n",
      "resolution: 0.5, nmi: 0.9121557364783068\n",
      "resolution: 0.6, nmi: 0.9176847693678838\n",
      "resolution: 0.7, nmi: 0.9198627436619619\n",
      "resolution: 0.8, nmi: 0.9124577937799521\n",
      "resolution: 0.9, nmi: 0.9130923780500524\n",
      "resolution: 1.0, nmi: 0.9148640252489177\n",
      "resolution: 1.1, nmi: 0.9156226602001567\n",
      "resolution: 1.2, nmi: 0.9164642104135896\n",
      "resolution: 1.3, nmi: 0.9173945401317174\n",
      "resolution: 1.4, nmi: 0.9198103746898568\n",
      "resolution: 1.5, nmi: 0.9225672134700899\n",
      "resolution: 1.6, nmi: 0.9181406837037347\n",
      "resolution: 1.7, nmi: 0.9196063291746892\n",
      "resolution: 1.8, nmi: 0.9187288139018868\n",
      "resolution: 1.9, nmi: 0.9206048646509908\n",
      "resolution: 2.0, nmi: 0.9223099814287394\n",
      "optimised clustering against Metadata_JCP2022\n",
      "optimal cluster resolution: 1.5\n",
      "optimal score: 0.9225672134700899\n",
      "resolution: 0.1, nmi: 0.8507382448343923\n",
      "resolution: 0.2, nmi: 0.866251354523112\n",
      "resolution: 0.3, nmi: 0.8749384039712403\n",
      "resolution: 0.4, nmi: 0.8806926798888044\n",
      "resolution: 0.5, nmi: 0.8851881413091144\n",
      "resolution: 0.6, nmi: 0.881994610646223\n",
      "resolution: 0.7, nmi: 0.8855854041591615\n",
      "resolution: 0.8, nmi: 0.8885130490436083\n",
      "resolution: 0.9, nmi: 0.8915758592858469\n",
      "resolution: 1.0, nmi: 0.8868926885846062\n",
      "resolution: 1.1, nmi: 0.8890177524636753\n",
      "resolution: 1.2, nmi: 0.8903867619207646\n",
      "resolution: 1.3, nmi: 0.8915381590334726\n",
      "resolution: 1.4, nmi: 0.8930211030797258\n",
      "resolution: 1.5, nmi: 0.8935754406097989\n",
      "resolution: 1.6, nmi: 0.8932139829174065\n",
      "resolution: 1.7, nmi: 0.8894057184862698\n",
      "resolution: 1.8, nmi: 0.8910897902097752\n",
      "resolution: 1.9, nmi: 0.894739519469863\n",
      "resolution: 2.0, nmi: 0.8932143285091257\n",
      "optimised clustering against Metadata_JCP2022\n",
      "optimal cluster resolution: 1.9\n",
      "optimal score: 0.894739519469863\n"
     ]
    }
   ],
   "source": [
    "integrated_2 = metrics_preparation(integrated[integrated.obs.Metadata_Source==\"source_2\"].copy(), \"Metadata_JCP2022\", integrated=True, integrated_obsm_key=obsm_key)\n",
    "integrated_3 = metrics_preparation(integrated[integrated.obs.Metadata_Source==\"source_3\"].copy(), \"Metadata_JCP2022\", integrated=True, integrated_obsm_key=obsm_key)\n",
    "integrated_4 = metrics_preparation(integrated[integrated.obs.Metadata_Source==\"source_4\"].copy(), \"Metadata_JCP2022\", integrated=True, integrated_obsm_key=obsm_key)\n",
    "integrated_5 = metrics_preparation(integrated[integrated.obs.Metadata_Source==\"source_5\"].copy(), \"Metadata_JCP2022\", integrated=True, integrated_obsm_key=obsm_key)\n",
    "integrated_6 = metrics_preparation(integrated[integrated.obs.Metadata_Source==\"source_6\"].copy(), \"Metadata_JCP2022\", integrated=True, integrated_obsm_key=obsm_key)\n",
    "integrated_7 = metrics_preparation(integrated[integrated.obs.Metadata_Source==\"source_7\"].copy(), \"Metadata_JCP2022\", integrated=True, integrated_obsm_key=obsm_key)\n",
    "integrated_8 = metrics_preparation(integrated[integrated.obs.Metadata_Source==\"source_8\"].copy(), \"Metadata_JCP2022\", integrated=True, integrated_obsm_key=obsm_key)\n",
    "integrated_9 = metrics_preparation(integrated[integrated.obs.Metadata_Source==\"source_9\"].copy(), \"Metadata_JCP2022\", integrated=True, integrated_obsm_key=obsm_key)\n",
    "integrated_10 = metrics_preparation(integrated[integrated.obs.Metadata_Source==\"source_10\"].copy(), \"Metadata_JCP2022\", integrated=True, integrated_obsm_key=obsm_key)\n",
    "integrated_11 = metrics_preparation(integrated[integrated.obs.Metadata_Source==\"source_11\"].copy(), \"Metadata_JCP2022\", integrated=True, integrated_obsm_key=obsm_key)\n",
    "integrated_13 = metrics_preparation(integrated[integrated.obs.Metadata_Source==\"source_13\"].copy(), \"Metadata_JCP2022\", integrated=True, integrated_obsm_key=obsm_key)"
   ]
  },
  {
   "cell_type": "code",
   "execution_count": 15,
   "metadata": {},
   "outputs": [
    {
     "name": "stdout",
     "output_type": "stream",
     "text": [
      "resolution: 0.1, nmi: 0.21076150445205194\n",
      "resolution: 0.2, nmi: 0.2368564802443336\n",
      "resolution: 0.3, nmi: 0.252218664293899\n",
      "resolution: 0.4, nmi: 0.26990774170803233\n",
      "resolution: 0.5, nmi: 0.27742480951358806\n",
      "resolution: 0.6, nmi: 0.28023084288291106\n",
      "resolution: 0.7, nmi: 0.2811287363319534\n",
      "resolution: 0.8, nmi: 0.28204260329538117\n",
      "resolution: 0.9, nmi: 0.28868954023029597\n",
      "resolution: 1.0, nmi: 0.2890303468768085\n",
      "resolution: 1.1, nmi: 0.2934624379800261\n",
      "resolution: 1.2, nmi: 0.2915249479489207\n",
      "resolution: 1.3, nmi: 0.2929852906650631\n",
      "resolution: 1.4, nmi: 0.29495611846229175\n",
      "resolution: 1.5, nmi: 0.2952194754106742\n",
      "resolution: 1.6, nmi: 0.2976828755990776\n",
      "resolution: 1.7, nmi: 0.29755229392585425\n",
      "resolution: 1.8, nmi: 0.29675420848753387\n",
      "resolution: 1.9, nmi: 0.30313699898572044\n",
      "resolution: 2.0, nmi: 0.3000969964800792\n",
      "optimised clustering against Metadata_JCP2022\n",
      "optimal cluster resolution: 1.9\n",
      "optimal score: 0.30313699898572044\n"
     ]
    }
   ],
   "source": [
    "integrated = metrics_preparation(integrated, \"Metadata_JCP2022\", integrated=True, integrated_obsm_key=obsm_key)"
   ]
  },
  {
   "cell_type": "markdown",
   "metadata": {},
   "source": [
    "### low level:"
   ]
  },
  {
   "cell_type": "code",
   "execution_count": 69,
   "metadata": {},
   "outputs": [
    {
     "name": "stdout",
     "output_type": "stream",
     "text": [
      "JCP2022_000794 consists of a single batch or is too small. Skip.\n",
      "JCP2022_001275 consists of a single batch or is too small. Skip.\n"
     ]
    },
    {
     "name": "stderr",
     "output_type": "stream",
     "text": [
      "/home/stockhaus/miniconda3/envs/mp/lib/python3.9/site-packages/rpy2/robjects/pandas2ri.py:368: DeprecationWarning: The global conversion available with activate() is deprecated and will be removed in the next major release. Use a local converter.\n",
      "/home/stockhaus/miniconda3/envs/mp/lib/python3.9/site-packages/rpy2/robjects/numpy2ri.py:241: DeprecationWarning: The global conversion available with activate() is deprecated and will be removed in the next major release. Use a local converter.\n",
      "/home/stockhaus/miniconda3/envs/mp/lib/python3.9/site-packages/rpy2/robjects/conversion.py:28: DeprecationWarning: The use of converter in module rpy2.robjects.conversion is deprecated. Use rpy2.robjects.conversion.get_conversion() instead of rpy2.robjects.conversion.converter.\n",
      "/home/stockhaus/miniconda3/envs/mp/lib/python3.9/site-packages/rpy2/robjects/pandas2ri.py:368: DeprecationWarning: The global conversion available with activate() is deprecated and will be removed in the next major release. Use a local converter.\n",
      "/home/stockhaus/miniconda3/envs/mp/lib/python3.9/site-packages/rpy2/robjects/numpy2ri.py:241: DeprecationWarning: The global conversion available with activate() is deprecated and will be removed in the next major release. Use a local converter.\n",
      "/home/stockhaus/miniconda3/envs/mp/lib/python3.9/site-packages/rpy2/robjects/conversion.py:28: DeprecationWarning: The use of converter in module rpy2.robjects.conversion is deprecated. Use rpy2.robjects.conversion.get_conversion() instead of rpy2.robjects.conversion.converter.\n",
      "/home/stockhaus/miniconda3/envs/mp/lib/python3.9/site-packages/rpy2/robjects/pandas2ri.py:368: DeprecationWarning: The global conversion available with activate() is deprecated and will be removed in the next major release. Use a local converter.\n",
      "/home/stockhaus/miniconda3/envs/mp/lib/python3.9/site-packages/rpy2/robjects/numpy2ri.py:241: DeprecationWarning: The global conversion available with activate() is deprecated and will be removed in the next major release. Use a local converter.\n",
      "/home/stockhaus/miniconda3/envs/mp/lib/python3.9/site-packages/rpy2/robjects/conversion.py:28: DeprecationWarning: The use of converter in module rpy2.robjects.conversion is deprecated. Use rpy2.robjects.conversion.get_conversion() instead of rpy2.robjects.conversion.converter.\n"
     ]
    },
    {
     "name": "stdout",
     "output_type": "stream",
     "text": [
      "JCP2022_002206 consists of a single batch or is too small. Skip.\n",
      "JCP2022_003951 consists of a single batch or is too small. Skip.\n"
     ]
    },
    {
     "name": "stderr",
     "output_type": "stream",
     "text": [
      "/home/stockhaus/miniconda3/envs/mp/lib/python3.9/site-packages/rpy2/robjects/pandas2ri.py:368: DeprecationWarning: The global conversion available with activate() is deprecated and will be removed in the next major release. Use a local converter.\n",
      "/home/stockhaus/miniconda3/envs/mp/lib/python3.9/site-packages/rpy2/robjects/numpy2ri.py:241: DeprecationWarning: The global conversion available with activate() is deprecated and will be removed in the next major release. Use a local converter.\n",
      "/home/stockhaus/miniconda3/envs/mp/lib/python3.9/site-packages/rpy2/robjects/conversion.py:28: DeprecationWarning: The use of converter in module rpy2.robjects.conversion is deprecated. Use rpy2.robjects.conversion.get_conversion() instead of rpy2.robjects.conversion.converter.\n"
     ]
    },
    {
     "name": "stdout",
     "output_type": "stream",
     "text": [
      "JCP2022_004940 consists of a single batch or is too small. Skip.\n",
      "JCP2022_005163 consists of a single batch or is too small. Skip.\n",
      "JCP2022_005529 consists of a single batch or is too small. Skip.\n",
      "JCP2022_005628 consists of a single batch or is too small. Skip.\n",
      "JCP2022_006270 consists of a single batch or is too small. Skip.\n",
      "JCP2022_007175 consists of a single batch or is too small. Skip.\n",
      "JCP2022_007419 consists of a single batch or is too small. Skip.\n",
      "JCP2022_007613 consists of a single batch or is too small. Skip.\n",
      "JCP2022_009419 consists of a single batch or is too small. Skip.\n",
      "JCP2022_009867 consists of a single batch or is too small. Skip.\n",
      "JCP2022_009886 consists of a single batch or is too small. Skip.\n",
      "JCP2022_010382 consists of a single batch or is too small. Skip.\n",
      "JCP2022_010404 consists of a single batch or is too small. Skip.\n",
      "JCP2022_010654 consists of a single batch or is too small. Skip.\n",
      "JCP2022_011759 consists of a single batch or is too small. Skip.\n",
      "JCP2022_012146 consists of a single batch or is too small. Skip.\n",
      "JCP2022_012198 consists of a single batch or is too small. Skip.\n",
      "JCP2022_012818 consists of a single batch or is too small. Skip.\n",
      "JCP2022_013455 consists of a single batch or is too small. Skip.\n",
      "JCP2022_014114 consists of a single batch or is too small. Skip.\n",
      "JCP2022_014367 consists of a single batch or is too small. Skip.\n"
     ]
    },
    {
     "name": "stderr",
     "output_type": "stream",
     "text": [
      "/home/stockhaus/miniconda3/envs/mp/lib/python3.9/site-packages/rpy2/robjects/pandas2ri.py:368: DeprecationWarning: The global conversion available with activate() is deprecated and will be removed in the next major release. Use a local converter.\n",
      "/home/stockhaus/miniconda3/envs/mp/lib/python3.9/site-packages/rpy2/robjects/numpy2ri.py:241: DeprecationWarning: The global conversion available with activate() is deprecated and will be removed in the next major release. Use a local converter.\n",
      "/home/stockhaus/miniconda3/envs/mp/lib/python3.9/site-packages/rpy2/robjects/conversion.py:28: DeprecationWarning: The use of converter in module rpy2.robjects.conversion is deprecated. Use rpy2.robjects.conversion.get_conversion() instead of rpy2.robjects.conversion.converter.\n"
     ]
    },
    {
     "name": "stdout",
     "output_type": "stream",
     "text": [
      "JCP2022_016288 consists of a single batch or is too small. Skip.\n",
      "JCP2022_016935 consists of a single batch or is too small. Skip.\n",
      "JCP2022_017377 consists of a single batch or is too small. Skip.\n",
      "JCP2022_017914 consists of a single batch or is too small. Skip.\n",
      "JCP2022_018074 consists of a single batch or is too small. Skip.\n",
      "JCP2022_018280 consists of a single batch or is too small. Skip.\n",
      "JCP2022_018899 consists of a single batch or is too small. Skip.\n",
      "JCP2022_019314 consists of a single batch or is too small. Skip.\n",
      "JCP2022_020163 consists of a single batch or is too small. Skip.\n",
      "JCP2022_020718 consists of a single batch or is too small. Skip.\n",
      "JCP2022_021678 consists of a single batch or is too small. Skip.\n",
      "JCP2022_021751 consists of a single batch or is too small. Skip.\n",
      "JCP2022_021857 consists of a single batch or is too small. Skip.\n",
      "JCP2022_022191 consists of a single batch or is too small. Skip.\n",
      "JCP2022_022359 consists of a single batch or is too small. Skip.\n",
      "JCP2022_023781 consists of a single batch or is too small. Skip.\n",
      "JCP2022_024601 consists of a single batch or is too small. Skip.\n",
      "JCP2022_024824 consists of a single batch or is too small. Skip.\n"
     ]
    },
    {
     "name": "stderr",
     "output_type": "stream",
     "text": [
      "/home/stockhaus/miniconda3/envs/mp/lib/python3.9/site-packages/rpy2/robjects/pandas2ri.py:368: DeprecationWarning: The global conversion available with activate() is deprecated and will be removed in the next major release. Use a local converter.\n",
      "/home/stockhaus/miniconda3/envs/mp/lib/python3.9/site-packages/rpy2/robjects/numpy2ri.py:241: DeprecationWarning: The global conversion available with activate() is deprecated and will be removed in the next major release. Use a local converter.\n",
      "/home/stockhaus/miniconda3/envs/mp/lib/python3.9/site-packages/rpy2/robjects/conversion.py:28: DeprecationWarning: The use of converter in module rpy2.robjects.conversion is deprecated. Use rpy2.robjects.conversion.get_conversion() instead of rpy2.robjects.conversion.converter.\n"
     ]
    },
    {
     "name": "stdout",
     "output_type": "stream",
     "text": [
      "JCP2022_026475 consists of a single batch or is too small. Skip.\n",
      "JCP2022_027206 consists of a single batch or is too small. Skip.\n",
      "JCP2022_027911 consists of a single batch or is too small. Skip.\n",
      "JCP2022_028032 consists of a single batch or is too small. Skip.\n",
      "JCP2022_028645 consists of a single batch or is too small. Skip.\n",
      "JCP2022_028940 consists of a single batch or is too small. Skip.\n",
      "JCP2022_029186 consists of a single batch or is too small. Skip.\n",
      "JCP2022_029365 consists of a single batch or is too small. Skip.\n",
      "JCP2022_029868 consists of a single batch or is too small. Skip.\n",
      "JCP2022_029951 consists of a single batch or is too small. Skip.\n",
      "JCP2022_030049 consists of a single batch or is too small. Skip.\n",
      "JCP2022_030094 consists of a single batch or is too small. Skip.\n",
      "JCP2022_030713 consists of a single batch or is too small. Skip.\n",
      "JCP2022_030831 consists of a single batch or is too small. Skip.\n",
      "JCP2022_031861 consists of a single batch or is too small. Skip.\n",
      "JCP2022_032353 consists of a single batch or is too small. Skip.\n",
      "JCP2022_032357 consists of a single batch or is too small. Skip.\n",
      "JCP2022_032680 consists of a single batch or is too small. Skip.\n",
      "JCP2022_033012 consists of a single batch or is too small. Skip.\n",
      "JCP2022_033400 consists of a single batch or is too small. Skip.\n",
      "JCP2022_033814 consists of a single batch or is too small. Skip.\n"
     ]
    },
    {
     "name": "stderr",
     "output_type": "stream",
     "text": [
      "/home/stockhaus/miniconda3/envs/mp/lib/python3.9/site-packages/rpy2/robjects/pandas2ri.py:368: DeprecationWarning: The global conversion available with activate() is deprecated and will be removed in the next major release. Use a local converter.\n",
      "/home/stockhaus/miniconda3/envs/mp/lib/python3.9/site-packages/rpy2/robjects/numpy2ri.py:241: DeprecationWarning: The global conversion available with activate() is deprecated and will be removed in the next major release. Use a local converter.\n",
      "/home/stockhaus/miniconda3/envs/mp/lib/python3.9/site-packages/rpy2/robjects/conversion.py:28: DeprecationWarning: The use of converter in module rpy2.robjects.conversion is deprecated. Use rpy2.robjects.conversion.get_conversion() instead of rpy2.robjects.conversion.converter.\n",
      "/home/stockhaus/miniconda3/envs/mp/lib/python3.9/site-packages/rpy2/robjects/pandas2ri.py:368: DeprecationWarning: The global conversion available with activate() is deprecated and will be removed in the next major release. Use a local converter.\n",
      "/home/stockhaus/miniconda3/envs/mp/lib/python3.9/site-packages/rpy2/robjects/numpy2ri.py:241: DeprecationWarning: The global conversion available with activate() is deprecated and will be removed in the next major release. Use a local converter.\n",
      "/home/stockhaus/miniconda3/envs/mp/lib/python3.9/site-packages/rpy2/robjects/conversion.py:28: DeprecationWarning: The use of converter in module rpy2.robjects.conversion is deprecated. Use rpy2.robjects.conversion.get_conversion() instead of rpy2.robjects.conversion.converter.\n"
     ]
    },
    {
     "name": "stdout",
     "output_type": "stream",
     "text": [
      "JCP2022_033936 consists of a single batch or is too small. Skip.\n",
      "JCP2022_034137 consists of a single batch or is too small. Skip.\n",
      "JCP2022_034709 consists of a single batch or is too small. Skip.\n",
      "JCP2022_035095 consists of a single batch or is too small. Skip.\n",
      "JCP2022_035296 consists of a single batch or is too small. Skip.\n",
      "JCP2022_035351 consists of a single batch or is too small. Skip.\n",
      "JCP2022_035570 consists of a single batch or is too small. Skip.\n",
      "JCP2022_036614 consists of a single batch or is too small. Skip.\n",
      "JCP2022_037716 consists of a single batch or is too small. Skip.\n",
      "JCP2022_038096 consists of a single batch or is too small. Skip.\n",
      "JCP2022_038675 consists of a single batch or is too small. Skip.\n",
      "JCP2022_039047 consists of a single batch or is too small. Skip.\n",
      "JCP2022_039116 consists of a single batch or is too small. Skip.\n",
      "JCP2022_039503 consists of a single batch or is too small. Skip.\n",
      "JCP2022_039863 consists of a single batch or is too small. Skip.\n",
      "JCP2022_041107 consists of a single batch or is too small. Skip.\n",
      "JCP2022_041139 consists of a single batch or is too small. Skip.\n",
      "JCP2022_041253 consists of a single batch or is too small. Skip.\n",
      "JCP2022_042261 consists of a single batch or is too small. Skip.\n",
      "JCP2022_042332 consists of a single batch or is too small. Skip.\n",
      "JCP2022_042354 consists of a single batch or is too small. Skip.\n",
      "JCP2022_042960 consists of a single batch or is too small. Skip.\n",
      "JCP2022_043099 consists of a single batch or is too small. Skip.\n",
      "JCP2022_043287 consists of a single batch or is too small. Skip.\n",
      "JCP2022_043332 consists of a single batch or is too small. Skip.\n",
      "JCP2022_043547 consists of a single batch or is too small. Skip.\n",
      "JCP2022_044197 consists of a single batch or is too small. Skip.\n",
      "JCP2022_044972 consists of a single batch or is too small. Skip.\n",
      "JCP2022_045036 consists of a single batch or is too small. Skip.\n",
      "JCP2022_045105 consists of a single batch or is too small. Skip.\n",
      "JCP2022_046239 consists of a single batch or is too small. Skip.\n"
     ]
    },
    {
     "name": "stderr",
     "output_type": "stream",
     "text": [
      "/home/stockhaus/miniconda3/envs/mp/lib/python3.9/site-packages/rpy2/robjects/pandas2ri.py:368: DeprecationWarning: The global conversion available with activate() is deprecated and will be removed in the next major release. Use a local converter.\n",
      "/home/stockhaus/miniconda3/envs/mp/lib/python3.9/site-packages/rpy2/robjects/numpy2ri.py:241: DeprecationWarning: The global conversion available with activate() is deprecated and will be removed in the next major release. Use a local converter.\n",
      "/home/stockhaus/miniconda3/envs/mp/lib/python3.9/site-packages/rpy2/robjects/conversion.py:28: DeprecationWarning: The use of converter in module rpy2.robjects.conversion is deprecated. Use rpy2.robjects.conversion.get_conversion() instead of rpy2.robjects.conversion.converter.\n"
     ]
    },
    {
     "name": "stdout",
     "output_type": "stream",
     "text": [
      "JCP2022_046524 consists of a single batch or is too small. Skip.\n",
      "JCP2022_046649 consists of a single batch or is too small. Skip.\n",
      "JCP2022_047143 consists of a single batch or is too small. Skip.\n",
      "JCP2022_047545 consists of a single batch or is too small. Skip.\n",
      "JCP2022_047559 consists of a single batch or is too small. Skip.\n",
      "JCP2022_048928 consists of a single batch or is too small. Skip.\n",
      "JCP2022_048971 consists of a single batch or is too small. Skip.\n",
      "JCP2022_049224 consists of a single batch or is too small. Skip.\n",
      "JCP2022_050162 consists of a single batch or is too small. Skip.\n",
      "JCP2022_050271 consists of a single batch or is too small. Skip.\n",
      "JCP2022_050338 consists of a single batch or is too small. Skip.\n",
      "JCP2022_050516 consists of a single batch or is too small. Skip.\n"
     ]
    },
    {
     "name": "stderr",
     "output_type": "stream",
     "text": [
      "/home/stockhaus/miniconda3/envs/mp/lib/python3.9/site-packages/rpy2/robjects/pandas2ri.py:368: DeprecationWarning: The global conversion available with activate() is deprecated and will be removed in the next major release. Use a local converter.\n",
      "/home/stockhaus/miniconda3/envs/mp/lib/python3.9/site-packages/rpy2/robjects/numpy2ri.py:241: DeprecationWarning: The global conversion available with activate() is deprecated and will be removed in the next major release. Use a local converter.\n",
      "/home/stockhaus/miniconda3/envs/mp/lib/python3.9/site-packages/rpy2/robjects/conversion.py:28: DeprecationWarning: The use of converter in module rpy2.robjects.conversion is deprecated. Use rpy2.robjects.conversion.get_conversion() instead of rpy2.robjects.conversion.converter.\n"
     ]
    },
    {
     "name": "stdout",
     "output_type": "stream",
     "text": [
      "JCP2022_050830 consists of a single batch or is too small. Skip.\n",
      "JCP2022_050861 consists of a single batch or is too small. Skip.\n",
      "JCP2022_050873 consists of a single batch or is too small. Skip.\n",
      "JCP2022_050997 consists of a single batch or is too small. Skip.\n",
      "JCP2022_051043 consists of a single batch or is too small. Skip.\n",
      "JCP2022_051319 consists of a single batch or is too small. Skip.\n",
      "JCP2022_051415 consists of a single batch or is too small. Skip.\n",
      "JCP2022_052259 consists of a single batch or is too small. Skip.\n",
      "JCP2022_052804 consists of a single batch or is too small. Skip.\n",
      "JCP2022_052870 consists of a single batch or is too small. Skip.\n",
      "JCP2022_053409 consists of a single batch or is too small. Skip.\n",
      "JCP2022_053626 consists of a single batch or is too small. Skip.\n",
      "JCP2022_053734 consists of a single batch or is too small. Skip.\n",
      "JCP2022_054601 consists of a single batch or is too small. Skip.\n",
      "JCP2022_054618 consists of a single batch or is too small. Skip.\n",
      "JCP2022_055397 consists of a single batch or is too small. Skip.\n",
      "JCP2022_055904 consists of a single batch or is too small. Skip.\n",
      "Adding diffusion to step 4\n"
     ]
    },
    {
     "name": "stderr",
     "output_type": "stream",
     "text": [
      "/home/stockhaus/miniconda3/envs/mp/lib/python3.9/site-packages/rpy2/robjects/pandas2ri.py:368: DeprecationWarning: The global conversion available with activate() is deprecated and will be removed in the next major release. Use a local converter.\n",
      "/home/stockhaus/miniconda3/envs/mp/lib/python3.9/site-packages/rpy2/robjects/numpy2ri.py:241: DeprecationWarning: The global conversion available with activate() is deprecated and will be removed in the next major release. Use a local converter.\n",
      "/home/stockhaus/miniconda3/envs/mp/lib/python3.9/site-packages/rpy2/robjects/conversion.py:28: DeprecationWarning: The use of converter in module rpy2.robjects.conversion is deprecated. Use rpy2.robjects.conversion.get_conversion() instead of rpy2.robjects.conversion.converter.\n"
     ]
    },
    {
     "name": "stdout",
     "output_type": "stream",
     "text": [
      "JCP2022_056730 consists of a single batch or is too small. Skip.\n",
      "JCP2022_057163 consists of a single batch or is too small. Skip.\n",
      "JCP2022_057881 consists of a single batch or is too small. Skip.\n",
      "JCP2022_057971 consists of a single batch or is too small. Skip.\n",
      "JCP2022_058046 consists of a single batch or is too small. Skip.\n",
      "JCP2022_058288 consists of a single batch or is too small. Skip.\n",
      "JCP2022_058461 consists of a single batch or is too small. Skip.\n",
      "JCP2022_058889 consists of a single batch or is too small. Skip.\n",
      "JCP2022_059103 consists of a single batch or is too small. Skip.\n",
      "JCP2022_059269 consists of a single batch or is too small. Skip.\n",
      "JCP2022_059825 consists of a single batch or is too small. Skip.\n",
      "JCP2022_059966 consists of a single batch or is too small. Skip.\n",
      "JCP2022_060311 consists of a single batch or is too small. Skip.\n",
      "JCP2022_060649 consists of a single batch or is too small. Skip.\n",
      "JCP2022_060734 consists of a single batch or is too small. Skip.\n",
      "JCP2022_061421 consists of a single batch or is too small. Skip.\n",
      "JCP2022_061437 consists of a single batch or is too small. Skip.\n",
      "JCP2022_061654 consists of a single batch or is too small. Skip.\n",
      "JCP2022_062023 consists of a single batch or is too small. Skip.\n",
      "JCP2022_062184 consists of a single batch or is too small. Skip.\n",
      "JCP2022_062326 consists of a single batch or is too small. Skip.\n",
      "JCP2022_062592 consists of a single batch or is too small. Skip.\n",
      "JCP2022_063174 consists of a single batch or is too small. Skip.\n",
      "JCP2022_064022 consists of a single batch or is too small. Skip.\n",
      "JCP2022_064183 consists of a single batch or is too small. Skip.\n",
      "JCP2022_064903 consists of a single batch or is too small. Skip.\n",
      "JCP2022_065525 consists of a single batch or is too small. Skip.\n",
      "JCP2022_066287 consists of a single batch or is too small. Skip.\n",
      "JCP2022_067426 consists of a single batch or is too small. Skip.\n",
      "JCP2022_067432 consists of a single batch or is too small. Skip.\n",
      "JCP2022_067441 consists of a single batch or is too small. Skip.\n",
      "JCP2022_067886 consists of a single batch or is too small. Skip.\n",
      "JCP2022_067887 consists of a single batch or is too small. Skip.\n",
      "JCP2022_068238 consists of a single batch or is too small. Skip.\n",
      "JCP2022_068606 consists of a single batch or is too small. Skip.\n",
      "JCP2022_068634 consists of a single batch or is too small. Skip.\n",
      "JCP2022_068660 consists of a single batch or is too small. Skip.\n",
      "JCP2022_068713 consists of a single batch or is too small. Skip.\n",
      "JCP2022_068838 consists of a single batch or is too small. Skip.\n",
      "JCP2022_068901 consists of a single batch or is too small. Skip.\n",
      "JCP2022_069131 consists of a single batch or is too small. Skip.\n",
      "JCP2022_069285 consists of a single batch or is too small. Skip.\n",
      "JCP2022_069491 consists of a single batch or is too small. Skip.\n",
      "JCP2022_069668 consists of a single batch or is too small. Skip.\n",
      "JCP2022_069672 consists of a single batch or is too small. Skip.\n",
      "JCP2022_071429 consists of a single batch or is too small. Skip.\n",
      "JCP2022_071733 consists of a single batch or is too small. Skip.\n",
      "JCP2022_071811 consists of a single batch or is too small. Skip.\n",
      "JCP2022_071910 consists of a single batch or is too small. Skip.\n",
      "JCP2022_072945 consists of a single batch or is too small. Skip.\n",
      "JCP2022_073156 consists of a single batch or is too small. Skip.\n",
      "JCP2022_073458 consists of a single batch or is too small. Skip.\n",
      "JCP2022_074697 consists of a single batch or is too small. Skip.\n",
      "JCP2022_074702 consists of a single batch or is too small. Skip.\n",
      "JCP2022_075182 consists of a single batch or is too small. Skip.\n",
      "JCP2022_075694 consists of a single batch or is too small. Skip.\n",
      "JCP2022_075916 consists of a single batch or is too small. Skip.\n",
      "JCP2022_075930 consists of a single batch or is too small. Skip.\n",
      "JCP2022_076233 consists of a single batch or is too small. Skip.\n",
      "JCP2022_076300 consists of a single batch or is too small. Skip.\n",
      "JCP2022_076523 consists of a single batch or is too small. Skip.\n",
      "JCP2022_076573 consists of a single batch or is too small. Skip.\n",
      "JCP2022_077046 consists of a single batch or is too small. Skip.\n",
      "JCP2022_077089 consists of a single batch or is too small. Skip.\n",
      "JCP2022_077096 consists of a single batch or is too small. Skip.\n",
      "JCP2022_077142 consists of a single batch or is too small. Skip.\n",
      "JCP2022_077671 consists of a single batch or is too small. Skip.\n",
      "JCP2022_077927 consists of a single batch or is too small. Skip.\n",
      "JCP2022_078581 consists of a single batch or is too small. Skip.\n",
      "JCP2022_078588 consists of a single batch or is too small. Skip.\n",
      "JCP2022_079562 consists of a single batch or is too small. Skip.\n",
      "JCP2022_079617 consists of a single batch or is too small. Skip.\n",
      "JCP2022_079715 consists of a single batch or is too small. Skip.\n",
      "JCP2022_080150 consists of a single batch or is too small. Skip.\n",
      "JCP2022_080224 consists of a single batch or is too small. Skip.\n"
     ]
    },
    {
     "name": "stderr",
     "output_type": "stream",
     "text": [
      "/home/stockhaus/miniconda3/envs/mp/lib/python3.9/site-packages/rpy2/robjects/pandas2ri.py:368: DeprecationWarning: The global conversion available with activate() is deprecated and will be removed in the next major release. Use a local converter.\n",
      "/home/stockhaus/miniconda3/envs/mp/lib/python3.9/site-packages/rpy2/robjects/numpy2ri.py:241: DeprecationWarning: The global conversion available with activate() is deprecated and will be removed in the next major release. Use a local converter.\n",
      "/home/stockhaus/miniconda3/envs/mp/lib/python3.9/site-packages/rpy2/robjects/conversion.py:28: DeprecationWarning: The use of converter in module rpy2.robjects.conversion is deprecated. Use rpy2.robjects.conversion.get_conversion() instead of rpy2.robjects.conversion.converter.\n"
     ]
    },
    {
     "name": "stdout",
     "output_type": "stream",
     "text": [
      "JCP2022_081430 consists of a single batch or is too small. Skip.\n",
      "JCP2022_081496 consists of a single batch or is too small. Skip.\n",
      "JCP2022_081555 consists of a single batch or is too small. Skip.\n",
      "JCP2022_082046 consists of a single batch or is too small. Skip.\n",
      "JCP2022_082234 consists of a single batch or is too small. Skip.\n",
      "JCP2022_083099 consists of a single batch or is too small. Skip.\n",
      "JCP2022_083372 consists of a single batch or is too small. Skip.\n",
      "JCP2022_084364 consists of a single batch or is too small. Skip.\n",
      "JCP2022_084606 consists of a single batch or is too small. Skip.\n",
      "JCP2022_084963 consists of a single batch or is too small. Skip.\n",
      "JCP2022_085227 consists of a single batch or is too small. Skip.\n",
      "JCP2022_085892 consists of a single batch or is too small. Skip.\n",
      "JCP2022_086505 consists of a single batch or is too small. Skip.\n",
      "JCP2022_087444 consists of a single batch or is too small. Skip.\n",
      "JCP2022_087474 consists of a single batch or is too small. Skip.\n",
      "JCP2022_087562 consists of a single batch or is too small. Skip.\n",
      "JCP2022_087693 consists of a single batch or is too small. Skip.\n",
      "JCP2022_088224 consists of a single batch or is too small. Skip.\n",
      "JCP2022_088849 consists of a single batch or is too small. Skip.\n",
      "JCP2022_089172 consists of a single batch or is too small. Skip.\n",
      "JCP2022_089383 consists of a single batch or is too small. Skip.\n",
      "JCP2022_090051 consists of a single batch or is too small. Skip.\n",
      "JCP2022_090205 consists of a single batch or is too small. Skip.\n",
      "JCP2022_090768 consists of a single batch or is too small. Skip.\n",
      "JCP2022_090884 consists of a single batch or is too small. Skip.\n",
      "JCP2022_092256 consists of a single batch or is too small. Skip.\n",
      "JCP2022_092464 consists of a single batch or is too small. Skip.\n",
      "JCP2022_093047 consists of a single batch or is too small. Skip.\n",
      "JCP2022_093289 consists of a single batch or is too small. Skip.\n",
      "JCP2022_093480 consists of a single batch or is too small. Skip.\n",
      "JCP2022_093678 consists of a single batch or is too small. Skip.\n",
      "JCP2022_093901 consists of a single batch or is too small. Skip.\n",
      "JCP2022_093956 consists of a single batch or is too small. Skip.\n",
      "JCP2022_094002 consists of a single batch or is too small. Skip.\n",
      "JCP2022_096054 consists of a single batch or is too small. Skip.\n",
      "JCP2022_096067 consists of a single batch or is too small. Skip.\n",
      "JCP2022_096342 consists of a single batch or is too small. Skip.\n",
      "JCP2022_096865 consists of a single batch or is too small. Skip.\n",
      "JCP2022_097564 consists of a single batch or is too small. Skip.\n",
      "JCP2022_097998 consists of a single batch or is too small. Skip.\n",
      "JCP2022_098688 consists of a single batch or is too small. Skip.\n",
      "JCP2022_099089 consists of a single batch or is too small. Skip.\n",
      "JCP2022_099471 consists of a single batch or is too small. Skip.\n",
      "JCP2022_100264 consists of a single batch or is too small. Skip.\n",
      "JCP2022_100688 consists of a single batch or is too small. Skip.\n",
      "JCP2022_100876 consists of a single batch or is too small. Skip.\n",
      "JCP2022_101857 consists of a single batch or is too small. Skip.\n",
      "JCP2022_101929 consists of a single batch or is too small. Skip.\n",
      "JCP2022_102917 consists of a single batch or is too small. Skip.\n",
      "JCP2022_102936 consists of a single batch or is too small. Skip.\n",
      "JCP2022_103217 consists of a single batch or is too small. Skip.\n",
      "JCP2022_103291 consists of a single batch or is too small. Skip.\n",
      "JCP2022_104437 consists of a single batch or is too small. Skip.\n",
      "JCP2022_104794 consists of a single batch or is too small. Skip.\n"
     ]
    },
    {
     "name": "stderr",
     "output_type": "stream",
     "text": [
      "/home/stockhaus/miniconda3/envs/mp/lib/python3.9/site-packages/rpy2/robjects/pandas2ri.py:368: DeprecationWarning: The global conversion available with activate() is deprecated and will be removed in the next major release. Use a local converter.\n",
      "/home/stockhaus/miniconda3/envs/mp/lib/python3.9/site-packages/rpy2/robjects/numpy2ri.py:241: DeprecationWarning: The global conversion available with activate() is deprecated and will be removed in the next major release. Use a local converter.\n",
      "/home/stockhaus/miniconda3/envs/mp/lib/python3.9/site-packages/rpy2/robjects/conversion.py:28: DeprecationWarning: The use of converter in module rpy2.robjects.conversion is deprecated. Use rpy2.robjects.conversion.get_conversion() instead of rpy2.robjects.conversion.converter.\n"
     ]
    },
    {
     "name": "stdout",
     "output_type": "stream",
     "text": [
      "JCP2022_105456 consists of a single batch or is too small. Skip.\n",
      "JCP2022_105539 consists of a single batch or is too small. Skip.\n",
      "JCP2022_105621 consists of a single batch or is too small. Skip.\n",
      "JCP2022_105696 consists of a single batch or is too small. Skip.\n",
      "JCP2022_106219 consists of a single batch or is too small. Skip.\n",
      "JCP2022_106680 consists of a single batch or is too small. Skip.\n",
      "JCP2022_106722 consists of a single batch or is too small. Skip.\n",
      "JCP2022_106781 consists of a single batch or is too small. Skip.\n",
      "JCP2022_107658 consists of a single batch or is too small. Skip.\n",
      "JCP2022_108326 consists of a single batch or is too small. Skip.\n",
      "JCP2022_109043 consists of a single batch or is too small. Skip.\n",
      "JCP2022_109350 consists of a single batch or is too small. Skip.\n",
      "JCP2022_109917 consists of a single batch or is too small. Skip.\n",
      "JCP2022_110929 consists of a single batch or is too small. Skip.\n",
      "JCP2022_111730 consists of a single batch or is too small. Skip.\n",
      "JCP2022_112702 consists of a single batch or is too small. Skip.\n",
      "JCP2022_112828 consists of a single batch or is too small. Skip.\n",
      "JCP2022_113600 consists of a single batch or is too small. Skip.\n",
      "JCP2022_113710 consists of a single batch or is too small. Skip.\n",
      "JCP2022_113779 consists of a single batch or is too small. Skip.\n",
      "JCP2022_114322 consists of a single batch or is too small. Skip.\n",
      "JCP2022_114461 consists of a single batch or is too small. Skip.\n",
      "JCP2022_115049 consists of a single batch or is too small. Skip.\n",
      "JCP2022_115134 consists of a single batch or is too small. Skip.\n",
      "JCP2022_115963 consists of a single batch or is too small. Skip.\n",
      "JCP2022_116188 consists of a single batch or is too small. Skip.\n",
      "JCP2022_116437 consists of a single batch or is too small. Skip.\n",
      "JCP2022_116560 consists of a single batch or is too small. Skip.\n",
      "JCP2022_116749 consists of a single batch or is too small. Skip.\n"
     ]
    }
   ],
   "source": [
    "kbet_test = compute_kbet(adata_13, \"Metadata_JCP2022\", \"Metadata_Plate\", integrated_13)"
   ]
  },
  {
   "cell_type": "code",
   "execution_count": 70,
   "metadata": {},
   "outputs": [
    {
     "data": {
      "text/plain": [
       "0.6365243902439024"
      ]
     },
     "execution_count": 70,
     "metadata": {},
     "output_type": "execute_result"
    }
   ],
   "source": [
    "kbet_test"
   ]
  },
  {
   "cell_type": "markdown",
   "metadata": {},
   "source": [
    "### high level:"
   ]
  },
  {
   "cell_type": "code",
   "execution_count": 16,
   "metadata": {},
   "outputs": [
    {
     "name": "stdout",
     "output_type": "stream",
     "text": [
      "Adding diffusion to step 4\n"
     ]
    },
    {
     "name": "stderr",
     "output_type": "stream",
     "text": [
      "/home/stockhaus/miniconda3/envs/mp/lib/python3.9/site-packages/rpy2/robjects/pandas2ri.py:368: DeprecationWarning: The global conversion available with activate() is deprecated and will be removed in the next major release. Use a local converter.\n",
      "/home/stockhaus/miniconda3/envs/mp/lib/python3.9/site-packages/rpy2/robjects/numpy2ri.py:241: DeprecationWarning: The global conversion available with activate() is deprecated and will be removed in the next major release. Use a local converter.\n",
      "/home/stockhaus/miniconda3/envs/mp/lib/python3.9/site-packages/rpy2/robjects/conversion.py:28: DeprecationWarning: The use of converter in module rpy2.robjects.conversion is deprecated. Use rpy2.robjects.conversion.get_conversion() instead of rpy2.robjects.conversion.converter.\n",
      "/home/stockhaus/miniconda3/envs/mp/lib/python3.9/site-packages/rpy2/robjects/pandas2ri.py:368: DeprecationWarning: The global conversion available with activate() is deprecated and will be removed in the next major release. Use a local converter.\n",
      "/home/stockhaus/miniconda3/envs/mp/lib/python3.9/site-packages/rpy2/robjects/numpy2ri.py:241: DeprecationWarning: The global conversion available with activate() is deprecated and will be removed in the next major release. Use a local converter.\n",
      "/home/stockhaus/miniconda3/envs/mp/lib/python3.9/site-packages/rpy2/robjects/conversion.py:28: DeprecationWarning: The use of converter in module rpy2.robjects.conversion is deprecated. Use rpy2.robjects.conversion.get_conversion() instead of rpy2.robjects.conversion.converter.\n",
      "/home/stockhaus/miniconda3/envs/mp/lib/python3.9/site-packages/rpy2/robjects/pandas2ri.py:368: DeprecationWarning: The global conversion available with activate() is deprecated and will be removed in the next major release. Use a local converter.\n",
      "/home/stockhaus/miniconda3/envs/mp/lib/python3.9/site-packages/rpy2/robjects/numpy2ri.py:241: DeprecationWarning: The global conversion available with activate() is deprecated and will be removed in the next major release. Use a local converter.\n",
      "/home/stockhaus/miniconda3/envs/mp/lib/python3.9/site-packages/rpy2/robjects/conversion.py:28: DeprecationWarning: The use of converter in module rpy2.robjects.conversion is deprecated. Use rpy2.robjects.conversion.get_conversion() instead of rpy2.robjects.conversion.converter.\n"
     ]
    },
    {
     "name": "stdout",
     "output_type": "stream",
     "text": [
      "Adding diffusion to step 4\n",
      "Adding diffusion to step 5\n"
     ]
    },
    {
     "name": "stderr",
     "output_type": "stream",
     "text": [
      "/home/stockhaus/miniconda3/envs/mp/lib/python3.9/site-packages/rpy2/robjects/pandas2ri.py:368: DeprecationWarning: The global conversion available with activate() is deprecated and will be removed in the next major release. Use a local converter.\n",
      "/home/stockhaus/miniconda3/envs/mp/lib/python3.9/site-packages/rpy2/robjects/numpy2ri.py:241: DeprecationWarning: The global conversion available with activate() is deprecated and will be removed in the next major release. Use a local converter.\n",
      "/home/stockhaus/miniconda3/envs/mp/lib/python3.9/site-packages/rpy2/robjects/conversion.py:28: DeprecationWarning: The use of converter in module rpy2.robjects.conversion is deprecated. Use rpy2.robjects.conversion.get_conversion() instead of rpy2.robjects.conversion.converter.\n",
      "/home/stockhaus/miniconda3/envs/mp/lib/python3.9/site-packages/rpy2/robjects/pandas2ri.py:368: DeprecationWarning: The global conversion available with activate() is deprecated and will be removed in the next major release. Use a local converter.\n",
      "/home/stockhaus/miniconda3/envs/mp/lib/python3.9/site-packages/rpy2/robjects/numpy2ri.py:241: DeprecationWarning: The global conversion available with activate() is deprecated and will be removed in the next major release. Use a local converter.\n",
      "/home/stockhaus/miniconda3/envs/mp/lib/python3.9/site-packages/rpy2/robjects/conversion.py:28: DeprecationWarning: The use of converter in module rpy2.robjects.conversion is deprecated. Use rpy2.robjects.conversion.get_conversion() instead of rpy2.robjects.conversion.converter.\n",
      "/home/stockhaus/miniconda3/envs/mp/lib/python3.9/site-packages/rpy2/robjects/pandas2ri.py:368: DeprecationWarning: The global conversion available with activate() is deprecated and will be removed in the next major release. Use a local converter.\n",
      "/home/stockhaus/miniconda3/envs/mp/lib/python3.9/site-packages/rpy2/robjects/numpy2ri.py:241: DeprecationWarning: The global conversion available with activate() is deprecated and will be removed in the next major release. Use a local converter.\n",
      "/home/stockhaus/miniconda3/envs/mp/lib/python3.9/site-packages/rpy2/robjects/conversion.py:28: DeprecationWarning: The use of converter in module rpy2.robjects.conversion is deprecated. Use rpy2.robjects.conversion.get_conversion() instead of rpy2.robjects.conversion.converter.\n"
     ]
    },
    {
     "name": "stdout",
     "output_type": "stream",
     "text": [
      "Adding diffusion to step 4\n"
     ]
    },
    {
     "name": "stderr",
     "output_type": "stream",
     "text": [
      "/home/stockhaus/miniconda3/envs/mp/lib/python3.9/site-packages/rpy2/robjects/pandas2ri.py:368: DeprecationWarning: The global conversion available with activate() is deprecated and will be removed in the next major release. Use a local converter.\n",
      "/home/stockhaus/miniconda3/envs/mp/lib/python3.9/site-packages/rpy2/robjects/numpy2ri.py:241: DeprecationWarning: The global conversion available with activate() is deprecated and will be removed in the next major release. Use a local converter.\n",
      "/home/stockhaus/miniconda3/envs/mp/lib/python3.9/site-packages/rpy2/robjects/conversion.py:28: DeprecationWarning: The use of converter in module rpy2.robjects.conversion is deprecated. Use rpy2.robjects.conversion.get_conversion() instead of rpy2.robjects.conversion.converter.\n",
      "/home/stockhaus/miniconda3/envs/mp/lib/python3.9/site-packages/rpy2/robjects/pandas2ri.py:368: DeprecationWarning: The global conversion available with activate() is deprecated and will be removed in the next major release. Use a local converter.\n",
      "/home/stockhaus/miniconda3/envs/mp/lib/python3.9/site-packages/rpy2/robjects/numpy2ri.py:241: DeprecationWarning: The global conversion available with activate() is deprecated and will be removed in the next major release. Use a local converter.\n",
      "/home/stockhaus/miniconda3/envs/mp/lib/python3.9/site-packages/rpy2/robjects/conversion.py:28: DeprecationWarning: The use of converter in module rpy2.robjects.conversion is deprecated. Use rpy2.robjects.conversion.get_conversion() instead of rpy2.robjects.conversion.converter.\n",
      "/home/stockhaus/miniconda3/envs/mp/lib/python3.9/site-packages/rpy2/robjects/pandas2ri.py:368: DeprecationWarning: The global conversion available with activate() is deprecated and will be removed in the next major release. Use a local converter.\n",
      "/home/stockhaus/miniconda3/envs/mp/lib/python3.9/site-packages/rpy2/robjects/numpy2ri.py:241: DeprecationWarning: The global conversion available with activate() is deprecated and will be removed in the next major release. Use a local converter.\n",
      "/home/stockhaus/miniconda3/envs/mp/lib/python3.9/site-packages/rpy2/robjects/conversion.py:28: DeprecationWarning: The use of converter in module rpy2.robjects.conversion is deprecated. Use rpy2.robjects.conversion.get_conversion() instead of rpy2.robjects.conversion.converter.\n"
     ]
    },
    {
     "name": "stdout",
     "output_type": "stream",
     "text": [
      "Adding diffusion to step 4\n"
     ]
    },
    {
     "name": "stderr",
     "output_type": "stream",
     "text": [
      "/home/stockhaus/miniconda3/envs/mp/lib/python3.9/site-packages/rpy2/robjects/pandas2ri.py:368: DeprecationWarning: The global conversion available with activate() is deprecated and will be removed in the next major release. Use a local converter.\n",
      "/home/stockhaus/miniconda3/envs/mp/lib/python3.9/site-packages/rpy2/robjects/numpy2ri.py:241: DeprecationWarning: The global conversion available with activate() is deprecated and will be removed in the next major release. Use a local converter.\n",
      "/home/stockhaus/miniconda3/envs/mp/lib/python3.9/site-packages/rpy2/robjects/conversion.py:28: DeprecationWarning: The use of converter in module rpy2.robjects.conversion is deprecated. Use rpy2.robjects.conversion.get_conversion() instead of rpy2.robjects.conversion.converter.\n"
     ]
    },
    {
     "name": "stdout",
     "output_type": "stream",
     "text": [
      "Adding diffusion to step 4\n"
     ]
    },
    {
     "name": "stderr",
     "output_type": "stream",
     "text": [
      "/home/stockhaus/miniconda3/envs/mp/lib/python3.9/site-packages/rpy2/robjects/pandas2ri.py:368: DeprecationWarning: The global conversion available with activate() is deprecated and will be removed in the next major release. Use a local converter.\n",
      "/home/stockhaus/miniconda3/envs/mp/lib/python3.9/site-packages/rpy2/robjects/numpy2ri.py:241: DeprecationWarning: The global conversion available with activate() is deprecated and will be removed in the next major release. Use a local converter.\n",
      "/home/stockhaus/miniconda3/envs/mp/lib/python3.9/site-packages/rpy2/robjects/conversion.py:28: DeprecationWarning: The use of converter in module rpy2.robjects.conversion is deprecated. Use rpy2.robjects.conversion.get_conversion() instead of rpy2.robjects.conversion.converter.\n"
     ]
    },
    {
     "name": "stdout",
     "output_type": "stream",
     "text": [
      "Adding diffusion to step 4\n"
     ]
    },
    {
     "name": "stderr",
     "output_type": "stream",
     "text": [
      "/home/stockhaus/miniconda3/envs/mp/lib/python3.9/site-packages/rpy2/robjects/pandas2ri.py:368: DeprecationWarning: The global conversion available with activate() is deprecated and will be removed in the next major release. Use a local converter.\n",
      "/home/stockhaus/miniconda3/envs/mp/lib/python3.9/site-packages/rpy2/robjects/numpy2ri.py:241: DeprecationWarning: The global conversion available with activate() is deprecated and will be removed in the next major release. Use a local converter.\n",
      "/home/stockhaus/miniconda3/envs/mp/lib/python3.9/site-packages/rpy2/robjects/conversion.py:28: DeprecationWarning: The use of converter in module rpy2.robjects.conversion is deprecated. Use rpy2.robjects.conversion.get_conversion() instead of rpy2.robjects.conversion.converter.\n",
      "/home/stockhaus/miniconda3/envs/mp/lib/python3.9/site-packages/rpy2/robjects/pandas2ri.py:368: DeprecationWarning: The global conversion available with activate() is deprecated and will be removed in the next major release. Use a local converter.\n",
      "/home/stockhaus/miniconda3/envs/mp/lib/python3.9/site-packages/rpy2/robjects/numpy2ri.py:241: DeprecationWarning: The global conversion available with activate() is deprecated and will be removed in the next major release. Use a local converter.\n",
      "/home/stockhaus/miniconda3/envs/mp/lib/python3.9/site-packages/rpy2/robjects/conversion.py:28: DeprecationWarning: The use of converter in module rpy2.robjects.conversion is deprecated. Use rpy2.robjects.conversion.get_conversion() instead of rpy2.robjects.conversion.converter.\n"
     ]
    },
    {
     "name": "stdout",
     "output_type": "stream",
     "text": [
      "Adding diffusion to step 4\n",
      "Adding diffusion to step 5\n"
     ]
    },
    {
     "name": "stderr",
     "output_type": "stream",
     "text": [
      "/home/stockhaus/miniconda3/envs/mp/lib/python3.9/site-packages/rpy2/robjects/pandas2ri.py:368: DeprecationWarning: The global conversion available with activate() is deprecated and will be removed in the next major release. Use a local converter.\n",
      "/home/stockhaus/miniconda3/envs/mp/lib/python3.9/site-packages/rpy2/robjects/numpy2ri.py:241: DeprecationWarning: The global conversion available with activate() is deprecated and will be removed in the next major release. Use a local converter.\n",
      "/home/stockhaus/miniconda3/envs/mp/lib/python3.9/site-packages/rpy2/robjects/conversion.py:28: DeprecationWarning: The use of converter in module rpy2.robjects.conversion is deprecated. Use rpy2.robjects.conversion.get_conversion() instead of rpy2.robjects.conversion.converter.\n"
     ]
    },
    {
     "name": "stdout",
     "output_type": "stream",
     "text": [
      "Adding diffusion to step 4\n"
     ]
    },
    {
     "name": "stderr",
     "output_type": "stream",
     "text": [
      "/home/stockhaus/miniconda3/envs/mp/lib/python3.9/site-packages/rpy2/robjects/pandas2ri.py:368: DeprecationWarning: The global conversion available with activate() is deprecated and will be removed in the next major release. Use a local converter.\n",
      "/home/stockhaus/miniconda3/envs/mp/lib/python3.9/site-packages/rpy2/robjects/numpy2ri.py:241: DeprecationWarning: The global conversion available with activate() is deprecated and will be removed in the next major release. Use a local converter.\n",
      "/home/stockhaus/miniconda3/envs/mp/lib/python3.9/site-packages/rpy2/robjects/conversion.py:28: DeprecationWarning: The use of converter in module rpy2.robjects.conversion is deprecated. Use rpy2.robjects.conversion.get_conversion() instead of rpy2.robjects.conversion.converter.\n"
     ]
    },
    {
     "name": "stdout",
     "output_type": "stream",
     "text": [
      "Adding diffusion to step 4\n"
     ]
    },
    {
     "name": "stderr",
     "output_type": "stream",
     "text": [
      "/home/stockhaus/miniconda3/envs/mp/lib/python3.9/site-packages/rpy2/robjects/pandas2ri.py:368: DeprecationWarning: The global conversion available with activate() is deprecated and will be removed in the next major release. Use a local converter.\n",
      "/home/stockhaus/miniconda3/envs/mp/lib/python3.9/site-packages/rpy2/robjects/numpy2ri.py:241: DeprecationWarning: The global conversion available with activate() is deprecated and will be removed in the next major release. Use a local converter.\n",
      "/home/stockhaus/miniconda3/envs/mp/lib/python3.9/site-packages/rpy2/robjects/conversion.py:28: DeprecationWarning: The use of converter in module rpy2.robjects.conversion is deprecated. Use rpy2.robjects.conversion.get_conversion() instead of rpy2.robjects.conversion.converter.\n"
     ]
    },
    {
     "name": "stdout",
     "output_type": "stream",
     "text": [
      "Adding diffusion to step 4\n",
      "Adding diffusion to step 5\n",
      "Adding diffusion to step 6\n"
     ]
    },
    {
     "name": "stderr",
     "output_type": "stream",
     "text": [
      "/home/stockhaus/miniconda3/envs/mp/lib/python3.9/site-packages/rpy2/robjects/pandas2ri.py:368: DeprecationWarning: The global conversion available with activate() is deprecated and will be removed in the next major release. Use a local converter.\n",
      "/home/stockhaus/miniconda3/envs/mp/lib/python3.9/site-packages/rpy2/robjects/numpy2ri.py:241: DeprecationWarning: The global conversion available with activate() is deprecated and will be removed in the next major release. Use a local converter.\n",
      "/home/stockhaus/miniconda3/envs/mp/lib/python3.9/site-packages/rpy2/robjects/conversion.py:28: DeprecationWarning: The use of converter in module rpy2.robjects.conversion is deprecated. Use rpy2.robjects.conversion.get_conversion() instead of rpy2.robjects.conversion.converter.\n"
     ]
    }
   ],
   "source": [
    "kbet_test = compute_kbet(adata, \"Metadata_JCP2022\", \"Metadata_Source\", integrated, integrated_obsm_key=obsm_key)"
   ]
  },
  {
   "cell_type": "code",
   "execution_count": 17,
   "metadata": {},
   "outputs": [
    {
     "data": {
      "text/plain": [
       "0.019223644441817567"
      ]
     },
     "execution_count": 17,
     "metadata": {},
     "output_type": "execute_result"
    }
   ],
   "source": [
    "kbet_test"
   ]
  }
 ],
 "metadata": {
  "kernelspec": {
   "display_name": "mp",
   "language": "python",
   "name": "python3"
  },
  "language_info": {
   "codemirror_mode": {
    "name": "ipython",
    "version": 3
   },
   "file_extension": ".py",
   "mimetype": "text/x-python",
   "name": "python",
   "nbconvert_exporter": "python",
   "pygments_lexer": "ipython3",
   "version": "3.9.16"
  },
  "orig_nbformat": 4
 },
 "nbformat": 4,
 "nbformat_minor": 2
}
