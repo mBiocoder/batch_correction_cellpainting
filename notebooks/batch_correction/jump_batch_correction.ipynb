{
 "cells": [
  {
   "cell_type": "markdown",
   "metadata": {},
   "source": [
    "# Batch Correction of the JUMP Target2 Data"
   ]
  },
  {
   "cell_type": "code",
   "execution_count": 1,
   "metadata": {},
   "outputs": [
    {
     "name": "stderr",
     "output_type": "stream",
     "text": [
      "WARNING:root:In order to use the mouse gastrulation seqFISH datsets, please install squidpy (see https://github.com/scverse/squidpy).\n",
      "WARNING:root:In order to use sagenet models, please install pytorch geometric (see https://pytorch-geometric.readthedocs.io) and \n",
      " captum (see https://github.com/pytorch/captum).\n",
      "INFO:lightning_fabric.utilities.seed:Global seed set to 0\n",
      "WARNING:root:mvTCR is not installed. To use mvTCR models, please install it first using \"pip install mvtcr\"\n",
      "WARNING:root:multigrate is not installed. To use multigrate models, please install it first using \"pip install multigrate\".\n"
     ]
    },
    {
     "data": {
      "text/html": [
       "<pre style=\"white-space:pre;overflow-x:auto;line-height:normal;font-family:Menlo,'DejaVu Sans Mono',consolas,'Courier New',monospace\"><span style=\"color: #808000; text-decoration-color: #808000; font-weight: bold\">To use sccoda or tasccoda please install ete3 with </span><span style=\"color: #008000; text-decoration-color: #008000; font-weight: bold\">pip install ete3</span>\n",
       "</pre>\n"
      ],
      "text/plain": [
       "\u001b[1;33mTo use sccoda or tasccoda please install ete3 with \u001b[0m\u001b[1;32mpip install ete3\u001b[0m\n"
      ]
     },
     "metadata": {},
     "output_type": "display_data"
    }
   ],
   "source": [
    "import os\n",
    "import scanpy as sc\n",
    "from bcc.batch_correction import *\n",
    "from bcc.scib_metrics import *"
   ]
  },
  {
   "cell_type": "markdown",
   "metadata": {},
   "source": [
    "This notebook contains example function calls for the batch correction of the JUMP data with different existing methods.\n",
    "\n",
    "In this project, batch correction was performed in 3 different ways:\n",
    "1. Low level: for each source, the method is applied separately to correct for plate effects.\n",
    "2. High level: using all batch-corrected embeddings from step 1 (low level), batch correction is performed to remove differences between sources.\n",
    "3. Directly: we directly correct for source in the whole data set.\n",
    "\n",
    "Five different existing integration methods were tested:\n",
    "* [1 Harmony](#harmony)\n",
    "* [2 Scanorama](#scanorama)\n",
    "* [3 scGen](#scgen)\n",
    "* [4 scanVI](#scanvi)\n",
    "* [5 scVI](#scvi)"
   ]
  },
  {
   "cell_type": "code",
   "execution_count": 2,
   "metadata": {},
   "outputs": [],
   "source": [
    "# path to where the data file lies and the integration results will be saved\n",
    "data_path = \"../../data/jump/\""
   ]
  },
  {
   "cell_type": "code",
   "execution_count": 3,
   "metadata": {},
   "outputs": [],
   "source": [
    "data_file = f\"{data_path}jump_target2_spherized.h5ad\"\n",
    "if not os.path.exists(data_file):\n",
    "    raise FileNotFoundError(\"Please download the JUMP data and perform the preprocessing!\")"
   ]
  },
  {
   "cell_type": "code",
   "execution_count": 4,
   "metadata": {},
   "outputs": [],
   "source": [
    "adata = sc.read_h5ad(data_file)"
   ]
  },
  {
   "cell_type": "markdown",
   "metadata": {},
   "source": [
    "## 1 Integration with Harmony <a class=\"anchor\" id=\"harmony\"></a>"
   ]
  },
  {
   "cell_type": "code",
   "execution_count": null,
   "metadata": {},
   "outputs": [],
   "source": [
    "# correct for nested batch effects on low level\n",
    "adata_harmony_per_source = harmony_integration(adata, batch=\"Metadata_Plate\", hierarchical=\"Metadata_Source\")"
   ]
  },
  {
   "cell_type": "code",
   "execution_count": 16,
   "metadata": {},
   "outputs": [],
   "source": [
    "adata_harmony_per_source.write_h5ad(f\"{data_path}harmony_low.h5ad\")"
   ]
  },
  {
   "cell_type": "code",
   "execution_count": 20,
   "metadata": {},
   "outputs": [
    {
     "name": "stdout",
     "output_type": "stream",
     "text": [
      "\tInitialization is completed.\n",
      "\tCompleted 1 / 10 iteration(s).\n",
      "\tCompleted 2 / 10 iteration(s).\n",
      "\tCompleted 3 / 10 iteration(s).\n",
      "\tCompleted 4 / 10 iteration(s).\n",
      "\tCompleted 5 / 10 iteration(s).\n",
      "\tCompleted 6 / 10 iteration(s).\n",
      "\tCompleted 7 / 10 iteration(s).\n",
      "\tCompleted 8 / 10 iteration(s).\n",
      "Reach convergence after 8 iteration(s).\n"
     ]
    }
   ],
   "source": [
    "# correct for nested batch effects on high level\n",
    "adata_harmony_overall = harmony_integration(reset_corrected_anndata(adata_harmony_per_source), batch=\"Metadata_Source\")"
   ]
  },
  {
   "cell_type": "code",
   "execution_count": 21,
   "metadata": {},
   "outputs": [],
   "source": [
    "adata_harmony_overall.write_h5ad(f\"{data_path}harmony_high.h5ad\")"
   ]
  },
  {
   "cell_type": "markdown",
   "metadata": {},
   "source": [
    "Correct for source directly on the high level"
   ]
  },
  {
   "cell_type": "code",
   "execution_count": 5,
   "metadata": {},
   "outputs": [
    {
     "name": "stdout",
     "output_type": "stream",
     "text": [
      "\tInitialization is completed.\n",
      "\tCompleted 1 / 10 iteration(s).\n",
      "\tCompleted 2 / 10 iteration(s).\n",
      "Reach convergence after 2 iteration(s).\n"
     ]
    }
   ],
   "source": [
    "adata_harmony = harmony_integration(adata, batch=\"Metadata_Source\")"
   ]
  },
  {
   "cell_type": "code",
   "execution_count": 8,
   "metadata": {},
   "outputs": [],
   "source": [
    "adata_harmony.write_h5ad(f\"{data_path}harmony.h5ad\")"
   ]
  },
  {
   "cell_type": "markdown",
   "metadata": {},
   "source": [
    "## 2 Integration with Scanorama <a class=\"anchor\" id=\"scanorama\"></a>"
   ]
  },
  {
   "cell_type": "code",
   "execution_count": null,
   "metadata": {},
   "outputs": [],
   "source": [
    "# correct for nested batch effects on low level\n",
    "adata_scanorama_per_source = scanorama_integration(adata, batch=\"Metadata_Plate\", hierarchical=\"Metadata_Source\")"
   ]
  },
  {
   "cell_type": "code",
   "execution_count": 14,
   "metadata": {},
   "outputs": [],
   "source": [
    "adata_scanorama_per_source.write_h5ad(f\"{data_path}scanorama_low.h5ad\")"
   ]
  },
  {
   "cell_type": "code",
   "execution_count": 16,
   "metadata": {},
   "outputs": [
    {
     "name": "stdout",
     "output_type": "stream",
     "text": [
      "Found 100 genes among all datasets\n",
      "[[0.   0.04 0.   0.   0.09 0.   0.07 0.03 0.01 0.05 0.  ]\n",
      " [0.   0.   0.03 0.01 0.   0.04 0.09 0.03 0.01 0.02 0.01]\n",
      " [0.   0.   0.   0.01 0.   0.01 0.01 0.   0.02 0.02 0.02]\n",
      " [0.   0.   0.   0.   0.   0.01 0.02 0.02 0.   0.   0.01]\n",
      " [0.   0.   0.   0.   0.   0.01 0.01 0.05 0.01 0.03 0.02]\n",
      " [0.   0.   0.   0.   0.   0.   0.04 0.06 0.01 0.05 0.02]\n",
      " [0.   0.   0.   0.   0.   0.   0.   0.06 0.   0.11 0.07]\n",
      " [0.   0.   0.   0.   0.   0.   0.   0.   0.07 0.1  0.03]\n",
      " [0.   0.   0.   0.   0.   0.   0.   0.   0.   0.04 0.01]\n",
      " [0.   0.   0.   0.   0.   0.   0.   0.   0.   0.   0.05]\n",
      " [0.   0.   0.   0.   0.   0.   0.   0.   0.   0.   0.  ]]\n",
      "Processing datasets (6, 9)\n"
     ]
    }
   ],
   "source": [
    "# correct for nested batch effects on high level\n",
    "adata_scanorama_overall = scanorama_integration(reset_corrected_anndata(adata_scanorama_per_source), batch=\"Metadata_Source\")"
   ]
  },
  {
   "cell_type": "code",
   "execution_count": 20,
   "metadata": {},
   "outputs": [],
   "source": [
    "adata_scanorama_overall.write_h5ad(f\"{data_path}scanorama_high.h5ad\")"
   ]
  },
  {
   "cell_type": "markdown",
   "metadata": {},
   "source": [
    "Correct directly for source"
   ]
  },
  {
   "cell_type": "code",
   "execution_count": 10,
   "metadata": {},
   "outputs": [
    {
     "name": "stdout",
     "output_type": "stream",
     "text": [
      "Found 558 genes among all datasets\n",
      "[[0.   0.12 0.07 0.06 0.13 0.03 0.04 0.05 0.04 0.01 0.04]\n",
      " [0.   0.   0.1  0.11 0.04 0.13 0.12 0.08 0.03 0.03 0.03]\n",
      " [0.   0.   0.   0.08 0.06 0.04 0.08 0.1  0.04 0.04 0.06]\n",
      " [0.   0.   0.   0.   0.07 0.08 0.13 0.06 0.04 0.04 0.05]\n",
      " [0.   0.   0.   0.   0.   0.1  0.08 0.11 0.05 0.58 0.05]\n",
      " [0.   0.   0.   0.   0.   0.   0.16 0.32 0.07 0.02 0.02]\n",
      " [0.   0.   0.   0.   0.   0.   0.   0.41 0.07 0.03 0.02]\n",
      " [0.   0.   0.   0.   0.   0.   0.   0.   0.37 0.17 0.11]\n",
      " [0.   0.   0.   0.   0.   0.   0.   0.   0.   0.07 0.06]\n",
      " [0.   0.   0.   0.   0.   0.   0.   0.   0.   0.   0.1 ]\n",
      " [0.   0.   0.   0.   0.   0.   0.   0.   0.   0.   0.  ]]\n",
      "Processing datasets (4, 9)\n",
      "Processing datasets (6, 7)\n",
      "Processing datasets (7, 8)\n",
      "Processing datasets (5, 7)\n",
      "Processing datasets (7, 9)\n",
      "Processing datasets (5, 6)\n",
      "Processing datasets (1, 5)\n",
      "Processing datasets (0, 4)\n",
      "Processing datasets (3, 6)\n",
      "Processing datasets (0, 1)\n",
      "Processing datasets (1, 6)\n",
      "Processing datasets (1, 3)\n",
      "Processing datasets (4, 7)\n",
      "Processing datasets (7, 10)\n",
      "Processing datasets (2, 7)\n",
      "Processing datasets (9, 10)\n",
      "Processing datasets (1, 2)\n"
     ]
    }
   ],
   "source": [
    "adata_scanorama = scanorama_integration(adata, batch=\"Metadata_Source\")"
   ]
  },
  {
   "cell_type": "code",
   "execution_count": 12,
   "metadata": {},
   "outputs": [],
   "source": [
    "adata_scanorama.write_h5ad(f\"{data_path}scanorama.h5ad\")"
   ]
  },
  {
   "cell_type": "markdown",
   "metadata": {},
   "source": [
    "--------------------------------------"
   ]
  },
  {
   "cell_type": "markdown",
   "metadata": {},
   "source": [
    "Since the other methods take longer, one might want to run them on a GPU."
   ]
  },
  {
   "cell_type": "markdown",
   "metadata": {},
   "source": [
    "## 3 Integration with scGen <a class=\"anchor\" id=\"scgen\"></a>"
   ]
  },
  {
   "cell_type": "code",
   "execution_count": 4,
   "metadata": {},
   "outputs": [
    {
     "name": "stderr",
     "output_type": "stream",
     "text": [
      "WARNING:jax._src.xla_bridge:No GPU/TPU found, falling back to CPU. (Set TF_CPP_MIN_LOG_LEVEL=0 and rerun for more info.)\n",
      "INFO:pytorch_lightning.utilities.rank_zero:GPU available: False, used: False\n",
      "INFO:pytorch_lightning.utilities.rank_zero:TPU available: False, using: 0 TPU cores\n",
      "INFO:pytorch_lightning.utilities.rank_zero:IPU available: False, using: 0 IPUs\n",
      "INFO:pytorch_lightning.utilities.rank_zero:HPU available: False, using: 0 HPUs\n"
     ]
    },
    {
     "name": "stdout",
     "output_type": "stream",
     "text": [
      "Epoch 10/100:   9%|▉         | 9/100 [00:31<03:51,  2.55s/it, v_num=1, train_loss_step=6.52e+4, train_loss_epoch=1.36e+5]"
     ]
    }
   ],
   "source": [
    "# correct for nested batch effects on low level\n",
    "adata_scgen_per_source = scgen_integration(adata, batch=\"Metadata_Plate\", labels=\"Metadata_JCP2022\", hierarchical=\"Metadata_Source\")"
   ]
  },
  {
   "cell_type": "code",
   "execution_count": null,
   "metadata": {},
   "outputs": [],
   "source": [
    "adata_scgen_per_source.write_h5ad(f\"{data_path}scgen_low.h5ad\")"
   ]
  },
  {
   "cell_type": "code",
   "execution_count": 57,
   "metadata": {},
   "outputs": [
    {
     "name": "stderr",
     "output_type": "stream",
     "text": [
      "INFO:pytorch_lightning.utilities.rank_zero:GPU available: False, used: False\n",
      "INFO:pytorch_lightning.utilities.rank_zero:TPU available: False, using: 0 TPU cores\n",
      "INFO:pytorch_lightning.utilities.rank_zero:IPU available: False, using: 0 IPUs\n",
      "INFO:pytorch_lightning.utilities.rank_zero:HPU available: False, using: 0 HPUs\n"
     ]
    },
    {
     "name": "stdout",
     "output_type": "stream",
     "text": [
      "Epoch 26/100:  26%|██▌       | 26/100 [14:21<40:51, 33.12s/it, v_num=1, train_loss_step=0.0424, train_loss_epoch=0.421]\n",
      "Monitored metric elbo_validation did not improve in the last 25 records. Best score: 226.901. Signaling Trainer to stop.\n",
      "\u001b[34mINFO    \u001b[0m Input AnnData not setup with scvi-tools. attempting to transfer AnnData setup                             \n"
     ]
    }
   ],
   "source": [
    "# correct for nested batch effects on high level\n",
    "adata_scgen_overall = scgen_integration(reset_corrected_anndata(adata_scgen_per_source), batch=\"Metadata_Source\", labels=\"Metadata_JCP2022\")"
   ]
  },
  {
   "cell_type": "code",
   "execution_count": null,
   "metadata": {},
   "outputs": [],
   "source": [
    "adata_scgen_overall.write_h5ad(f\"{data_path}scgen_high.h5ad\")"
   ]
  },
  {
   "cell_type": "code",
   "execution_count": null,
   "metadata": {},
   "outputs": [],
   "source": [
    "# correct for source directly\n",
    "adata_scgen = scgen_integration(adata, batch=\"Metadata_Source\", labels=\"Metadata_JCP2022\")"
   ]
  },
  {
   "cell_type": "code",
   "execution_count": null,
   "metadata": {},
   "outputs": [],
   "source": [
    "adata_scgen.write_h5ad(f\"{data_path}scgen.h5ad\")"
   ]
  },
  {
   "cell_type": "markdown",
   "metadata": {},
   "source": [
    "## 4 Integration with scanVI <a class=\"anchor\" id=\"scanvi\"></a>"
   ]
  },
  {
   "cell_type": "code",
   "execution_count": null,
   "metadata": {},
   "outputs": [],
   "source": [
    "# correct for nested batch effects on low level\n",
    "adata_scanvi_per_source = scanvi_integration(adata, batch=\"Metadata_Plate\", labels=\"Metadata_JCP2022\", hierarchical=\"Metadata_Source\")"
   ]
  },
  {
   "cell_type": "code",
   "execution_count": null,
   "metadata": {},
   "outputs": [],
   "source": [
    "adata_scanvi_per_source.write_h5ad(f\"{data_path}scanvi_low.h5ad\")"
   ]
  },
  {
   "cell_type": "code",
   "execution_count": null,
   "metadata": {},
   "outputs": [],
   "source": [
    "# correct for nested batch effects on high level\n",
    "adata_scanvi_overall = scanvi_integration(reset_corrected_anndata(adata_scanvi_per_source), batch=\"Metadata_Source\", labels=\"Metadata_JCP2022\")"
   ]
  },
  {
   "cell_type": "code",
   "execution_count": null,
   "metadata": {},
   "outputs": [],
   "source": [
    "adata_scanvi_overall.write_h5ad(f\"{data_path}scanvi_high.h5ad\")"
   ]
  },
  {
   "cell_type": "code",
   "execution_count": null,
   "metadata": {},
   "outputs": [],
   "source": [
    "# correct for source directly\n",
    "adata_scanvi = scanvi_integration(adata, batch=\"Metadata_Source\", labels=\"Metadata_JCP2022\")"
   ]
  },
  {
   "cell_type": "code",
   "execution_count": null,
   "metadata": {},
   "outputs": [],
   "source": [
    "adata_scanvi.write_h5ad(f\"{data_path}scanvi.h5ad\")"
   ]
  },
  {
   "cell_type": "markdown",
   "metadata": {},
   "source": [
    "## 5 Integration with scVI <a class=\"anchor\" id=\"scvi\"></a>"
   ]
  },
  {
   "cell_type": "code",
   "execution_count": null,
   "metadata": {},
   "outputs": [],
   "source": [
    "# correct for nested batch effects on low level\n",
    "adata_scvi_per_source = scvi_integration(adata, batch=\"Metadata_Plate\", hierarchical=\"Metadata_Source\")"
   ]
  },
  {
   "cell_type": "code",
   "execution_count": null,
   "metadata": {},
   "outputs": [],
   "source": [
    "adata_scvi_per_source.write_h5ad(f\"{data_path}scvi_low.h5ad\")"
   ]
  },
  {
   "cell_type": "code",
   "execution_count": null,
   "metadata": {},
   "outputs": [],
   "source": [
    "# correct for nested batch effects on high level\n",
    "adata_scvi_overall = scvi_integration(reset_corrected_anndata(adata_scvi_per_source), batch=\"Metadata_Source\")"
   ]
  },
  {
   "cell_type": "code",
   "execution_count": null,
   "metadata": {},
   "outputs": [],
   "source": [
    "adata_scvi_overall.write_h5ad(f\"{data_path}scvi_high.h5ad\")"
   ]
  },
  {
   "cell_type": "code",
   "execution_count": null,
   "metadata": {},
   "outputs": [],
   "source": [
    "# correct for source directly\n",
    "adata_scvi = scvi_integration(adata, batch=\"Metadata_Source\")"
   ]
  },
  {
   "cell_type": "code",
   "execution_count": null,
   "metadata": {},
   "outputs": [],
   "source": [
    "adata_scvi.write_h5ad(f\"{data_path}scvi.h5ad\")"
   ]
  }
 ],
 "metadata": {
  "kernelspec": {
   "display_name": "mp",
   "language": "python",
   "name": "python3"
  },
  "language_info": {
   "codemirror_mode": {
    "name": "ipython",
    "version": 3
   },
   "file_extension": ".py",
   "mimetype": "text/x-python",
   "name": "python",
   "nbconvert_exporter": "python",
   "pygments_lexer": "ipython3",
   "version": "3.9.16"
  },
  "orig_nbformat": 4
 },
 "nbformat": 4,
 "nbformat_minor": 2
}
